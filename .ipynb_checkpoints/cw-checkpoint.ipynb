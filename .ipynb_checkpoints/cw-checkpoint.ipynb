{
 "cells": [
  {
   "cell_type": "code",
   "execution_count": 21,
   "id": "f1c6b1fb",
   "metadata": {},
   "outputs": [],
   "source": [
    "#import modules\n",
    "import sklearn as sk\n",
    "import numpy as np\n",
    "import tensorflow as tf\n",
    "import matplotlib as plt\n",
    "import pandas as pd"
   ]
  },
  {
   "cell_type": "markdown",
   "id": "e3c15e9e",
   "metadata": {},
   "source": [
    "# REGRESSION"
   ]
  },
  {
   "cell_type": "code",
   "execution_count": 10,
   "id": "aae3d24b",
   "metadata": {},
   "outputs": [],
   "source": [
    "# import regression data set\n",
    "winedata=pd.read_csv('winequality-red.csv', index_col=False)\n"
   ]
  },
  {
   "cell_type": "code",
   "execution_count": null,
   "id": "c194559e",
   "metadata": {},
   "outputs": [],
   "source": [
    "# clean data"
   ]
  },
  {
   "cell_type": "code",
   "execution_count": null,
   "id": "c012791a",
   "metadata": {},
   "outputs": [],
   "source": [
    "# logistic regression"
   ]
  },
  {
   "cell_type": "code",
   "execution_count": null,
   "id": "262d3828",
   "metadata": {},
   "outputs": [],
   "source": [
    "# support vector machines"
   ]
  },
  {
   "cell_type": "code",
   "execution_count": null,
   "id": "0dd2085e",
   "metadata": {},
   "outputs": [],
   "source": [
    "# decision trees and multi-layer"
   ]
  },
  {
   "cell_type": "code",
   "execution_count": null,
   "id": "fef4f33f",
   "metadata": {},
   "outputs": [],
   "source": [
    "# perceptron neural network."
   ]
  },
  {
   "cell_type": "code",
   "execution_count": null,
   "id": "bc3d6295",
   "metadata": {},
   "outputs": [],
   "source": [
    "# evaluation"
   ]
  },
  {
   "cell_type": "markdown",
   "id": "5299f69c",
   "metadata": {},
   "source": [
    "# CLASSIFICATION"
   ]
  },
  {
   "cell_type": "code",
   "execution_count": 46,
   "id": "53123947",
   "metadata": {},
   "outputs": [
    {
     "data": {
      "text/plain": [
       "Age                  0\n",
       "Workclass         1836\n",
       "Fnlwgt               0\n",
       "Education            0\n",
       "Education-num        0\n",
       "Marital-Status       0\n",
       "Occupation        1843\n",
       "Relationship         0\n",
       "Race                 0\n",
       "Sex                  0\n",
       "Capital-gain         0\n",
       "Capital-loss         0\n",
       "Hours-per-week       0\n",
       "Native-country     583\n",
       "Sum                  0\n",
       "dtype: int64"
      ]
     },
     "execution_count": 46,
     "metadata": {},
     "output_type": "execute_result"
    }
   ],
   "source": [
    "# import classifcation data set\n",
    "df=pd.read_csv('adult.csv', index_col=False)\n",
    "df.isnull().sum()"
   ]
  },
  {
   "cell_type": "code",
   "execution_count": 47,
   "id": "9c113e4d",
   "metadata": {},
   "outputs": [
    {
     "data": {
      "text/plain": [
       "Age                 0\n",
       "Workclass           0\n",
       "Fnlwgt              0\n",
       "Education           0\n",
       "Education-num       0\n",
       "Marital-Status      0\n",
       "Occupation          0\n",
       "Relationship        0\n",
       "Race                0\n",
       "Sex                 0\n",
       "Capital-gain        0\n",
       "Capital-loss        0\n",
       "Hours-per-week      0\n",
       "Native-country    556\n",
       "Sum                 0\n",
       "dtype: int64"
      ]
     },
     "execution_count": 47,
     "metadata": {},
     "output_type": "execute_result"
    }
   ],
   "source": [
    "# clean data\n",
    "#df.isnull().sum()\n",
    "df.dropna()\n",
    "dfclean.isnull().sum()\n",
    "\n",
    "#data_mean = df.iloc[:, :]\n",
    "#data_mean.plot(kind='box', subplots=True, layout=(8,4), sharex=False,\n",
    "#sharey=False, fontsize=12, figsize=(15,20))"
   ]
  },
  {
   "cell_type": "code",
   "execution_count": 25,
   "id": "9bcfe0a1",
   "metadata": {},
   "outputs": [],
   "source": [
    "# logistic regression"
   ]
  },
  {
   "cell_type": "code",
   "execution_count": null,
   "id": "a76fa28b",
   "metadata": {},
   "outputs": [],
   "source": [
    "# support vector machines"
   ]
  },
  {
   "cell_type": "code",
   "execution_count": null,
   "id": "690ed46b",
   "metadata": {},
   "outputs": [],
   "source": [
    "# decision trees and multi-layer"
   ]
  },
  {
   "cell_type": "code",
   "execution_count": null,
   "id": "bbaad054",
   "metadata": {},
   "outputs": [],
   "source": [
    "# perceptron neural network."
   ]
  },
  {
   "cell_type": "code",
   "execution_count": null,
   "id": "beab0df7",
   "metadata": {},
   "outputs": [],
   "source": [
    "# evaluation"
   ]
  }
 ],
 "metadata": {
  "kernelspec": {
   "display_name": "Python 3 (ipykernel)",
   "language": "python",
   "name": "python3"
  },
  "language_info": {
   "codemirror_mode": {
    "name": "ipython",
    "version": 3
   },
   "file_extension": ".py",
   "mimetype": "text/x-python",
   "name": "python",
   "nbconvert_exporter": "python",
   "pygments_lexer": "ipython3",
   "version": "3.7.13"
  }
 },
 "nbformat": 4,
 "nbformat_minor": 5
}
