{
 "cells": [
  {
   "cell_type": "markdown",
   "id": "4acf927f",
   "metadata": {
    "tags": []
   },
   "source": [
    "## Imports"
   ]
  },
  {
   "cell_type": "code",
   "execution_count": 1,
   "id": "aedbcdbf-8ee5-49c5-bcf8-1e2676186d5f",
   "metadata": {},
   "outputs": [],
   "source": [
    "import warnings\n",
    "warnings.filterwarnings('ignore')\n",
    "#Ignore future version warning (version warning)"
   ]
  },
  {
   "cell_type": "code",
   "execution_count": 2,
   "id": "f1c6b1fb",
   "metadata": {},
   "outputs": [],
   "source": [
    "#import modules\n",
    "import sklearn as sk\n",
    "import seaborn as sns\n",
    "import numpy as np\n",
    "import keras_tuner as kt\n",
    "import tensorflow as tf\n",
    "import matplotlib.pyplot as plt\n",
    "import pandas as pd\n",
    "from sklearn.feature_selection import SelectKBest, f_classif\n",
    "from sklearn.neural_network import MLPRegressor\n",
    "from sklearn.pipeline import Pipeline\n",
    "from sklearn.preprocessing import LabelEncoder\n",
    "from sklearn import preprocessing\n",
    "from sklearn.svm import SVC, LinearSVC\n",
    "from sklearn.svm import SVR, LinearSVR\n",
    "from sklearn.model_selection import train_test_split, cross_val_score, cross_validate\n",
    "from sklearn.linear_model import LinearRegression, LogisticRegression\n",
    "from sklearn.metrics import r2_score, accuracy_score\n",
    "from sklearn.metrics import classification_report\n",
    "from sklearn.tree import DecisionTreeClassifier, DecisionTreeRegressor\n",
    "from sklearn.preprocessing import StandardScaler\n",
    "from sklearn.ensemble import RandomForestClassifier\n",
    "from sklearn.model_selection import GridSearchCV\n",
    "from sklearn.neural_network import MLPClassifier\n",
    "from tensorflow import keras\n",
    "from sklearn.decomposition import PCA\n",
    "from sklearn.preprocessing import MinMaxScaler"
   ]
  },
  {
   "cell_type": "markdown",
   "id": "e3c15e9e",
   "metadata": {
    "tags": []
   },
   "source": [
    "# REGRESSION"
   ]
  },
  {
   "cell_type": "markdown",
   "id": "46ea2e27-f70b-47f2-969d-cf7f3d6d0fcd",
   "metadata": {
    "tags": []
   },
   "source": [
    "## Data Preprocessing & Feature selection"
   ]
  },
  {
   "cell_type": "code",
   "execution_count": 3,
   "id": "99ab08fe-5f62-47c1-9baf-6e806c886ffe",
   "metadata": {},
   "outputs": [],
   "source": [
    "def get_best_n(df_input,model):\n",
    "    scaler = StandardScaler()\n",
    "    best = 0\n",
    "    n_pca = 0\n",
    "    scaler.fit(df_input)\n",
    "    scaled_data = scaler.transform(df_input)\n",
    "    for i, val in enumerate(range(len(scaled_data[1]))):\n",
    "        if i == 0:\n",
    "            i = 1\n",
    "        pca = PCA(n_components = i)\n",
    "        pca.fit(scaled_data)\n",
    "        x_pca = pca.transform(scaled_data)\n",
    "        nX_train, nX_test, ny_train, ny_test = train_test_split(x_pca,df_result, test_size=0.3, random_state=123)\n",
    "        n_model = model\n",
    "        n_model = n_model.fit(nX_train, ny_train)\n",
    "        val = n_model.score(nX_test,ny_test)\n",
    "        if abs(val) > abs(best):\n",
    "            best = val\n",
    "            n_pca = i\n",
    "    return (n_pca,best)"
   ]
  },
  {
   "cell_type": "code",
   "execution_count": 4,
   "id": "595407e5-97de-426e-9991-16cad2bc9278",
   "metadata": {},
   "outputs": [],
   "source": [
    "def best_pre_process(data,model,to_drop):\n",
    "    proc_1 = get_best_n(data,model)\n",
    "    val_1 = proc_1[1]\n",
    "    df_proc_2 = data.drop(to_drop,axis=1)\n",
    "    proc_2 = get_best_n(df_proc_2,model)\n",
    "    val_2 = proc_2[1]\n",
    "    if val_1 > val_2:\n",
    "        return (proc_1[0],\"Only PCA\")\n",
    "    else:\n",
    "        return (proc_2[0],\"Pairwise & PCA\")"
   ]
  },
  {
   "cell_type": "code",
   "execution_count": 5,
   "id": "be305be2-b4c0-40ef-ad0f-678ef531d7fe",
   "metadata": {},
   "outputs": [],
   "source": [
    "df_regressionData = pd.read_excel(\"trainDataset.xls\", usecols = ['RelapseFreeSurvival (outcome)','Age','original_shape_Elongation','original_shape_Flatness','original_shape_LeastAxisLength','original_shape_MajorAxisLength','original_shape_Maximum2DDiameterColumn','original_shape_Maximum2DDiameterRow','original_shape_Maximum2DDiameterSlice','original_shape_Maximum3DDiameter','original_shape_MeshVolume','original_shape_MinorAxisLength','original_shape_Sphericity','original_shape_SurfaceArea','original_shape_SurfaceVolumeRatio','original_shape_VoxelVolume','original_firstorder_10Percentile','original_firstorder_90Percentile','original_firstorder_Energy','original_firstorder_Entropy','original_firstorder_InterquartileRange','original_firstorder_Kurtosis','original_firstorder_Maximum','original_firstorder_MeanAbsoluteDeviation','original_firstorder_Mean','original_firstorder_Median','original_firstorder_Minimum','original_firstorder_Range','original_firstorder_RobustMeanAbsoluteDeviation','original_firstorder_RootMeanSquared','original_firstorder_Skewness','original_firstorder_TotalEnergy','original_firstorder_Uniformity','original_firstorder_Variance','original_glcm_Autocorrelation','original_glcm_ClusterProminence','original_glcm_ClusterShade','original_glcm_ClusterTendency','original_glcm_Contrast','original_glcm_Correlation','original_glcm_DifferenceAverage','original_glcm_DifferenceEntropy','original_glcm_DifferenceVariance','original_glcm_Id','original_glcm_Idm','original_glcm_Idmn','original_glcm_Idn','original_glcm_Imc1','original_glcm_Imc2','original_glcm_InverseVariance','original_glcm_JointAverage','original_glcm_JointEnergy','original_glcm_JointEntropy','original_glcm_MCC','original_glcm_MaximumProbability','original_glcm_SumAverage','original_glcm_SumEntropy','original_glcm_SumSquares','original_gldm_DependenceEntropy','original_gldm_DependenceNonUniformity','original_gldm_DependenceNonUniformityNormalized','original_gldm_DependenceVariance','original_gldm_GrayLevelNonUniformity','original_gldm_GrayLevelVariance','original_gldm_HighGrayLevelEmphasis','original_gldm_LargeDependenceEmphasis','original_gldm_LargeDependenceHighGrayLevelEmphasis','original_gldm_LargeDependenceLowGrayLevelEmphasis','original_gldm_LowGrayLevelEmphasis','original_gldm_SmallDependenceEmphasis','original_gldm_SmallDependenceHighGrayLevelEmphasis','original_gldm_SmallDependenceLowGrayLevelEmphasis','original_glrlm_GrayLevelNonUniformity','original_glrlm_GrayLevelNonUniformityNormalized','original_glrlm_GrayLevelVariance','original_glrlm_HighGrayLevelRunEmphasis','original_glrlm_LongRunEmphasis','original_glrlm_LongRunHighGrayLevelEmphasis','original_glrlm_LongRunLowGrayLevelEmphasis','original_glrlm_LowGrayLevelRunEmphasis','original_glrlm_RunEntropy','original_glrlm_RunLengthNonUniformity','original_glrlm_RunLengthNonUniformityNormalized','original_glrlm_RunPercentage','original_glrlm_RunVariance','original_glrlm_ShortRunEmphasis','original_glrlm_ShortRunHighGrayLevelEmphasis','original_glrlm_ShortRunLowGrayLevelEmphasis','original_glszm_GrayLevelNonUniformity','original_glszm_GrayLevelNonUniformityNormalized','original_glszm_GrayLevelVariance','original_glszm_HighGrayLevelZoneEmphasis','original_glszm_LargeAreaEmphasis','original_glszm_LargeAreaHighGrayLevelEmphasis','original_glszm_LargeAreaLowGrayLevelEmphasis','original_glszm_LowGrayLevelZoneEmphasis','original_glszm_SizeZoneNonUniformity','original_glszm_SizeZoneNonUniformityNormalized','original_glszm_SmallAreaEmphasis','original_glszm_SmallAreaHighGrayLevelEmphasis','original_glszm_SmallAreaLowGrayLevelEmphasis','original_glszm_ZoneEntropy','original_glszm_ZonePercentage','original_glszm_ZoneVariance','original_ngtdm_Busyness','original_ngtdm_Coarseness','original_ngtdm_Complexity','original_ngtdm_Contrast','original_ngtdm_Strength'])\n",
    "df_regressionData = df_regressionData.replace(999, np.nan)"
   ]
  },
  {
   "cell_type": "code",
   "execution_count": 6,
   "id": "d0ce1a71-b271-4875-aa74-32b7c0b4529a",
   "metadata": {},
   "outputs": [
    {
     "data": {
      "text/plain": [
       "array([dtype('float64'), dtype('int64')], dtype=object)"
      ]
     },
     "execution_count": 6,
     "metadata": {},
     "output_type": "execute_result"
    }
   ],
   "source": [
    "df_regressionData.dtypes.unique()"
   ]
  },
  {
   "cell_type": "code",
   "execution_count": 7,
   "id": "cd981301-dd10-4786-a506-75989e908cf2",
   "metadata": {},
   "outputs": [
    {
     "data": {
      "text/plain": [
       "(400, 109)"
      ]
     },
     "execution_count": 7,
     "metadata": {},
     "output_type": "execute_result"
    }
   ],
   "source": [
    "df_regressionData.shape"
   ]
  },
  {
   "cell_type": "code",
   "execution_count": 8,
   "id": "04fee9fe-4a00-43db-aa6d-9d0980e22ad8",
   "metadata": {},
   "outputs": [
    {
     "data": {
      "text/plain": [
       "0"
      ]
     },
     "execution_count": 8,
     "metadata": {},
     "output_type": "execute_result"
    }
   ],
   "source": [
    "df_regressionData.isna().sum().sum()"
   ]
  },
  {
   "cell_type": "code",
   "execution_count": 9,
   "id": "19298a21-46fe-4a40-8e4c-019b1f77c64b",
   "metadata": {},
   "outputs": [],
   "source": [
    "df_result = df_regressionData.iloc[:, 0]"
   ]
  },
  {
   "cell_type": "code",
   "execution_count": 10,
   "id": "280739c3-5c9c-4c0d-abc1-4111533a6b3f",
   "metadata": {},
   "outputs": [],
   "source": [
    "scaler = MinMaxScaler()\n",
    "df_regressionData = pd.DataFrame(scaler.fit_transform(df_regressionData),columns=df_regressionData.columns,index=df_regressionData.index)"
   ]
  },
  {
   "cell_type": "code",
   "execution_count": 11,
   "id": "75cd2edb-c31b-48c2-a6c2-34954f74a201",
   "metadata": {},
   "outputs": [],
   "source": [
    "df_input = df_regressionData.iloc[:, 1:]"
   ]
  },
  {
   "cell_type": "code",
   "execution_count": 12,
   "id": "31677bca-f258-428e-8941-a776c2a96a64",
   "metadata": {},
   "outputs": [],
   "source": [
    "to_drop = ['original_shape_Maximum2DDiameterSlice',\n",
    "            'original_shape_SurfaceArea',\n",
    "            'original_firstorder_Energy',\n",
    "            'original_firstorder_Mean',\n",
    "            'original_firstorder_MeanAbsoluteDeviation',\n",
    "            'original_firstorder_Uniformity',\n",
    "            'original_firstorder_Entropy',\n",
    "            'original_firstorder_Median', \n",
    "            'original_shape_VoxelVolume',\n",
    "            'original_glcm_ClusterProminence',\n",
    "            'original_glcm_ClusterTendency',\n",
    "            'original_firstorder_Variance',\n",
    "            'original_glcm_Contrast',\n",
    "            'original_glcm_DifferenceAverage',\n",
    "            'original_glcm_DifferenceVariance',\n",
    "            'original_glcm_Id',\n",
    "            'original_glcm_Idm',\n",
    "            'original_glcm_Idmn',\n",
    "            'original_glcm_DifferenceEntropy',\n",
    "            'original_glcm_Idn',\n",
    "            'original_glcm_JointEnergy',\n",
    "            'original_glcm_JointEntropy',\n",
    "            'original_glcm_SumEntropy',\n",
    "            'original_glcm_SumSquares',\n",
    "            'original_glcm_MaximumProbability',\n",
    "            'original_gldm_LowGrayLevelEmphasis',\n",
    "            'original_glrlm_GrayLevelNonUniformityNormalized',\n",
    "            'original_gldm_HighGrayLevelEmphasis',\n",
    "            'original_glrlm_GrayLevelNonUniformity',\n",
    "            'original_glrlm_LongRunHighGrayLevelEmphasis',\n",
    "            'original_gldm_GrayLevelNonUniformity',\n",
    "            'original_gldm_GrayLevelVariance',\n",
    "            'original_gldm_LargeDependenceEmphasis',\n",
    "            'original_gldm_LargeDependenceHighGrayLevelEmphasis',\n",
    "            'original_gldm_LargeDependenceLowGrayLevelEmphasis',\n",
    "            'original_glrlm_GrayLevelVariance',\n",
    "            'original_glszm_LowGrayLevelZoneEmphasis',\n",
    "            'original_glrlm_ShortRunEmphasis',\n",
    "            'original_glszm_SmallAreaLowGrayLevelEmphasis',\n",
    "            'original_glrlm_LongRunEmphasis',\n",
    "            'original_glszm_LargeAreaHighGrayLevelEmphasis',\n",
    "            'original_ngtdm_Complexity',\n",
    "            'original_ngtdm_Coarseness',\n",
    "            'original_ngtdm_Contrast',\n",
    "            'original_glcm_SumAverage'\n",
    "            ]"
   ]
  },
  {
   "cell_type": "code",
   "execution_count": 13,
   "id": "74897455-c845-4429-bcae-606e3b131b55",
   "metadata": {},
   "outputs": [],
   "source": [
    "df_corr_drop = df_input.drop(to_drop,axis=1)"
   ]
  },
  {
   "cell_type": "markdown",
   "id": "1ed45b1b-e3db-46d4-9858-b9fd2f20a902",
   "metadata": {
    "tags": []
   },
   "source": [
    "## Linear Regression"
   ]
  },
  {
   "cell_type": "code",
   "execution_count": 14,
   "id": "b50d4d30-af1e-473b-a23d-f3166b7328e7",
   "metadata": {},
   "outputs": [
    {
     "data": {
      "text/plain": [
       "(38, 'Pairwise & PCA')"
      ]
     },
     "execution_count": 14,
     "metadata": {},
     "output_type": "execute_result"
    }
   ],
   "source": [
    "result = best_pre_process(df_input,LinearRegression(),to_drop)\n",
    "result"
   ]
  },
  {
   "cell_type": "code",
   "execution_count": 15,
   "id": "15d28542-7aa7-4fb2-9b63-c3762db49580",
   "metadata": {},
   "outputs": [],
   "source": [
    "pca = PCA(n_components = result[0])\n",
    "if result[1] == \"Pairwise & PCA\":\n",
    "    pca.fit(df_corr_drop)\n",
    "    x_pca = pca.transform(df_corr_drop)\n",
    "else:\n",
    "    pca.fit(df_input)\n",
    "    x_pca = pca.transform(df_input)"
   ]
  },
  {
   "cell_type": "code",
   "execution_count": 16,
   "id": "f9a9dfe9-e37c-4025-8877-c50c34c97c42",
   "metadata": {},
   "outputs": [
    {
     "data": {
      "text/html": [
       "<style>#sk-container-id-1 {color: black;background-color: white;}#sk-container-id-1 pre{padding: 0;}#sk-container-id-1 div.sk-toggleable {background-color: white;}#sk-container-id-1 label.sk-toggleable__label {cursor: pointer;display: block;width: 100%;margin-bottom: 0;padding: 0.3em;box-sizing: border-box;text-align: center;}#sk-container-id-1 label.sk-toggleable__label-arrow:before {content: \"▸\";float: left;margin-right: 0.25em;color: #696969;}#sk-container-id-1 label.sk-toggleable__label-arrow:hover:before {color: black;}#sk-container-id-1 div.sk-estimator:hover label.sk-toggleable__label-arrow:before {color: black;}#sk-container-id-1 div.sk-toggleable__content {max-height: 0;max-width: 0;overflow: hidden;text-align: left;background-color: #f0f8ff;}#sk-container-id-1 div.sk-toggleable__content pre {margin: 0.2em;color: black;border-radius: 0.25em;background-color: #f0f8ff;}#sk-container-id-1 input.sk-toggleable__control:checked~div.sk-toggleable__content {max-height: 200px;max-width: 100%;overflow: auto;}#sk-container-id-1 input.sk-toggleable__control:checked~label.sk-toggleable__label-arrow:before {content: \"▾\";}#sk-container-id-1 div.sk-estimator input.sk-toggleable__control:checked~label.sk-toggleable__label {background-color: #d4ebff;}#sk-container-id-1 div.sk-label input.sk-toggleable__control:checked~label.sk-toggleable__label {background-color: #d4ebff;}#sk-container-id-1 input.sk-hidden--visually {border: 0;clip: rect(1px 1px 1px 1px);clip: rect(1px, 1px, 1px, 1px);height: 1px;margin: -1px;overflow: hidden;padding: 0;position: absolute;width: 1px;}#sk-container-id-1 div.sk-estimator {font-family: monospace;background-color: #f0f8ff;border: 1px dotted black;border-radius: 0.25em;box-sizing: border-box;margin-bottom: 0.5em;}#sk-container-id-1 div.sk-estimator:hover {background-color: #d4ebff;}#sk-container-id-1 div.sk-parallel-item::after {content: \"\";width: 100%;border-bottom: 1px solid gray;flex-grow: 1;}#sk-container-id-1 div.sk-label:hover label.sk-toggleable__label {background-color: #d4ebff;}#sk-container-id-1 div.sk-serial::before {content: \"\";position: absolute;border-left: 1px solid gray;box-sizing: border-box;top: 0;bottom: 0;left: 50%;z-index: 0;}#sk-container-id-1 div.sk-serial {display: flex;flex-direction: column;align-items: center;background-color: white;padding-right: 0.2em;padding-left: 0.2em;position: relative;}#sk-container-id-1 div.sk-item {position: relative;z-index: 1;}#sk-container-id-1 div.sk-parallel {display: flex;align-items: stretch;justify-content: center;background-color: white;position: relative;}#sk-container-id-1 div.sk-item::before, #sk-container-id-1 div.sk-parallel-item::before {content: \"\";position: absolute;border-left: 1px solid gray;box-sizing: border-box;top: 0;bottom: 0;left: 50%;z-index: -1;}#sk-container-id-1 div.sk-parallel-item {display: flex;flex-direction: column;z-index: 1;position: relative;background-color: white;}#sk-container-id-1 div.sk-parallel-item:first-child::after {align-self: flex-end;width: 50%;}#sk-container-id-1 div.sk-parallel-item:last-child::after {align-self: flex-start;width: 50%;}#sk-container-id-1 div.sk-parallel-item:only-child::after {width: 0;}#sk-container-id-1 div.sk-dashed-wrapped {border: 1px dashed gray;margin: 0 0.4em 0.5em 0.4em;box-sizing: border-box;padding-bottom: 0.4em;background-color: white;}#sk-container-id-1 div.sk-label label {font-family: monospace;font-weight: bold;display: inline-block;line-height: 1.2em;}#sk-container-id-1 div.sk-label-container {text-align: center;}#sk-container-id-1 div.sk-container {/* jupyter's `normalize.less` sets `[hidden] { display: none; }` but bootstrap.min.css set `[hidden] { display: none !important; }` so we also need the `!important` here to be able to override the default hidden behavior on the sphinx rendered scikit-learn.org. See: https://github.com/scikit-learn/scikit-learn/issues/21755 */display: inline-block !important;position: relative;}#sk-container-id-1 div.sk-text-repr-fallback {display: none;}</style><div id=\"sk-container-id-1\" class=\"sk-top-container\"><div class=\"sk-text-repr-fallback\"><pre>GridSearchCV(cv=10, estimator=LinearRegression(),\n",
       "             param_grid={&#x27;fit_intercept&#x27;: [False, True],\n",
       "                         &#x27;n_jobs&#x27;: [0, 1, 10, 50]},\n",
       "             scoring=&#x27;neg_mean_absolute_error&#x27;)</pre><b>In a Jupyter environment, please rerun this cell to show the HTML representation or trust the notebook. <br />On GitHub, the HTML representation is unable to render, please try loading this page with nbviewer.org.</b></div><div class=\"sk-container\" hidden><div class=\"sk-item sk-dashed-wrapped\"><div class=\"sk-label-container\"><div class=\"sk-label sk-toggleable\"><input class=\"sk-toggleable__control sk-hidden--visually\" id=\"sk-estimator-id-1\" type=\"checkbox\" ><label for=\"sk-estimator-id-1\" class=\"sk-toggleable__label sk-toggleable__label-arrow\">GridSearchCV</label><div class=\"sk-toggleable__content\"><pre>GridSearchCV(cv=10, estimator=LinearRegression(),\n",
       "             param_grid={&#x27;fit_intercept&#x27;: [False, True],\n",
       "                         &#x27;n_jobs&#x27;: [0, 1, 10, 50]},\n",
       "             scoring=&#x27;neg_mean_absolute_error&#x27;)</pre></div></div></div><div class=\"sk-parallel\"><div class=\"sk-parallel-item\"><div class=\"sk-item\"><div class=\"sk-label-container\"><div class=\"sk-label sk-toggleable\"><input class=\"sk-toggleable__control sk-hidden--visually\" id=\"sk-estimator-id-2\" type=\"checkbox\" ><label for=\"sk-estimator-id-2\" class=\"sk-toggleable__label sk-toggleable__label-arrow\">estimator: LinearRegression</label><div class=\"sk-toggleable__content\"><pre>LinearRegression()</pre></div></div></div><div class=\"sk-serial\"><div class=\"sk-item\"><div class=\"sk-estimator sk-toggleable\"><input class=\"sk-toggleable__control sk-hidden--visually\" id=\"sk-estimator-id-3\" type=\"checkbox\" ><label for=\"sk-estimator-id-3\" class=\"sk-toggleable__label sk-toggleable__label-arrow\">LinearRegression</label><div class=\"sk-toggleable__content\"><pre>LinearRegression()</pre></div></div></div></div></div></div></div></div></div></div>"
      ],
      "text/plain": [
       "GridSearchCV(cv=10, estimator=LinearRegression(),\n",
       "             param_grid={'fit_intercept': [False, True],\n",
       "                         'n_jobs': [0, 1, 10, 50]},\n",
       "             scoring='neg_mean_absolute_error')"
      ]
     },
     "execution_count": 16,
     "metadata": {},
     "output_type": "execute_result"
    }
   ],
   "source": [
    "gs_linreg = GridSearchCV(LinearRegression(),{\n",
    "    'fit_intercept': [False,True], #Default = False\n",
    "    'n_jobs': [0,1,10,50],\n",
    "}, cv=10, return_train_score=False, scoring = 'neg_mean_absolute_error')\n",
    "gs_linreg.fit(x_pca, df_result)"
   ]
  },
  {
   "cell_type": "code",
   "execution_count": 17,
   "id": "6ca4c4e0-ab8e-4b17-a4c7-83ddc4d87b66",
   "metadata": {},
   "outputs": [
    {
     "data": {
      "text/html": [
       "<div>\n",
       "<style scoped>\n",
       "    .dataframe tbody tr th:only-of-type {\n",
       "        vertical-align: middle;\n",
       "    }\n",
       "\n",
       "    .dataframe tbody tr th {\n",
       "        vertical-align: top;\n",
       "    }\n",
       "\n",
       "    .dataframe thead th {\n",
       "        text-align: right;\n",
       "    }\n",
       "</style>\n",
       "<table border=\"1\" class=\"dataframe\">\n",
       "  <thead>\n",
       "    <tr style=\"text-align: right;\">\n",
       "      <th></th>\n",
       "      <th>param_fit_intercept</th>\n",
       "      <th>param_n_jobs</th>\n",
       "      <th>mean_test_score</th>\n",
       "    </tr>\n",
       "  </thead>\n",
       "  <tbody>\n",
       "    <tr>\n",
       "      <th>0</th>\n",
       "      <td>False</td>\n",
       "      <td>0</td>\n",
       "      <td>-78.909205</td>\n",
       "    </tr>\n",
       "    <tr>\n",
       "      <th>1</th>\n",
       "      <td>False</td>\n",
       "      <td>1</td>\n",
       "      <td>-78.909205</td>\n",
       "    </tr>\n",
       "    <tr>\n",
       "      <th>2</th>\n",
       "      <td>False</td>\n",
       "      <td>10</td>\n",
       "      <td>-78.909205</td>\n",
       "    </tr>\n",
       "    <tr>\n",
       "      <th>3</th>\n",
       "      <td>False</td>\n",
       "      <td>50</td>\n",
       "      <td>-78.909205</td>\n",
       "    </tr>\n",
       "    <tr>\n",
       "      <th>4</th>\n",
       "      <td>True</td>\n",
       "      <td>0</td>\n",
       "      <td>-23.680259</td>\n",
       "    </tr>\n",
       "    <tr>\n",
       "      <th>5</th>\n",
       "      <td>True</td>\n",
       "      <td>1</td>\n",
       "      <td>-23.680259</td>\n",
       "    </tr>\n",
       "    <tr>\n",
       "      <th>6</th>\n",
       "      <td>True</td>\n",
       "      <td>10</td>\n",
       "      <td>-23.680259</td>\n",
       "    </tr>\n",
       "    <tr>\n",
       "      <th>7</th>\n",
       "      <td>True</td>\n",
       "      <td>50</td>\n",
       "      <td>-23.680259</td>\n",
       "    </tr>\n",
       "  </tbody>\n",
       "</table>\n",
       "</div>"
      ],
      "text/plain": [
       "  param_fit_intercept param_n_jobs  mean_test_score\n",
       "0               False            0       -78.909205\n",
       "1               False            1       -78.909205\n",
       "2               False           10       -78.909205\n",
       "3               False           50       -78.909205\n",
       "4                True            0       -23.680259\n",
       "5                True            1       -23.680259\n",
       "6                True           10       -23.680259\n",
       "7                True           50       -23.680259"
      ]
     },
     "execution_count": 17,
     "metadata": {},
     "output_type": "execute_result"
    }
   ],
   "source": [
    "dfgs = pd.DataFrame(gs_linreg.cv_results_)\n",
    "dfgs[['param_fit_intercept','param_n_jobs', 'mean_test_score']]"
   ]
  },
  {
   "cell_type": "markdown",
   "id": "7828341a-f4ca-4f98-b41c-af679928d60d",
   "metadata": {
    "tags": []
   },
   "source": [
    "## Support Vector Machines"
   ]
  },
  {
   "cell_type": "code",
   "execution_count": 103,
   "id": "661372a4-6b63-4df9-aa3d-b9af0ff71707",
   "metadata": {},
   "outputs": [
    {
     "data": {
      "text/plain": [
       "(8, 'Pairwise & PCA')"
      ]
     },
     "execution_count": 103,
     "metadata": {},
     "output_type": "execute_result"
    }
   ],
   "source": [
    "result = best_pre_process(df_input,SVR(),to_drop)\n",
    "result"
   ]
  },
  {
   "cell_type": "code",
   "execution_count": 104,
   "id": "caf2ee29-cbd4-4510-8a16-5dba91d2fc48",
   "metadata": {},
   "outputs": [],
   "source": [
    "pca = PCA(n_components = 8)\n",
    "if result[1] == \"Pairwise & PCA\":\n",
    "    pca.fit(df_corr_drop)\n",
    "    x_pca = pca.transform(df_corr_drop)\n",
    "else:\n",
    "    pca.fit(df_input)\n",
    "    x_pca = pca.transform(df_input)"
   ]
  },
  {
   "cell_type": "code",
   "execution_count": 105,
   "id": "a5d4eaa2-0ae7-4f82-8978-70d932257367",
   "metadata": {},
   "outputs": [
    {
     "data": {
      "text/html": [
       "<style>#sk-container-id-23 {color: black;background-color: white;}#sk-container-id-23 pre{padding: 0;}#sk-container-id-23 div.sk-toggleable {background-color: white;}#sk-container-id-23 label.sk-toggleable__label {cursor: pointer;display: block;width: 100%;margin-bottom: 0;padding: 0.3em;box-sizing: border-box;text-align: center;}#sk-container-id-23 label.sk-toggleable__label-arrow:before {content: \"▸\";float: left;margin-right: 0.25em;color: #696969;}#sk-container-id-23 label.sk-toggleable__label-arrow:hover:before {color: black;}#sk-container-id-23 div.sk-estimator:hover label.sk-toggleable__label-arrow:before {color: black;}#sk-container-id-23 div.sk-toggleable__content {max-height: 0;max-width: 0;overflow: hidden;text-align: left;background-color: #f0f8ff;}#sk-container-id-23 div.sk-toggleable__content pre {margin: 0.2em;color: black;border-radius: 0.25em;background-color: #f0f8ff;}#sk-container-id-23 input.sk-toggleable__control:checked~div.sk-toggleable__content {max-height: 200px;max-width: 100%;overflow: auto;}#sk-container-id-23 input.sk-toggleable__control:checked~label.sk-toggleable__label-arrow:before {content: \"▾\";}#sk-container-id-23 div.sk-estimator input.sk-toggleable__control:checked~label.sk-toggleable__label {background-color: #d4ebff;}#sk-container-id-23 div.sk-label input.sk-toggleable__control:checked~label.sk-toggleable__label {background-color: #d4ebff;}#sk-container-id-23 input.sk-hidden--visually {border: 0;clip: rect(1px 1px 1px 1px);clip: rect(1px, 1px, 1px, 1px);height: 1px;margin: -1px;overflow: hidden;padding: 0;position: absolute;width: 1px;}#sk-container-id-23 div.sk-estimator {font-family: monospace;background-color: #f0f8ff;border: 1px dotted black;border-radius: 0.25em;box-sizing: border-box;margin-bottom: 0.5em;}#sk-container-id-23 div.sk-estimator:hover {background-color: #d4ebff;}#sk-container-id-23 div.sk-parallel-item::after {content: \"\";width: 100%;border-bottom: 1px solid gray;flex-grow: 1;}#sk-container-id-23 div.sk-label:hover label.sk-toggleable__label {background-color: #d4ebff;}#sk-container-id-23 div.sk-serial::before {content: \"\";position: absolute;border-left: 1px solid gray;box-sizing: border-box;top: 0;bottom: 0;left: 50%;z-index: 0;}#sk-container-id-23 div.sk-serial {display: flex;flex-direction: column;align-items: center;background-color: white;padding-right: 0.2em;padding-left: 0.2em;position: relative;}#sk-container-id-23 div.sk-item {position: relative;z-index: 1;}#sk-container-id-23 div.sk-parallel {display: flex;align-items: stretch;justify-content: center;background-color: white;position: relative;}#sk-container-id-23 div.sk-item::before, #sk-container-id-23 div.sk-parallel-item::before {content: \"\";position: absolute;border-left: 1px solid gray;box-sizing: border-box;top: 0;bottom: 0;left: 50%;z-index: -1;}#sk-container-id-23 div.sk-parallel-item {display: flex;flex-direction: column;z-index: 1;position: relative;background-color: white;}#sk-container-id-23 div.sk-parallel-item:first-child::after {align-self: flex-end;width: 50%;}#sk-container-id-23 div.sk-parallel-item:last-child::after {align-self: flex-start;width: 50%;}#sk-container-id-23 div.sk-parallel-item:only-child::after {width: 0;}#sk-container-id-23 div.sk-dashed-wrapped {border: 1px dashed gray;margin: 0 0.4em 0.5em 0.4em;box-sizing: border-box;padding-bottom: 0.4em;background-color: white;}#sk-container-id-23 div.sk-label label {font-family: monospace;font-weight: bold;display: inline-block;line-height: 1.2em;}#sk-container-id-23 div.sk-label-container {text-align: center;}#sk-container-id-23 div.sk-container {/* jupyter's `normalize.less` sets `[hidden] { display: none; }` but bootstrap.min.css set `[hidden] { display: none !important; }` so we also need the `!important` here to be able to override the default hidden behavior on the sphinx rendered scikit-learn.org. See: https://github.com/scikit-learn/scikit-learn/issues/21755 */display: inline-block !important;position: relative;}#sk-container-id-23 div.sk-text-repr-fallback {display: none;}</style><div id=\"sk-container-id-23\" class=\"sk-top-container\"><div class=\"sk-text-repr-fallback\"><pre>GridSearchCV(cv=10, estimator=SVR(),\n",
       "             param_grid={&#x27;coef0&#x27;: [1], &#x27;gamma&#x27;: [&#x27;auto&#x27;],\n",
       "                         &#x27;kernel&#x27;: [&#x27;sigmoid&#x27;]},\n",
       "             scoring=&#x27;neg_mean_absolute_error&#x27;)</pre><b>In a Jupyter environment, please rerun this cell to show the HTML representation or trust the notebook. <br />On GitHub, the HTML representation is unable to render, please try loading this page with nbviewer.org.</b></div><div class=\"sk-container\" hidden><div class=\"sk-item sk-dashed-wrapped\"><div class=\"sk-label-container\"><div class=\"sk-label sk-toggleable\"><input class=\"sk-toggleable__control sk-hidden--visually\" id=\"sk-estimator-id-67\" type=\"checkbox\" ><label for=\"sk-estimator-id-67\" class=\"sk-toggleable__label sk-toggleable__label-arrow\">GridSearchCV</label><div class=\"sk-toggleable__content\"><pre>GridSearchCV(cv=10, estimator=SVR(),\n",
       "             param_grid={&#x27;coef0&#x27;: [1], &#x27;gamma&#x27;: [&#x27;auto&#x27;],\n",
       "                         &#x27;kernel&#x27;: [&#x27;sigmoid&#x27;]},\n",
       "             scoring=&#x27;neg_mean_absolute_error&#x27;)</pre></div></div></div><div class=\"sk-parallel\"><div class=\"sk-parallel-item\"><div class=\"sk-item\"><div class=\"sk-label-container\"><div class=\"sk-label sk-toggleable\"><input class=\"sk-toggleable__control sk-hidden--visually\" id=\"sk-estimator-id-68\" type=\"checkbox\" ><label for=\"sk-estimator-id-68\" class=\"sk-toggleable__label sk-toggleable__label-arrow\">estimator: SVR</label><div class=\"sk-toggleable__content\"><pre>SVR()</pre></div></div></div><div class=\"sk-serial\"><div class=\"sk-item\"><div class=\"sk-estimator sk-toggleable\"><input class=\"sk-toggleable__control sk-hidden--visually\" id=\"sk-estimator-id-69\" type=\"checkbox\" ><label for=\"sk-estimator-id-69\" class=\"sk-toggleable__label sk-toggleable__label-arrow\">SVR</label><div class=\"sk-toggleable__content\"><pre>SVR()</pre></div></div></div></div></div></div></div></div></div></div>"
      ],
      "text/plain": [
       "GridSearchCV(cv=10, estimator=SVR(),\n",
       "             param_grid={'coef0': [1], 'gamma': ['auto'],\n",
       "                         'kernel': ['sigmoid']},\n",
       "             scoring='neg_mean_absolute_error')"
      ]
     },
     "execution_count": 105,
     "metadata": {},
     "output_type": "execute_result"
    }
   ],
   "source": [
    "gs_SVM = GridSearchCV(SVR(),{\n",
    "    'kernel' : ['sigmoid'], \n",
    "    'gamma' : ['auto'],\n",
    "    'coef0' : [1],\n",
    "}, cv=10, return_train_score=False, scoring = 'neg_mean_absolute_error')\n",
    "gs_SVM.fit(x_pca,df_result)"
   ]
  },
  {
   "cell_type": "code",
   "execution_count": 106,
   "id": "e99b88ca-b26e-4af5-a123-77c1b4d9ea63",
   "metadata": {},
   "outputs": [],
   "source": [
    "pd.set_option('display.max_rows', None)"
   ]
  },
  {
   "cell_type": "code",
   "execution_count": 107,
   "id": "10ccef5f-0f62-4488-b82a-3305d3dfdba2",
   "metadata": {},
   "outputs": [
    {
     "data": {
      "text/html": [
       "<div>\n",
       "<style scoped>\n",
       "    .dataframe tbody tr th:only-of-type {\n",
       "        vertical-align: middle;\n",
       "    }\n",
       "\n",
       "    .dataframe tbody tr th {\n",
       "        vertical-align: top;\n",
       "    }\n",
       "\n",
       "    .dataframe thead th {\n",
       "        text-align: right;\n",
       "    }\n",
       "</style>\n",
       "<table border=\"1\" class=\"dataframe\">\n",
       "  <thead>\n",
       "    <tr style=\"text-align: right;\">\n",
       "      <th></th>\n",
       "      <th>param_kernel</th>\n",
       "      <th>param_gamma</th>\n",
       "      <th>param_coef0</th>\n",
       "      <th>mean_test_score</th>\n",
       "    </tr>\n",
       "  </thead>\n",
       "  <tbody>\n",
       "    <tr>\n",
       "      <th>0</th>\n",
       "      <td>sigmoid</td>\n",
       "      <td>auto</td>\n",
       "      <td>1</td>\n",
       "      <td>-21.682506</td>\n",
       "    </tr>\n",
       "  </tbody>\n",
       "</table>\n",
       "</div>"
      ],
      "text/plain": [
       "  param_kernel param_gamma param_coef0  mean_test_score\n",
       "0      sigmoid        auto           1       -21.682506"
      ]
     },
     "execution_count": 107,
     "metadata": {},
     "output_type": "execute_result"
    }
   ],
   "source": [
    "dfgs = pd.DataFrame(gs_SVM.cv_results_)\n",
    "dfgs[['param_kernel', 'param_gamma','param_coef0', 'mean_test_score']]"
   ]
  },
  {
   "cell_type": "markdown",
   "id": "1bed5441-ccbe-4bcd-92f4-991d005aae06",
   "metadata": {
    "tags": []
   },
   "source": [
    "## Decision Trees"
   ]
  },
  {
   "cell_type": "code",
   "execution_count": null,
   "id": "4b36da39-3b86-42ce-a567-01516184c145",
   "metadata": {},
   "outputs": [],
   "source": [
    "result = best_pre_process(df_input,DecisionTreeRegressor(),to_drop)\n",
    "result"
   ]
  },
  {
   "cell_type": "code",
   "execution_count": null,
   "id": "b9cde281-bdcc-44b1-b6de-faaa83765c42",
   "metadata": {},
   "outputs": [],
   "source": [
    "#Peforming this PCA yields worse results (do not use)\n",
    "\n",
    "# pca = PCA(n_components = result[0])\n",
    "# if result[1] == \"Pairwise & PCA\":\n",
    "#     pca.fit(df_corr_drop)\n",
    "#     x_pca = pca.transform(df_corr_drop)\n",
    "# else:\n",
    "#     pca.fit(df_input)\n",
    "#     x_pca = pca.transform(df_input)"
   ]
  },
  {
   "cell_type": "code",
   "execution_count": null,
   "id": "1b8b690d-78d4-4e1a-90c3-8de10adb6fdf",
   "metadata": {},
   "outputs": [],
   "source": [
    "gs_DTR = GridSearchCV(DecisionTreeRegressor(),{\n",
    "    'criterion' : ['squared_error','friedman_mse','absolute_error','poisson'],\n",
    "    'splitter' : ['best','random'], \n",
    "}, cv=10, return_train_score=False, scoring = 'neg_mean_absolute_error')\n",
    "gs_DTR.fit(df_input,df_result)"
   ]
  },
  {
   "cell_type": "code",
   "execution_count": null,
   "id": "062b9f15-9a2b-4381-beed-595794450da3",
   "metadata": {},
   "outputs": [],
   "source": [
    "dfgs = pd.DataFrame(gs_DTR.cv_results_)\n",
    "dfgs[['param_criterion', 'param_splitter', 'mean_test_score']]"
   ]
  },
  {
   "cell_type": "markdown",
   "id": "abb49761-e965-4e27-9d95-e0a00125c6fd",
   "metadata": {
    "tags": []
   },
   "source": [
    "##  Multi-Layer Perceptron Neural Network."
   ]
  },
  {
   "cell_type": "code",
   "execution_count": null,
   "id": "c45e418c-e44e-431c-95e1-8ce0cd88af77",
   "metadata": {},
   "outputs": [],
   "source": [
    "result = best_pre_process(df_input,MLPRegressor(),to_drop)\n",
    "result"
   ]
  },
  {
   "cell_type": "code",
   "execution_count": null,
   "id": "d3038bb4-1a1e-48f7-9fd4-debd55fb7899",
   "metadata": {},
   "outputs": [],
   "source": [
    "pca = PCA(n_components = result[0])\n",
    "if result[1] == \"Pairwise & PCA\":\n",
    "    pca.fit(df_corr_drop)\n",
    "    x_pca = pca.transform(df_corr_drop)\n",
    "else:\n",
    "    pca.fit(df_input)\n",
    "    x_pca = pca.transform(df_input)"
   ]
  },
  {
   "cell_type": "code",
   "execution_count": null,
   "id": "e7f76fba-c8b8-42f8-9564-8fb34b918f69",
   "metadata": {},
   "outputs": [],
   "source": [
    "xR_train, xR_test, yR_train, yR_test = train_test_split(x_pca,df_result, test_size=0.3, random_state=1)"
   ]
  },
  {
   "cell_type": "code",
   "execution_count": null,
   "id": "50d19699-2129-471d-bca9-c752248d6eee",
   "metadata": {},
   "outputs": [],
   "source": [
    "#Eval on hyper-parameters of MLPRegressor\n",
    "gs_MLP = GridSearchCV(MLPRegressor(),{\n",
    "    'activation': ['identity', 'logistic', 'tanh', 'relu'], #default =relu\n",
    "    'solver': ['lbfgs','sgd','adam'] #default =adam\n",
    "}, cv=5, return_train_score=False, scoring = 'neg_mean_absolute_error')\n",
    "gs_MLP.fit(x_pca,df_result)"
   ]
  },
  {
   "cell_type": "code",
   "execution_count": null,
   "id": "f19e63ec-b9ef-4550-8008-9f21328d2ac4",
   "metadata": {},
   "outputs": [],
   "source": [
    "dfgs = pd.DataFrame(gs_MLP.cv_results_)\n",
    "dfgs[['param_activation', 'param_solver', 'mean_test_score']]"
   ]
  },
  {
   "cell_type": "code",
   "execution_count": null,
   "id": "053bac90-01fa-4244-8b3c-5fb765aec8a3",
   "metadata": {},
   "outputs": [],
   "source": [
    "gs_MLP2 = GridSearchCV( MLPRegressor(),{\n",
    "    'solver': ['adam'],\n",
    "    'max_fun':[15000,20000,10000,25000] #default is 15000 and only applys to lbfgs\n",
    "}, cv=5, return_train_score=False,scoring = 'neg_mean_absolute_error' )\n",
    "gs_MLP2.fit(x_pca,df_result)"
   ]
  },
  {
   "cell_type": "code",
   "execution_count": null,
   "id": "6d1a5c15-787d-4d7a-97e2-0b8bc60bd54a",
   "metadata": {},
   "outputs": [],
   "source": [
    "dfgs = pd.DataFrame(gs_MLP2.cv_results_)\n",
    "dfgs[['param_solver', 'param_max_fun', 'mean_test_score']]"
   ]
  },
  {
   "cell_type": "markdown",
   "id": "5299f69c",
   "metadata": {
    "tags": []
   },
   "source": [
    "# CLASSIFICATION"
   ]
  },
  {
   "cell_type": "markdown",
   "id": "13197c8e-93b6-473d-a894-3cff8452a599",
   "metadata": {
    "tags": []
   },
   "source": [
    "## Data Handling"
   ]
  },
  {
   "cell_type": "code",
   "execution_count": null,
   "id": "094d1f21-4204-46ad-8e94-348570185b53",
   "metadata": {},
   "outputs": [],
   "source": [
    "df_raw_data = pd.read_excel('trainDataset.xls')\n",
    "df_raw_data = df_raw_data.drop(['RelapseFreeSurvival (outcome)', 'ID'], axis = 1)\n",
    "\n",
    "df_raw = df_raw_data.replace(999, np.nan)\n",
    "df_raw['TrippleNegative'] = df_raw['TrippleNegative'].fillna(df_raw['TrippleNegative'].mode()[0])\n",
    "df_raw['ChemoGrade'] = df_raw['ChemoGrade'].fillna(df_raw['ChemoGrade'].mode()[0])\n",
    "df_raw['Proliferation'] = df_raw['Proliferation'].fillna(df_raw['Proliferation'].mode()[0])\n",
    "df_raw['HistologyType'] = df_raw['HistologyType'].fillna(df_raw['HistologyType'].mode()[0])\n",
    "df_raw['LNStatus'] = df_raw['LNStatus'].fillna(df_raw['LNStatus'].mode()[0])\n",
    "df_raw['TumourStage'] = df_raw['TumourStage'].fillna(df_raw['TumourStage'].mode()[0])\n",
    "df_raw = df_raw.dropna()\n",
    "\n",
    "target = df_raw['pCR (outcome)']\n",
    "learning = df_raw.drop('pCR (outcome)', axis = 1)\n",
    "cols = list(learning.columns)\n",
    "scaler = StandardScaler()\n",
    "scaler.fit(learning)\n",
    "scaled = scaler.transform(learning)\n",
    "data = pd.DataFrame(scaled, columns=cols)\n",
    "\n",
    "pca = PCA(.95)\n",
    "pca.fit(data)\n",
    "reduced = pca.transform(data)\n",
    "\n",
    "dfClass = pd.DataFrame(reduced)"
   ]
  },
  {
   "cell_type": "code",
   "execution_count": null,
   "id": "25d3a4f0-511f-487c-9348-50a5c01a9bef",
   "metadata": {},
   "outputs": [],
   "source": [
    "xC_train = dfClass.to_numpy()\n",
    "yC_train = target"
   ]
  },
  {
   "cell_type": "markdown",
   "id": "568e1e6e-4b05-4cb9-9b24-24d848b21c62",
   "metadata": {
    "jp-MarkdownHeadingCollapsed": true,
    "tags": []
   },
   "source": [
    "## Logistic Regression"
   ]
  },
  {
   "cell_type": "code",
   "execution_count": null,
   "id": "57c46915-365b-4f25-900d-41108c5db25a",
   "metadata": {},
   "outputs": [],
   "source": [
    "gs_logreg = GridSearchCV(LogisticRegression(solver = 'liblinear'),{\n",
    "    'penalty': ['l1','l2'] #default = l2\n",
    "}, cv=5, return_train_score=False, scoring = 'accuracy')\n",
    "gs_logreg.fit(xC_train, yC_train)"
   ]
  },
  {
   "cell_type": "code",
   "execution_count": null,
   "id": "c3c6542a-395d-4612-80b4-545106001ee9",
   "metadata": {},
   "outputs": [],
   "source": [
    "dfgs = pd.DataFrame(gs_logreg.cv_results_)\n",
    "dfgs[['param_penalty', 'mean_test_score']]"
   ]
  },
  {
   "cell_type": "markdown",
   "id": "3ced24de-f060-43a8-953e-b633f4aef903",
   "metadata": {
    "tags": []
   },
   "source": [
    "## Support Vector Machines"
   ]
  },
  {
   "cell_type": "code",
   "execution_count": null,
   "id": "ffdd630a-3a39-4ef3-80c0-425ab5884982",
   "metadata": {},
   "outputs": [],
   "source": [
    "gs_SVC = GridSearchCV(SVC(),{\n",
    "    'kernel' : ['linear', 'poly', 'rbf', 'sigmoid'], #default rbf\n",
    "    'degree' : [2,3], #default = 3, only applys to kernel: poly\n",
    "}, cv=10, return_train_score=False, scoring = 'accuracy')\n",
    "gs_SVC.fit(xC_train,yC_train)"
   ]
  },
  {
   "cell_type": "code",
   "execution_count": null,
   "id": "1c1f45f8-9c2f-4ac2-bdac-65a81e1a0b41",
   "metadata": {},
   "outputs": [],
   "source": [
    "dfgs = pd.DataFrame(gs_SVC.cv_results_)\n",
    "dfgs[['param_kernel','param_degree', 'mean_test_score']]\n",
    "#Having 'kernel : poly' with a degree of 2 improves the accuracy "
   ]
  },
  {
   "cell_type": "code",
   "execution_count": null,
   "id": "846d4015-65b5-42c2-ba85-6ba6f977f941",
   "metadata": {},
   "outputs": [],
   "source": [
    "#Eval on hyper-parameters of LinearRegression\n",
    "gs_LinearSVC = GridSearchCV(LinearSVC(),{\n",
    "    'tol' : [0.00001, 0.0001, 0.001], \n",
    "    'loss' : ['epsilon_insensitive', 'squared_epsilon_insensitive'] \n",
    "}, cv=10, return_train_score=False, scoring = 'accuracy')\n",
    "gs_LinearSVC.fit(xC_train,yC_train)"
   ]
  },
  {
   "cell_type": "code",
   "execution_count": null,
   "id": "457f8701-9bc7-4582-895d-ffb414e8aded",
   "metadata": {},
   "outputs": [],
   "source": [
    "dfgs = pd.DataFrame(gs_LinearSVC.cv_results_)\n",
    "dfgs[['param_loss', 'param_tol', 'mean_test_score']]\n",
    "#Having 'kernel : poly' with a degree of 2 improves the accuracy "
   ]
  },
  {
   "cell_type": "markdown",
   "id": "68c50b73-33e5-4be0-9eaa-095f7217d907",
   "metadata": {
    "tags": []
   },
   "source": [
    "## Decision Trees"
   ]
  },
  {
   "cell_type": "code",
   "execution_count": null,
   "id": "d3a728ed-81cb-4b1e-9a1b-b5997def3973",
   "metadata": {},
   "outputs": [],
   "source": [
    "gs_RFC = GridSearchCV(RandomForestClassifier(),{\n",
    "    'criterion' : ['gini','entropy'],\n",
    "    'max_features' : ['sqrt','log2']\n",
    "}, cv=5, return_train_score=False, scoring = 'accuracy')\n",
    "gs_RFC.fit(xC_train,yC_train)"
   ]
  },
  {
   "cell_type": "code",
   "execution_count": null,
   "id": "b687f32c-1988-4369-93ee-710d705cd448",
   "metadata": {},
   "outputs": [],
   "source": [
    "dfgs = pd.DataFrame(gs_RFC.cv_results_)\n",
    "dfgs[['param_criterion','param_max_features','mean_test_score']]"
   ]
  },
  {
   "cell_type": "markdown",
   "id": "064d03ab-6f14-4065-89c7-26bd596cf236",
   "metadata": {
    "tags": []
   },
   "source": [
    "## Multi-Layer Perceptron Neural Network"
   ]
  },
  {
   "cell_type": "code",
   "execution_count": null,
   "id": "f8cb4a2f-f12f-4860-a8b0-f5d10144cf89",
   "metadata": {},
   "outputs": [],
   "source": [
    "mlpc = MLPClassifier(max_iter=2500, alpha=0.00001, hidden_layer_sizes=12, random_state=3)\n",
    "mlpc.fit(xC_train, yC_train)"
   ]
  },
  {
   "cell_type": "code",
   "execution_count": null,
   "id": "b7607de6-51dc-4cfa-949f-d5a262ac66a8",
   "metadata": {},
   "outputs": [],
   "source": [
    "gs_MLPC = GridSearchCV(MLPClassifier(),{\n",
    "    'activation': ['identity','logistic','tanh','relu']\n",
    "}, cv=5, return_train_score=False, scoring = 'accuracy')\n",
    "gs_MLPC.fit(xC_train,yC_train)"
   ]
  },
  {
   "cell_type": "code",
   "execution_count": null,
   "id": "7d59047f-1fe1-477c-bb13-c47f10891d18",
   "metadata": {},
   "outputs": [],
   "source": [
    "dfgs = pd.DataFrame(gs_MLPC.cv_results_)\n",
    "dfgs[['param_activation','mean_test_score']]"
   ]
  },
  {
   "cell_type": "code",
   "execution_count": null,
   "id": "dd3c3558-170e-4a3f-bc60-b7d16a69b74e",
   "metadata": {},
   "outputs": [],
   "source": [
    "features = list(X)\n",
    "pca = PCA(n_components=10)\n",
    "Xs_pca = pca.fit_transform(X)\n",
    "Xs_pca=Xs_pca[:,0:5] #retain the first 5 PC\n",
    "y.head()\n",
    "\n",
    "def build_model(hp):\n",
    "    model = keras.Sequential()\n",
    "    model.add(keras.layers.Dense(5, input_dim=5,activation=\"relu\"))    \n",
    "    \n",
    "    for i in range(1, hp.Int(\"num_layers\", 2, 6)):\n",
    "        model.add(\n",
    "            keras.layers.Dense(\n",
    "                units=hp.Int(\"units_\" + str(i), min_value=32, max_value=512, step=32),\n",
    "                activation=\"relu\")\n",
    "            )\n",
    "        \n",
    "        # Tune dropout layer with values from 0 - 0.3 with stepsize of 0.1.\n",
    "        model.add(keras.layers.Dropout(hp.Float(\"dropout_\" + str(i), 0, 0.3, step=0.1)))\n",
    "    \n",
    "    # Add output layer.\n",
    "    model.add(keras.layers.Dense(units=10, activation=\"softmax\"))\n",
    "    \n",
    "    # Tune learning rate for Adam optimizer with values from 0.01, 0.001, or 0.0001\n",
    "    hp_learning_rate = hp.Choice(\"learning_rate\", values=[1e-2, 1e-3, 1e-4])\n",
    "    \n",
    "    # Define optimizer, loss, and metrics\n",
    "    model.compile(optimizer=keras.optimizers.Adam(learning_rate=hp_learning_rate),\n",
    "                  loss=keras.losses.SparseCategoricalCrossentropy(),\n",
    "                  metrics=[\"accuracy\"])\n",
    "    model.summary()\n",
    "    return model\n",
    "stop_early = tf.keras.callbacks.EarlyStopping(monitor='val_loss', patience=5)\n",
    "\n",
    "\n",
    "\n",
    "tuner = kt.Hyperband(build_model,\n",
    "                     objective='val_accuracy',\n",
    "                     max_epochs=10,\n",
    "                     factor=3,\n",
    "                     directory='my_dir',\n",
    "                     project_name='intro_to_kt')\n",
    "\n",
    "\n",
    "\n",
    "\n",
    "tuner.search(X_train, y_train, epochs=5, validation_split=0.2, callbacks=[stop_early], verbose=2)\n",
    "\n",
    "\n",
    "\n",
    "best_hps=tuner.get_best_hyperparameters()[0]\n",
    "h_model = tuner.hypermodel.build(best_hps)\n",
    "h_model.fit(X_train, y_train, epochs=25, validation_split=0.2, callbacks=[stop_early], verbose=2)\n",
    "\n",
    "\n",
    "\n",
    "h_model.evaluate(X_test, y_test, return_dict=True)"
   ]
  }
 ],
 "metadata": {
  "kernelspec": {
   "display_name": "Python 3 (ipykernel)",
   "language": "python",
   "name": "python3"
  },
  "language_info": {
   "codemirror_mode": {
    "name": "ipython",
    "version": 3
   },
   "file_extension": ".py",
   "mimetype": "text/x-python",
   "name": "python",
   "nbconvert_exporter": "python",
   "pygments_lexer": "ipython3",
   "version": "3.7.13"
  }
 },
 "nbformat": 4,
 "nbformat_minor": 5
}
