{
 "cells": [
  {
   "cell_type": "markdown",
   "source": [
    "## Imports"
   ],
   "metadata": {
    "collapsed": false
   }
  },
  {
   "cell_type": "code",
   "execution_count": null,
   "id": "aedbcdbf-8ee5-49c5-bcf8-1e2676186d5f",
   "metadata": {},
   "outputs": [],
   "source": [
    "import warnings\n",
    "warnings.filterwarnings('ignore')\n",
    "#Ignore future version warning (version warning)"
   ]
  },
  {
   "cell_type": "code",
   "execution_count": null,
   "id": "f1c6b1fb",
   "metadata": {},
   "outputs": [],
   "source": [
    "#import modules\n",
    "import sklearn as sk\n",
    "import seaborn as sns\n",
    "import numpy as np\n",
    "import keras_tuner as kt\n",
    "import tensorflow as tf\n",
    "import matplotlib.pyplot as plt\n",
    "import pandas as pd\n",
    "from sklearn.feature_selection import SelectKBest, f_classif\n",
    "from sklearn.neural_network import MLPRegressor\n",
    "from sklearn.pipeline import Pipeline\n",
    "from sklearn.preprocessing import LabelEncoder\n",
    "from sklearn import preprocessing\n",
    "from sklearn.svm import SVC\n",
    "from sklearn.model_selection import train_test_split, cross_val_score, cross_validate\n",
    "from sklearn.linear_model import LinearRegression, LogisticRegression\n",
    "from sklearn.metrics import r2_score, accuracy_score\n",
    "from sklearn.metrics import classification_report\n",
    "from sklearn.tree import DecisionTreeClassifier, DecisionTreeRegressor\n",
    "from sklearn.svm import SVR\n",
    "from sklearn.preprocessing import StandardScaler\n",
    "from sklearn.ensemble import RandomForestClassifier\n",
    "from sklearn.model_selection import GridSearchCV\n",
    "from sklearn.neural_network import MLPClassifier\n",
    "from tensorflow import keras\n",
    "from sklearn.decomposition import PCA"
   ]
  },
  {
   "cell_type": "markdown",
   "id": "e3c15e9e",
   "metadata": {
    "jp-MarkdownHeadingCollapsed": true,
    "tags": []
   },
   "source": [
    "# REGRESSION"
   ]
  },
  {
   "cell_type": "markdown",
   "id": "46ea2e27-f70b-47f2-969d-cf7f3d6d0fcd",
   "metadata": {
    "tags": []
   },
   "source": [
    "## Data handling"
   ]
  },
  {
   "cell_type": "code",
   "execution_count": null,
   "id": "aae3d24b",
   "metadata": {},
   "outputs": [],
   "source": [
    "data = pd.read_csv(\"winequality-red.csv\")"
   ]
  },
  {
   "cell_type": "code",
   "execution_count": null,
   "id": "c194559e",
   "metadata": {},
   "outputs": [],
   "source": [
    "# clean data\n",
    "d = preprocessing.normalize(data)\n",
    "df = pd.DataFrame(d, columns=data.columns)\n",
    "df.head()"
   ]
  },
  {
   "cell_type": "code",
   "execution_count": null,
   "id": "edb23139-3489-4283-a88f-c3d777ab0b93",
   "metadata": {},
   "outputs": [],
   "source": [
    " #Seperate dependant and independant variable\n",
    "data_input=df.drop(['quality'],axis=1).values\n",
    "data_output=df['quality'].values"
   ]
  },
  {
   "cell_type": "markdown",
   "id": "1ed45b1b-e3db-46d4-9858-b9fd2f20a902",
   "metadata": {
    "tags": []
   },
   "source": [
    "## Linear Regression"
   ]
  },
  {
   "cell_type": "code",
   "execution_count": null,
   "id": "0b318a0c",
   "metadata": {},
   "outputs": [],
   "source": [
    "#Train model\n",
    "ml=LinearRegression()\n",
    "ml.fit(x_train,y_train)"
   ]
  },
  {
   "cell_type": "code",
   "execution_count": null,
   "id": "45bba6c3",
   "metadata": {},
   "outputs": [],
   "source": [
    "y_pred=ml.predict(x_test)"
   ]
  },
  {
   "cell_type": "code",
   "execution_count": null,
   "id": "f9a9dfe9-e37c-4025-8877-c50c34c97c42",
   "metadata": {},
   "outputs": [],
   "source": [
    "#Eval on hyper-parameters of LinearRegression\n",
    "gs_LinearRegression = GridSearchCV(LinearRegression(),{\n",
    "    'fit_intercept': [False,True], #Default = False\n",
    "    'n_jobs': [0,1,10,50],\n",
    "}, cv=10, return_train_score=False, scoring = 'neg_mean_squared_error')\n",
    "gs_LinearRegression.fit(x_train,y_train)"
   ]
  },
  {
   "cell_type": "code",
   "execution_count": null,
   "id": "6ca4c4e0-ab8e-4b17-a4c7-83ddc4d87b66",
   "metadata": {},
   "outputs": [],
   "source": [
    "dfgs = pd.DataFrame(gs_LinearRegression.cv_results_)\n",
    "dfgs[['param_fit_intercept','param_n_jobs', 'mean_test_score']]\n",
    "#Having 'param_fit_intercept' = True improves accuracy"
   ]
  },
  {
   "cell_type": "markdown",
   "id": "7828341a-f4ca-4f98-b41c-af679928d60d",
   "metadata": {
    "tags": []
   },
   "source": [
    "## Support Vector Machines"
   ]
  },
  {
   "cell_type": "code",
   "execution_count": null,
   "id": "a5d4eaa2-0ae7-4f82-8978-70d932257367",
   "metadata": {},
   "outputs": [],
   "source": [
    "#Eval on hyper-parameters of LinearRegression\n",
    "gs_SVM = GridSearchCV(SVR(),{\n",
    "    'kernel' : ['linear', 'poly', 'rbf', 'sigmoid'], #default rbf\n",
    "    'degree' : [2,3], #default = 3, only applys to kernel: poly\n",
    "}, cv=10, return_train_score=False, scoring = 'neg_mean_squared_error')\n",
    "gs_SVM.fit(Xs_train,y_train)"
   ]
  },
  {
   "cell_type": "markdown",
   "id": "1bed5441-ccbe-4bcd-92f4-991d005aae06",
   "metadata": {
    "tags": []
   },
   "source": [
    "## Decision Trees"
   ]
  },
  {
   "cell_type": "code",
   "execution_count": null,
   "id": "1b8b690d-78d4-4e1a-90c3-8de10adb6fdf",
   "metadata": {},
   "outputs": [],
   "source": [
    "gs_DTR = GridSearchCV(DecisionTreeRegressor(),{\n",
    "    'criterion' : ['squared_error','friedman_mse','absolute_error','poisson'],\n",
    "    'splitter' : ['best','random'], \n",
    "}, cv=10, return_train_score=False, scoring = 'neg_mean_squared_error')\n",
    "gs_DTR.fit(X_train,y_train)"
   ]
  },
  {
   "cell_type": "markdown",
   "id": "abb49761-e965-4e27-9d95-e0a00125c6fd",
   "metadata": {
    "tags": []
   },
   "source": [
    "##  Multi-Layer Perceptron Neural Network."
   ]
  },
  {
   "cell_type": "code",
   "execution_count": null,
   "id": "5f6654b8",
   "metadata": {},
   "outputs": [],
   "source": [
    "mlp = MLPRegressor(max_iter=10000, activation='relu')\n",
    "mlp"
   ]
  },
  {
   "cell_type": "code",
   "execution_count": null,
   "id": "971edab5",
   "metadata": {},
   "outputs": [],
   "source": [
    "mlp.fit(x_train2,y_train2)"
   ]
  },
  {
   "cell_type": "code",
   "execution_count": null,
   "id": "51e86713",
   "metadata": {},
   "outputs": [],
   "source": [
    "y_pred2 = mlp.predict(x_test2)"
   ]
  },
  {
   "cell_type": "code",
   "execution_count": null,
   "id": "50d19699-2129-471d-bca9-c752248d6eee",
   "metadata": {},
   "outputs": [],
   "source": [
    "#Eval on hyper-parameters of MLPRegressor\n",
    "x_train2,x_test2,y_train2,y_test2=train_test_split(data_input,data_output,test_size=0.3,random_state=1)\n",
    "gs_MLP = GridSearchCV( MLPRegressor(),{\n",
    "    'activation': ['identity', 'logistic', 'tanh', 'relu'], #default =relu\n",
    "    'solver': ['lbfgs','sgd','adam'] #default =adam\n",
    "}, cv=5, return_train_score=False, scoring = 'neg_mean_squared_error')\n",
    "gs_MLP.fit(x_train2,y_train2)"
   ]
  },
  {
   "cell_type": "code",
   "execution_count": null,
   "id": "053bac90-01fa-4244-8b3c-5fb765aec8a3",
   "metadata": {},
   "outputs": [],
   "source": [
    "gs_MLP2 = GridSearchCV( MLPRegressor(),{\n",
    "    'solver': ['lbfgs'],\n",
    "    'max_fun':[15000,20000,10000,25000] #default is 15000 and only applys to lbfgs\n",
    "}, cv=5, return_train_score=False,scoring = 'neg_mean_squared_error' )\n",
    "gs_MLP2.fit(x_train2,y_train2)"
   ]
  },
  {
   "cell_type": "markdown",
   "id": "5299f69c",
   "metadata": {},
   "source": [
    "# CLASSIFICATION"
   ]
  },
  {
   "cell_type": "markdown",
   "id": "568e1e6e-4b05-4cb9-9b24-24d848b21c62",
   "metadata": {
    "jp-MarkdownHeadingCollapsed": true,
    "tags": []
   },
   "source": [
    "## Logistic Regression"
   ]
  },
  {
   "cell_type": "code",
   "execution_count": null,
   "id": "524f4f74-129f-46f6-8a37-5e28ea69d373",
   "metadata": {},
   "outputs": [],
   "source": [
    "# split X and y into training and test sets, test set 30% of data \n",
    "\n",
    "X = dfcopy.drop(columns = ['Sum'])\n",
    "y = dfcopy['Sum']\n",
    "\n",
    "X_train, X_test, y_train, y_test = train_test_split(X, y, test_size=0.3,\n",
    "random_state=1, stratify=y)\n",
    "\n",
    "logreg = LogisticRegression(solver = 'newton-cg')\n",
    "\n",
    "logreg.fit(X_train, y_train)\n",
    "y_pred = logreg.predict(X_test)\n",
    "\n",
    "print(classification_report(y_test, y_pred))\n",
    "\n",
    "classifier_score = logreg.score(X_test, y_test )\n",
    "print(classifier_score)\n",
    "\n",
    "df_reduced = dfcopy.drop(columns = ['Capital-gain', 'Capital-loss', 'Education', 'Native-country', 'Race'])\n",
    "# split into X and y\n",
    "X1 = df_reduced.drop(columns = ['Sum'])\n",
    "y1 = df_reduced['Sum']\n",
    "X1_train, X1_test, y1_train, y1_test = train_test_split(X1, y1, test_size=0.3,\n",
    "random_state=1, stratify=y1)\n",
    "\n",
    "logreg.fit(X1_train, y1_train)\n",
    "y_pred = logreg.predict(X1_test)\n",
    "\n",
    "print(classification_report(y_test, y_pred))\n",
    "\n",
    "classifier_score = logreg.score(X1_test, y1_test )\n",
    "print(classifier_score)\n",
    "\n",
    "# try different argument for solver\n",
    "logreg2 = LogisticRegression(solver = \"liblinear\")\n",
    "logreg2.fit(X_train, y_train)\n",
    "\n",
    "y_pred = logreg2.predict(X_test)\n",
    "print(classification_report(y_test, y_pred))\n",
    "\n",
    "classifier_score = logreg2.score(X_test, y_test )\n",
    "print(classifier_score)\n",
    "\n",
    "# try solver = liblinear on reduced features data \n",
    "logreg2.fit(X1_train, y1_train)\n",
    "y_pred = logreg2.predict(X1_test)\n",
    "print(classification_report(y1_test, y_pred))\n",
    "\n",
    "classifier_score = logreg2.score(X1_test, y1_test )\n",
    "print(classifier_score)\n",
    "\n",
    "# model with just 6 best features selected (k=6)\n",
    "clf_fs_cv = Pipeline([\n",
    " ('feature_selector', SelectKBest(f_classif, k=6)),\n",
    " ('logreg', LogisticRegression(solver='liblinear'))\n",
    "])\n",
    "scores = cross_val_score(clf_fs_cv, X, y, cv=5) # 5 folds.\n",
    "print(scores)\n",
    "avg = (100 * np.mean(scores), 100 * np.std(scores)/np.sqrt(scores.shape[0]))\n",
    "print(\"Average score and standard deviation: (%.2f +- %.3f)%%\" %avg)\n"
   ]
  },
  {
   "cell_type": "code",
   "execution_count": null,
   "id": "82abc861-3257-4e34-bd35-6b23dc92bc0a",
   "metadata": {},
   "outputs": [],
   "source": [
    "gs_LogisticReg = GridSearchCV(LogisticRegression(),{\n",
    "    'penalty': ['none','l2','l1','elasticnet'] #default = l2\n",
    "}, cv=5, return_train_score=False, scoring = 'accuracy')\n",
    "gs_LogisticReg.fit(X1_train,y1_train)"
   ]
  },
  {
   "cell_type": "code",
   "execution_count": null,
   "id": "769b23a8-74c1-4353-b08d-730242922a2f",
   "metadata": {},
   "outputs": [],
   "source": [
    "dfgs = pd.DataFrame(gs_LogisticReg.cv_results_)\n",
    "dfgs[['param_penalty', 'mean_test_score']]"
   ]
  },
  {
   "cell_type": "code",
   "execution_count": null,
   "id": "9309bbfd-d1ff-486d-b28f-1df9d9a43c36",
   "metadata": {},
   "outputs": [],
   "source": [
    "gs_LogisticReg = GridSearchCV(LogisticRegression(),{\n",
    "    'solver' : ['newton-cg','lbfgs','liblinear','sag','saga'],\n",
    "    'fit_intercept' : [True,False], #default = l2\n",
    "}, cv=5, return_train_score=False, scoring = 'accuracy')\n",
    "gs_LogisticReg.fit(X1_train,y1_train)"
   ]
  },
  {
   "cell_type": "code",
   "execution_count": null,
   "id": "1dee6935-4504-4779-816f-cdabe54e6317",
   "metadata": {},
   "outputs": [],
   "source": [
    "dfgs = pd.DataFrame(gs_LogisticReg.cv_results_)\n",
    "dfgs[['param_fit_intercept','param_solver', 'mean_test_score']]"
   ]
  },
  {
   "cell_type": "code",
   "execution_count": null,
   "id": "6ffd97b7-5aca-4dc8-a740-632bc6535318",
   "metadata": {},
   "outputs": [],
   "source": [
    "gs_LogisticReg = GridSearchCV(LogisticRegression(),{\n",
    "    'solver' : ['newton-cg'],\n",
    "    #default for fit_intercept = True\n",
    "    'multi_class' : ['auto','ovr','multinomial']\n",
    "}, cv=5, return_train_score=False, scoring = 'accuracy')\n",
    "gs_LogisticReg.fit(X1_train,y1_train)"
   ]
  },
  {
   "cell_type": "code",
   "execution_count": null,
   "id": "6ec431d2-05ab-4f9a-80d9-9e550630d6a7",
   "metadata": {},
   "outputs": [],
   "source": [
    "dfgs = pd.DataFrame(gs_LogisticReg.cv_results_)\n",
    "dfgs[['param_multi_class', 'mean_test_score']]"
   ]
  },
  {
   "cell_type": "markdown",
   "id": "3ced24de-f060-43a8-953e-b633f4aef903",
   "metadata": {
    "jp-MarkdownHeadingCollapsed": true,
    "tags": []
   },
   "source": [
    "## Support Vector Machines"
   ]
  },
  {
   "cell_type": "code",
   "execution_count": null,
   "id": "0aca0ef0-f69e-42b0-8191-a8449b474537",
   "metadata": {},
   "outputs": [],
   "source": [
    "# First try SVM with all features selected \n",
    "svclassifier = SVC(C=1.0,degree=3, gamma='auto', probability=True)\n",
    "svclassifier.fit(X_train, y_train)"
   ]
  },
  {
   "cell_type": "code",
   "execution_count": null,
   "id": "516b3a95-ab50-45ce-b949-7cfa62f755ff",
   "metadata": {},
   "outputs": [],
   "source": [
    "y_pred = svclassifier.predict(X_test)"
   ]
  },
  {
   "cell_type": "code",
   "execution_count": null,
   "id": "005cdacd-e76c-4d39-b3a1-5f2f18ef50c7",
   "metadata": {},
   "outputs": [],
   "source": [
    "print(classification_report(y_test, y_pred))"
   ]
  },
  {
   "cell_type": "code",
   "execution_count": null,
   "id": "61a1564f-9f0a-46a0-ace3-6fb6ef0013d3",
   "metadata": {},
   "outputs": [],
   "source": [
    "classifier_score = svclassifier.score(X_test, y_test)\n",
    "print(f\"Classifier Score is {classifier_score}\")"
   ]
  },
  {
   "cell_type": "code",
   "execution_count": null,
   "id": "3488c29a-047e-4e93-9f46-f59ca86d4d48",
   "metadata": {},
   "outputs": [],
   "source": [
    "svclassifier = SVC(C=1.0, kernel='rbf', degree=3, gamma='auto', probability=True)\n",
    "svclassifier.fit(X1_train, y1_train)"
   ]
  },
  {
   "cell_type": "code",
   "execution_count": null,
   "id": "f3828d6f-045b-41de-94fe-7adbee240213",
   "metadata": {},
   "outputs": [],
   "source": [
    "y1_pred = svclassifier.predict(X1_test)"
   ]
  },
  {
   "cell_type": "code",
   "execution_count": null,
   "id": "c2748d58-0d1c-40b7-91bc-e60bb6293997",
   "metadata": {},
   "outputs": [],
   "source": [
    "print(classification_report(y1_test, y1_pred))"
   ]
  },
  {
   "cell_type": "code",
   "execution_count": null,
   "id": "aba21dc8-61c5-4da4-9096-4136cd54d706",
   "metadata": {},
   "outputs": [],
   "source": [
    "## precision for 0 (<=50k) has increased however the precision for 1 (50k >) has decreased\n",
    "classifier_score1 = svclassifier.score(X1_test, y1_test)\n",
    "print(f\"Classifier Score is {classifier_score1}\")"
   ]
  },
  {
   "cell_type": "code",
   "execution_count": null,
   "id": "8384e3fe-ed73-470e-959a-f9891baee0ec",
   "metadata": {},
   "outputs": [],
   "source": [
    "print(cross_validate(SVC(),X1_train,y1_train,cv=5,scoring = 'accuracy'))\n"
   ]
  },
  {
   "cell_type": "markdown",
   "id": "68c50b73-33e5-4be0-9eaa-095f7217d907",
   "metadata": {
    "tags": []
   },
   "source": [
    "## Decision Trees"
   ]
  },
  {
   "cell_type": "code",
   "execution_count": null,
   "id": "405552d2-c7f0-4417-8ecf-076bbaa0f63f",
   "metadata": {},
   "outputs": [],
   "source": [
    "clf = RandomForestClassifier(random_state=1, max_depth=10)\n",
    "dtt = clf.fit(X_train, y_train)\n",
    "predictions = dtt.predict(X_test)\n",
    "print(accuracy_score(y_test, predictions))\n",
    "\n"
   ]
  },
  {
   "cell_type": "code",
   "execution_count": null,
   "id": "d3a728ed-81cb-4b1e-9a1b-b5997def3973",
   "metadata": {},
   "outputs": [],
   "source": [
    "gs_RFC = GridSearchCV(RandomForestClassifier(),{\n",
    "    'criterion' : ['gini','entropy'],\n",
    "    'max_features' : ['sqrt','log2']\n",
    "}, cv=5, return_train_score=False, scoring = 'accuracy')\n",
    "gs_RFC.fit(X_train,y_train)"
   ]
  },
  {
   "cell_type": "code",
   "execution_count": null,
   "id": "b687f32c-1988-4369-93ee-710d705cd448",
   "metadata": {},
   "outputs": [],
   "source": [
    "dfgs = pd.DataFrame(gs_RFC.cv_results_)\n",
    "dfgs[['param_criterion','param_max_features','mean_test_score']]"
   ]
  },
  {
   "cell_type": "markdown",
   "id": "064d03ab-6f14-4065-89c7-26bd596cf236",
   "metadata": {
    "tags": []
   },
   "source": [
    "## Multi-Layer Perceptron Neural Network"
   ]
  },
  {
   "cell_type": "code",
   "execution_count": null,
   "id": "f8cb4a2f-f12f-4860-a8b0-f5d10144cf89",
   "metadata": {},
   "outputs": [],
   "source": [
    "mlpc = MLPClassifier(max_iter=2500, alpha=0.00001, hidden_layer_sizes=12, random_state=3)\n",
    "mlpc.fit(X_train, y_train)"
   ]
  },
  {
   "cell_type": "code",
   "execution_count": null,
   "id": "b7607de6-51dc-4cfa-949f-d5a262ac66a8",
   "metadata": {},
   "outputs": [],
   "source": [
    "gs_MLPC = GridSearchCV(MLPClassifier(),{\n",
    "    'activation': ['identity','logistic','tanh','relu']\n",
    "}, cv=5, return_train_score=False, scoring = 'accuracy')\n",
    "gs_MLPC.fit(X_train,y_train)"
   ]
  },
  {
   "cell_type": "code",
   "execution_count": null,
   "id": "7d59047f-1fe1-477c-bb13-c47f10891d18",
   "metadata": {},
   "outputs": [],
   "source": [
    "dfgs = pd.DataFrame(gs_MLPC.cv_results_)\n",
    "dfgs[['param_activation','mean_test_score']]"
   ]
  },
  {
   "cell_type": "code",
   "execution_count": null,
   "id": "dd3c3558-170e-4a3f-bc60-b7d16a69b74e",
   "metadata": {},
   "outputs": [],
   "source": [
    "features = list(X)\n",
    "pca = PCA(n_components=10)\n",
    "Xs_pca = pca.fit_transform(X)\n",
    "Xs_pca=Xs_pca[:,0:5] #retain the first 5 PC\n",
    "y.head()\n",
    "\n",
    "def build_model(hp):\n",
    "    model = keras.Sequential()\n",
    "    model.add(keras.layers.Dense(5, input_dim=5,activation=\"relu\"))    \n",
    "    \n",
    "    for i in range(1, hp.Int(\"num_layers\", 2, 6)):\n",
    "        model.add(\n",
    "            keras.layers.Dense(\n",
    "                units=hp.Int(\"units_\" + str(i), min_value=32, max_value=512, step=32),\n",
    "                activation=\"relu\")\n",
    "            )\n",
    "        \n",
    "        # Tune dropout layer with values from 0 - 0.3 with stepsize of 0.1.\n",
    "        model.add(keras.layers.Dropout(hp.Float(\"dropout_\" + str(i), 0, 0.3, step=0.1)))\n",
    "    \n",
    "    # Add output layer.\n",
    "    model.add(keras.layers.Dense(units=10, activation=\"softmax\"))\n",
    "    \n",
    "    # Tune learning rate for Adam optimizer with values from 0.01, 0.001, or 0.0001\n",
    "    hp_learning_rate = hp.Choice(\"learning_rate\", values=[1e-2, 1e-3, 1e-4])\n",
    "    \n",
    "    # Define optimizer, loss, and metrics\n",
    "    model.compile(optimizer=keras.optimizers.Adam(learning_rate=hp_learning_rate),\n",
    "                  loss=keras.losses.SparseCategoricalCrossentropy(),\n",
    "                  metrics=[\"accuracy\"])\n",
    "    model.summary()\n",
    "    return model\n",
    "stop_early = tf.keras.callbacks.EarlyStopping(monitor='val_loss', patience=5)\n",
    "\n",
    "\n",
    "\n",
    "tuner = kt.Hyperband(build_model,\n",
    "                     objective='val_accuracy',\n",
    "                     max_epochs=10,\n",
    "                     factor=3,\n",
    "                     directory='my_dir',\n",
    "                     project_name='intro_to_kt')\n",
    "\n",
    "\n",
    "\n",
    "\n",
    "tuner.search(X_train, y_train, epochs=5, validation_split=0.2, callbacks=[stop_early], verbose=2)\n",
    "\n",
    "\n",
    "\n",
    "best_hps=tuner.get_best_hyperparameters()[0]\n",
    "h_model = tuner.hypermodel.build(best_hps)\n",
    "h_model.fit(X_train, y_train, epochs=25, validation_split=0.2, callbacks=[stop_early], verbose=2)\n",
    "\n",
    "\n",
    "\n",
    "h_model.evaluate(X_test, y_test, return_dict=True)"
   ]
  }
 ],
 "metadata": {
  "kernelspec": {
   "display_name": "Python 3 (ipykernel)",
   "language": "python",
   "name": "python3"
  },
  "language_info": {
   "codemirror_mode": {
    "name": "ipython",
    "version": 3
   },
   "file_extension": ".py",
   "mimetype": "text/x-python",
   "name": "python",
   "nbconvert_exporter": "python",
   "pygments_lexer": "ipython3",
   "version": "3.9.13"
  }
 },
 "nbformat": 4,
 "nbformat_minor": 5
}
