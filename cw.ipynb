{
 "cells": [
  {
   "cell_type": "markdown",
   "id": "bf90d397-f328-47d0-8f83-c22c0a28bb54",
   "metadata": {
    "tags": []
   },
   "source": [
    "## Imports"
   ]
  },
  {
   "cell_type": "code",
   "execution_count": 1,
   "id": "aedbcdbf-8ee5-49c5-bcf8-1e2676186d5f",
   "metadata": {},
   "outputs": [],
   "source": [
    "import warnings\n",
    "warnings.filterwarnings('ignore')\n",
    "#Ignore future version warning (version warning)"
   ]
  },
  {
   "cell_type": "code",
   "execution_count": 2,
   "id": "f1c6b1fb",
   "metadata": {},
   "outputs": [],
   "source": [
    "#import modules\n",
    "import sklearn as sk\n",
    "import seaborn as sns\n",
    "import numpy as np\n",
    "import tensorflow as tf\n",
    "import matplotlib.pyplot as plt\n",
    "import pandas as pd\n",
    "from sklearn.feature_selection import SelectKBest, f_classif\n",
    "from sklearn.neural_network import MLPRegressor\n",
    "from sklearn.pipeline import Pipeline\n",
    "from sklearn.preprocessing import LabelEncoder\n",
    "from sklearn import preprocessing\n",
    "from sklearn.svm import SVC\n",
    "from sklearn.model_selection import train_test_split, cross_val_score\n",
    "from sklearn.linear_model import LinearRegression\n",
    "from sklearn.metrics import r2_score, accuracy_score\n",
    "from sklearn.metrics import classification_report\n",
    "from sklearn.tree import DecisionTreeClassifier\n",
    "from sklearn.svm import SVR\n",
    "from sklearn.preprocessing import StandardScaler\n",
    "from sklearn.ensemble import RandomForestClassifier\n",
    "from sklearn.model_selection import GridSearchCV"
   ]
  },
  {
   "cell_type": "markdown",
   "id": "e3c15e9e",
   "metadata": {
    "tags": []
   },
   "source": [
    "# REGRESSION"
   ]
  },
  {
   "cell_type": "markdown",
   "id": "46ea2e27-f70b-47f2-969d-cf7f3d6d0fcd",
   "metadata": {
    "jp-MarkdownHeadingCollapsed": true,
    "tags": []
   },
   "source": [
    "## Data handling"
   ]
  },
  {
   "cell_type": "code",
   "execution_count": 3,
   "id": "aae3d24b",
   "metadata": {},
   "outputs": [],
   "source": [
    "data = pd.read_csv(\"winequality-red.csv\")"
   ]
  },
  {
   "cell_type": "code",
   "execution_count": 4,
   "id": "c194559e",
   "metadata": {},
   "outputs": [
    {
     "data": {
      "text/html": [
       "<div>\n",
       "<style scoped>\n",
       "    .dataframe tbody tr th:only-of-type {\n",
       "        vertical-align: middle;\n",
       "    }\n",
       "\n",
       "    .dataframe tbody tr th {\n",
       "        vertical-align: top;\n",
       "    }\n",
       "\n",
       "    .dataframe thead th {\n",
       "        text-align: right;\n",
       "    }\n",
       "</style>\n",
       "<table border=\"1\" class=\"dataframe\">\n",
       "  <thead>\n",
       "    <tr style=\"text-align: right;\">\n",
       "      <th></th>\n",
       "      <th>fixed acidity</th>\n",
       "      <th>volatile acidity</th>\n",
       "      <th>citric acid</th>\n",
       "      <th>residual sugar</th>\n",
       "      <th>chlorides</th>\n",
       "      <th>free sulfur dioxide</th>\n",
       "      <th>total sulfur dioxide</th>\n",
       "      <th>density</th>\n",
       "      <th>pH</th>\n",
       "      <th>sulphates</th>\n",
       "      <th>alcohol</th>\n",
       "      <th>quality</th>\n",
       "    </tr>\n",
       "  </thead>\n",
       "  <tbody>\n",
       "    <tr>\n",
       "      <th>0</th>\n",
       "      <td>0.193478</td>\n",
       "      <td>0.018302</td>\n",
       "      <td>0.000000</td>\n",
       "      <td>0.049677</td>\n",
       "      <td>0.001987</td>\n",
       "      <td>0.287602</td>\n",
       "      <td>0.888952</td>\n",
       "      <td>0.026088</td>\n",
       "      <td>0.091771</td>\n",
       "      <td>0.014642</td>\n",
       "      <td>0.245769</td>\n",
       "      <td>0.130728</td>\n",
       "    </tr>\n",
       "    <tr>\n",
       "      <th>1</th>\n",
       "      <td>0.106989</td>\n",
       "      <td>0.012071</td>\n",
       "      <td>0.000000</td>\n",
       "      <td>0.035663</td>\n",
       "      <td>0.001344</td>\n",
       "      <td>0.342913</td>\n",
       "      <td>0.919006</td>\n",
       "      <td>0.013673</td>\n",
       "      <td>0.043893</td>\n",
       "      <td>0.009327</td>\n",
       "      <td>0.134422</td>\n",
       "      <td>0.068583</td>\n",
       "    </tr>\n",
       "    <tr>\n",
       "      <th>2</th>\n",
       "      <td>0.134949</td>\n",
       "      <td>0.013149</td>\n",
       "      <td>0.000692</td>\n",
       "      <td>0.039793</td>\n",
       "      <td>0.001592</td>\n",
       "      <td>0.259517</td>\n",
       "      <td>0.934261</td>\n",
       "      <td>0.017249</td>\n",
       "      <td>0.056402</td>\n",
       "      <td>0.011246</td>\n",
       "      <td>0.169551</td>\n",
       "      <td>0.086506</td>\n",
       "    </tr>\n",
       "    <tr>\n",
       "      <th>3</th>\n",
       "      <td>0.173611</td>\n",
       "      <td>0.004340</td>\n",
       "      <td>0.008681</td>\n",
       "      <td>0.029452</td>\n",
       "      <td>0.001163</td>\n",
       "      <td>0.263517</td>\n",
       "      <td>0.930059</td>\n",
       "      <td>0.015470</td>\n",
       "      <td>0.048983</td>\n",
       "      <td>0.008991</td>\n",
       "      <td>0.151910</td>\n",
       "      <td>0.093006</td>\n",
       "    </tr>\n",
       "    <tr>\n",
       "      <th>4</th>\n",
       "      <td>0.193478</td>\n",
       "      <td>0.018302</td>\n",
       "      <td>0.000000</td>\n",
       "      <td>0.049677</td>\n",
       "      <td>0.001987</td>\n",
       "      <td>0.287602</td>\n",
       "      <td>0.888952</td>\n",
       "      <td>0.026088</td>\n",
       "      <td>0.091771</td>\n",
       "      <td>0.014642</td>\n",
       "      <td>0.245769</td>\n",
       "      <td>0.130728</td>\n",
       "    </tr>\n",
       "  </tbody>\n",
       "</table>\n",
       "</div>"
      ],
      "text/plain": [
       "   fixed acidity  volatile acidity  citric acid  residual sugar  chlorides  \\\n",
       "0       0.193478          0.018302     0.000000        0.049677   0.001987   \n",
       "1       0.106989          0.012071     0.000000        0.035663   0.001344   \n",
       "2       0.134949          0.013149     0.000692        0.039793   0.001592   \n",
       "3       0.173611          0.004340     0.008681        0.029452   0.001163   \n",
       "4       0.193478          0.018302     0.000000        0.049677   0.001987   \n",
       "\n",
       "   free sulfur dioxide  total sulfur dioxide   density        pH  sulphates  \\\n",
       "0             0.287602              0.888952  0.026088  0.091771   0.014642   \n",
       "1             0.342913              0.919006  0.013673  0.043893   0.009327   \n",
       "2             0.259517              0.934261  0.017249  0.056402   0.011246   \n",
       "3             0.263517              0.930059  0.015470  0.048983   0.008991   \n",
       "4             0.287602              0.888952  0.026088  0.091771   0.014642   \n",
       "\n",
       "    alcohol   quality  \n",
       "0  0.245769  0.130728  \n",
       "1  0.134422  0.068583  \n",
       "2  0.169551  0.086506  \n",
       "3  0.151910  0.093006  \n",
       "4  0.245769  0.130728  "
      ]
     },
     "execution_count": 4,
     "metadata": {},
     "output_type": "execute_result"
    }
   ],
   "source": [
    "# clean data\n",
    "d = preprocessing.normalize(data)\n",
    "df = pd.DataFrame(d, columns=data.columns)\n",
    "df.head()"
   ]
  },
  {
   "cell_type": "code",
   "execution_count": 5,
   "id": "edb23139-3489-4283-a88f-c3d777ab0b93",
   "metadata": {},
   "outputs": [],
   "source": [
    " #Seperate dependant and independant variable\n",
    "data_input=df.drop(['quality'],axis=1).values\n",
    "data_output=df['quality'].values"
   ]
  },
  {
   "cell_type": "markdown",
   "id": "1ed45b1b-e3db-46d4-9858-b9fd2f20a902",
   "metadata": {
    "jp-MarkdownHeadingCollapsed": true,
    "tags": []
   },
   "source": [
    "## Logistic Regression"
   ]
  },
  {
   "cell_type": "code",
   "execution_count": 6,
   "id": "08349dbd",
   "metadata": {},
   "outputs": [],
   "source": [
    "#Split dataset\n",
    "x_train,x_test,y_train,y_test=train_test_split(data_input,data_output,test_size=0.3,random_state=1)"
   ]
  },
  {
   "cell_type": "code",
   "execution_count": 7,
   "id": "0b318a0c",
   "metadata": {},
   "outputs": [
    {
     "data": {
      "text/plain": [
       "LinearRegression()"
      ]
     },
     "execution_count": 7,
     "metadata": {},
     "output_type": "execute_result"
    }
   ],
   "source": [
    "#Train model\n",
    "ml=LinearRegression()\n",
    "ml.fit(x_train,y_train)"
   ]
  },
  {
   "cell_type": "code",
   "execution_count": 8,
   "id": "45bba6c3",
   "metadata": {},
   "outputs": [],
   "source": [
    "y_pred=ml.predict(x_test)"
   ]
  },
  {
   "cell_type": "code",
   "execution_count": 9,
   "id": "6935bf00-333a-4f85-aaca-3b56d8813bd6",
   "metadata": {},
   "outputs": [],
   "source": [
    "##Evaluation of Linear regression"
   ]
  },
  {
   "cell_type": "code",
   "execution_count": 10,
   "id": "f9a9dfe9-e37c-4025-8877-c50c34c97c42",
   "metadata": {},
   "outputs": [
    {
     "data": {
      "text/plain": [
       "GridSearchCV(cv=10, estimator=LinearRegression(),\n",
       "             param_grid={'fit_intercept': [False, True],\n",
       "                         'n_jobs': [0, 1, 10, 50]},\n",
       "             scoring='neg_mean_squared_error')"
      ]
     },
     "execution_count": 10,
     "metadata": {},
     "output_type": "execute_result"
    }
   ],
   "source": [
    "#Eval on hyper-parameters of LinearRegression\n",
    "gs_LinearRegression = GridSearchCV(LinearRegression(),{\n",
    "    'fit_intercept': [False,True], #Default = False\n",
    "    'n_jobs': [0,1,10,50],\n",
    "}, cv=10, return_train_score=False, scoring = 'neg_mean_squared_error')\n",
    "gs_LinearRegression.fit(data_input,data_output)"
   ]
  },
  {
   "cell_type": "code",
   "execution_count": 11,
   "id": "6ca4c4e0-ab8e-4b17-a4c7-83ddc4d87b66",
   "metadata": {},
   "outputs": [
    {
     "data": {
      "text/html": [
       "<div>\n",
       "<style scoped>\n",
       "    .dataframe tbody tr th:only-of-type {\n",
       "        vertical-align: middle;\n",
       "    }\n",
       "\n",
       "    .dataframe tbody tr th {\n",
       "        vertical-align: top;\n",
       "    }\n",
       "\n",
       "    .dataframe thead th {\n",
       "        text-align: right;\n",
       "    }\n",
       "</style>\n",
       "<table border=\"1\" class=\"dataframe\">\n",
       "  <thead>\n",
       "    <tr style=\"text-align: right;\">\n",
       "      <th></th>\n",
       "      <th>param_fit_intercept</th>\n",
       "      <th>param_n_jobs</th>\n",
       "      <th>mean_test_score</th>\n",
       "    </tr>\n",
       "  </thead>\n",
       "  <tbody>\n",
       "    <tr>\n",
       "      <th>0</th>\n",
       "      <td>False</td>\n",
       "      <td>0</td>\n",
       "      <td>-0.000423</td>\n",
       "    </tr>\n",
       "    <tr>\n",
       "      <th>1</th>\n",
       "      <td>False</td>\n",
       "      <td>1</td>\n",
       "      <td>-0.000423</td>\n",
       "    </tr>\n",
       "    <tr>\n",
       "      <th>2</th>\n",
       "      <td>False</td>\n",
       "      <td>10</td>\n",
       "      <td>-0.000423</td>\n",
       "    </tr>\n",
       "    <tr>\n",
       "      <th>3</th>\n",
       "      <td>False</td>\n",
       "      <td>50</td>\n",
       "      <td>-0.000423</td>\n",
       "    </tr>\n",
       "    <tr>\n",
       "      <th>4</th>\n",
       "      <td>True</td>\n",
       "      <td>0</td>\n",
       "      <td>-0.000421</td>\n",
       "    </tr>\n",
       "    <tr>\n",
       "      <th>5</th>\n",
       "      <td>True</td>\n",
       "      <td>1</td>\n",
       "      <td>-0.000421</td>\n",
       "    </tr>\n",
       "    <tr>\n",
       "      <th>6</th>\n",
       "      <td>True</td>\n",
       "      <td>10</td>\n",
       "      <td>-0.000421</td>\n",
       "    </tr>\n",
       "    <tr>\n",
       "      <th>7</th>\n",
       "      <td>True</td>\n",
       "      <td>50</td>\n",
       "      <td>-0.000421</td>\n",
       "    </tr>\n",
       "  </tbody>\n",
       "</table>\n",
       "</div>"
      ],
      "text/plain": [
       "  param_fit_intercept param_n_jobs  mean_test_score\n",
       "0               False            0        -0.000423\n",
       "1               False            1        -0.000423\n",
       "2               False           10        -0.000423\n",
       "3               False           50        -0.000423\n",
       "4                True            0        -0.000421\n",
       "5                True            1        -0.000421\n",
       "6                True           10        -0.000421\n",
       "7                True           50        -0.000421"
      ]
     },
     "execution_count": 11,
     "metadata": {},
     "output_type": "execute_result"
    }
   ],
   "source": [
    "dfgs = pd.DataFrame(gs_LinearRegression.cv_results_)\n",
    "dfgs[['param_fit_intercept','param_n_jobs', 'mean_test_score']]\n",
    "#Having 'param_fit_intercept' = True improves accuracy"
   ]
  },
  {
   "cell_type": "markdown",
   "id": "7828341a-f4ca-4f98-b41c-af679928d60d",
   "metadata": {
    "tags": []
   },
   "source": [
    "## Support Vector Machines"
   ]
  },
  {
   "cell_type": "code",
   "execution_count": 12,
   "id": "3b4d7aa2-9a80-4101-8475-1c3bd56bd485",
   "metadata": {},
   "outputs": [
    {
     "data": {
      "text/plain": [
       "SVR()"
      ]
     },
     "execution_count": 12,
     "metadata": {},
     "output_type": "execute_result"
    }
   ],
   "source": [
    "Xs_train, Xs_test, y_train, y_test = train_test_split(data_input, data_output, test_size=0.3, random_state=1)\n",
    "\n",
    "clf = SVR(C=1.0, kernel='rbf', degree=3)\n",
    "clf.fit(Xs_train, y_train)"
   ]
  },
  {
   "cell_type": "code",
   "execution_count": 14,
   "id": "c729969e-1ad5-44e5-b93e-ebcc798cc134",
   "metadata": {},
   "outputs": [],
   "source": [
    "##Evaluation of SVM"
   ]
  },
  {
   "cell_type": "code",
   "execution_count": 15,
   "id": "a5d4eaa2-0ae7-4f82-8978-70d932257367",
   "metadata": {},
   "outputs": [
    {
     "data": {
      "text/plain": [
       "GridSearchCV(cv=10, estimator=SVR(),\n",
       "             param_grid={'degree': [2, 3],\n",
       "                         'kernel': ['linear', 'poly', 'rbf', 'sigmoid']},\n",
       "             scoring='neg_mean_squared_error')"
      ]
     },
     "execution_count": 15,
     "metadata": {},
     "output_type": "execute_result"
    }
   ],
   "source": [
    "#Eval on hyper-parameters of LinearRegression\n",
    "gs_SVM = GridSearchCV(SVR(),{\n",
    "    'kernel' : ['linear', 'poly', 'rbf', 'sigmoid'], #default rbf\n",
    "    'degree' : [2,3], #default = 3, only applys to kernel: poly\n",
    "}, cv=10, return_train_score=False, scoring = 'neg_mean_squared_error')\n",
    "gs_SVM.fit(data_input,data_output)"
   ]
  },
  {
   "cell_type": "code",
   "execution_count": 16,
   "id": "92464020-de15-4739-a985-20f3eb844a0a",
   "metadata": {},
   "outputs": [
    {
     "data": {
      "text/html": [
       "<div>\n",
       "<style scoped>\n",
       "    .dataframe tbody tr th:only-of-type {\n",
       "        vertical-align: middle;\n",
       "    }\n",
       "\n",
       "    .dataframe tbody tr th {\n",
       "        vertical-align: top;\n",
       "    }\n",
       "\n",
       "    .dataframe thead th {\n",
       "        text-align: right;\n",
       "    }\n",
       "</style>\n",
       "<table border=\"1\" class=\"dataframe\">\n",
       "  <thead>\n",
       "    <tr style=\"text-align: right;\">\n",
       "      <th></th>\n",
       "      <th>param_kernel</th>\n",
       "      <th>param_degree</th>\n",
       "      <th>mean_test_score</th>\n",
       "    </tr>\n",
       "  </thead>\n",
       "  <tbody>\n",
       "    <tr>\n",
       "      <th>0</th>\n",
       "      <td>linear</td>\n",
       "      <td>2</td>\n",
       "      <td>-0.002554</td>\n",
       "    </tr>\n",
       "    <tr>\n",
       "      <th>1</th>\n",
       "      <td>poly</td>\n",
       "      <td>2</td>\n",
       "      <td>-0.002095</td>\n",
       "    </tr>\n",
       "    <tr>\n",
       "      <th>2</th>\n",
       "      <td>rbf</td>\n",
       "      <td>2</td>\n",
       "      <td>-0.002545</td>\n",
       "    </tr>\n",
       "    <tr>\n",
       "      <th>3</th>\n",
       "      <td>sigmoid</td>\n",
       "      <td>2</td>\n",
       "      <td>-0.002667</td>\n",
       "    </tr>\n",
       "    <tr>\n",
       "      <th>4</th>\n",
       "      <td>linear</td>\n",
       "      <td>3</td>\n",
       "      <td>-0.002554</td>\n",
       "    </tr>\n",
       "    <tr>\n",
       "      <th>5</th>\n",
       "      <td>poly</td>\n",
       "      <td>3</td>\n",
       "      <td>-0.002538</td>\n",
       "    </tr>\n",
       "    <tr>\n",
       "      <th>6</th>\n",
       "      <td>rbf</td>\n",
       "      <td>3</td>\n",
       "      <td>-0.002545</td>\n",
       "    </tr>\n",
       "    <tr>\n",
       "      <th>7</th>\n",
       "      <td>sigmoid</td>\n",
       "      <td>3</td>\n",
       "      <td>-0.002667</td>\n",
       "    </tr>\n",
       "  </tbody>\n",
       "</table>\n",
       "</div>"
      ],
      "text/plain": [
       "  param_kernel param_degree  mean_test_score\n",
       "0       linear            2        -0.002554\n",
       "1         poly            2        -0.002095\n",
       "2          rbf            2        -0.002545\n",
       "3      sigmoid            2        -0.002667\n",
       "4       linear            3        -0.002554\n",
       "5         poly            3        -0.002538\n",
       "6          rbf            3        -0.002545\n",
       "7      sigmoid            3        -0.002667"
      ]
     },
     "execution_count": 16,
     "metadata": {},
     "output_type": "execute_result"
    }
   ],
   "source": [
    "dfgs = pd.DataFrame(gs_SVM.cv_results_)\n",
    "dfgs[['param_kernel','param_degree', 'mean_test_score']]\n",
    "#Having 'kernel : poly' with a degree of 2 improves the accuracy "
   ]
  },
  {
   "cell_type": "markdown",
   "id": "1bed5441-ccbe-4bcd-92f4-991d005aae06",
   "metadata": {
    "tags": []
   },
   "source": [
    "## Decision Trees and Multi-Layer"
   ]
  },
  {
   "cell_type": "markdown",
   "id": "abb49761-e965-4e27-9d95-e0a00125c6fd",
   "metadata": {
    "tags": []
   },
   "source": [
    "## Perceptron Neural Network."
   ]
  },
  {
   "cell_type": "code",
   "execution_count": 17,
   "id": "5f6654b8",
   "metadata": {},
   "outputs": [
    {
     "data": {
      "text/plain": [
       "MLPRegressor(max_iter=10000)"
      ]
     },
     "execution_count": 17,
     "metadata": {},
     "output_type": "execute_result"
    }
   ],
   "source": [
    "mlp = MLPRegressor(max_iter=10000, activation='relu')\n",
    "mlp"
   ]
  },
  {
   "cell_type": "code",
   "execution_count": 21,
   "id": "7b3df71a",
   "metadata": {},
   "outputs": [],
   "source": [
    "x_train2,x_test2,y_train2,y_test2=train_test_split(data_input,data_output,test_size=0.3,random_state=1)"
   ]
  },
  {
   "cell_type": "code",
   "execution_count": 22,
   "id": "971edab5",
   "metadata": {},
   "outputs": [
    {
     "data": {
      "text/plain": [
       "MLPRegressor(max_iter=10000)"
      ]
     },
     "execution_count": 22,
     "metadata": {},
     "output_type": "execute_result"
    }
   ],
   "source": [
    "mlp.fit(x_train2,y_train2)"
   ]
  },
  {
   "cell_type": "code",
   "execution_count": 23,
   "id": "51e86713",
   "metadata": {},
   "outputs": [],
   "source": [
    "y_pred2 = mlp.predict(x_test2)"
   ]
  },
  {
   "cell_type": "code",
   "execution_count": 24,
   "id": "db09e7fd",
   "metadata": {
    "tags": []
   },
   "outputs": [
    {
     "data": {
      "text/plain": [
       "Text(0, 0.5, 'Predicted')"
      ]
     },
     "execution_count": 24,
     "metadata": {},
     "output_type": "execute_result"
    },
    {
     "data": {
      "image/png": "[encoded data removed]",
      "text/plain": [
       "<Figure size 2000x2000 with 1 Axes>"
      ]
     },
     "metadata": {},
     "output_type": "display_data"
    }
   ],
   "source": [
    "#Graph of how well the model performed\n",
    "plt.figure(figsize=(20, 20))\n",
    "plt.scatter(y_test2, y_pred2)\n",
    "plt.xlabel(\"Actual value\")\n",
    "plt.ylabel(\"Predicted\")"
   ]
  },
  {
   "cell_type": "code",
   "execution_count": 25,
   "id": "50d19699-2129-471d-bca9-c752248d6eee",
   "metadata": {},
   "outputs": [
    {
     "data": {
      "text/plain": [
       "GridSearchCV(cv=5, estimator=MLPRegressor(),\n",
       "             param_grid={'activation': ['identity', 'logistic', 'tanh', 'relu'],\n",
       "                         'solver': ['lbfgs', 'sgd', 'adam']},\n",
       "             scoring='neg_mean_squared_error')"
      ]
     },
     "execution_count": 25,
     "metadata": {},
     "output_type": "execute_result"
    }
   ],
   "source": [
    "#Eval on hyper-parameters of MLPRegressor\n",
    "gs_MLP = GridSearchCV( MLPRegressor(),{\n",
    "    'activation': ['identity', 'logistic', 'tanh', 'relu'], #default =relu\n",
    "    'solver': ['lbfgs','sgd','adam'] #default =adam\n",
    "}, cv=5, return_train_score=False, scoring = 'neg_mean_squared_error')\n",
    "gs_MLP.fit(data_input,data_output)"
   ]
  },
  {
   "cell_type": "code",
   "execution_count": 26,
   "id": "0f787642-4257-4f7f-9970-e843b1fc2e0e",
   "metadata": {},
   "outputs": [
    {
     "data": {
      "text/html": [
       "<div>\n",
       "<style scoped>\n",
       "    .dataframe tbody tr th:only-of-type {\n",
       "        vertical-align: middle;\n",
       "    }\n",
       "\n",
       "    .dataframe tbody tr th {\n",
       "        vertical-align: top;\n",
       "    }\n",
       "\n",
       "    .dataframe thead th {\n",
       "        text-align: right;\n",
       "    }\n",
       "</style>\n",
       "<table border=\"1\" class=\"dataframe\">\n",
       "  <thead>\n",
       "    <tr style=\"text-align: right;\">\n",
       "      <th></th>\n",
       "      <th>param_activation</th>\n",
       "      <th>param_solver</th>\n",
       "      <th>mean_test_score</th>\n",
       "    </tr>\n",
       "  </thead>\n",
       "  <tbody>\n",
       "    <tr>\n",
       "      <th>0</th>\n",
       "      <td>identity</td>\n",
       "      <td>lbfgs</td>\n",
       "      <td>-0.000536</td>\n",
       "    </tr>\n",
       "    <tr>\n",
       "      <th>1</th>\n",
       "      <td>identity</td>\n",
       "      <td>sgd</td>\n",
       "      <td>-0.005078</td>\n",
       "    </tr>\n",
       "    <tr>\n",
       "      <th>2</th>\n",
       "      <td>identity</td>\n",
       "      <td>adam</td>\n",
       "      <td>-0.000589</td>\n",
       "    </tr>\n",
       "    <tr>\n",
       "      <th>3</th>\n",
       "      <td>logistic</td>\n",
       "      <td>lbfgs</td>\n",
       "      <td>-0.000587</td>\n",
       "    </tr>\n",
       "    <tr>\n",
       "      <th>4</th>\n",
       "      <td>logistic</td>\n",
       "      <td>sgd</td>\n",
       "      <td>-0.006567</td>\n",
       "    </tr>\n",
       "    <tr>\n",
       "      <th>5</th>\n",
       "      <td>logistic</td>\n",
       "      <td>adam</td>\n",
       "      <td>-0.001288</td>\n",
       "    </tr>\n",
       "    <tr>\n",
       "      <th>6</th>\n",
       "      <td>tanh</td>\n",
       "      <td>lbfgs</td>\n",
       "      <td>-0.000572</td>\n",
       "    </tr>\n",
       "    <tr>\n",
       "      <th>7</th>\n",
       "      <td>tanh</td>\n",
       "      <td>sgd</td>\n",
       "      <td>-0.006822</td>\n",
       "    </tr>\n",
       "    <tr>\n",
       "      <th>8</th>\n",
       "      <td>tanh</td>\n",
       "      <td>adam</td>\n",
       "      <td>-0.000599</td>\n",
       "    </tr>\n",
       "    <tr>\n",
       "      <th>9</th>\n",
       "      <td>relu</td>\n",
       "      <td>lbfgs</td>\n",
       "      <td>-0.000471</td>\n",
       "    </tr>\n",
       "    <tr>\n",
       "      <th>10</th>\n",
       "      <td>relu</td>\n",
       "      <td>sgd</td>\n",
       "      <td>-0.005653</td>\n",
       "    </tr>\n",
       "    <tr>\n",
       "      <th>11</th>\n",
       "      <td>relu</td>\n",
       "      <td>adam</td>\n",
       "      <td>-0.000699</td>\n",
       "    </tr>\n",
       "  </tbody>\n",
       "</table>\n",
       "</div>"
      ],
      "text/plain": [
       "   param_activation param_solver  mean_test_score\n",
       "0          identity        lbfgs        -0.000536\n",
       "1          identity          sgd        -0.005078\n",
       "2          identity         adam        -0.000589\n",
       "3          logistic        lbfgs        -0.000587\n",
       "4          logistic          sgd        -0.006567\n",
       "5          logistic         adam        -0.001288\n",
       "6              tanh        lbfgs        -0.000572\n",
       "7              tanh          sgd        -0.006822\n",
       "8              tanh         adam        -0.000599\n",
       "9              relu        lbfgs        -0.000471\n",
       "10             relu          sgd        -0.005653\n",
       "11             relu         adam        -0.000699"
      ]
     },
     "execution_count": 26,
     "metadata": {},
     "output_type": "execute_result"
    }
   ],
   "source": [
    "dfgs = pd.DataFrame(gs_MLP.cv_results_)\n",
    "dfgs[['param_activation','param_solver', 'mean_test_score']]\n",
    "# activation = relu , solver = lbfgs yeilds best results"
   ]
  },
  {
   "cell_type": "code",
   "execution_count": 28,
   "id": "053bac90-01fa-4244-8b3c-5fb765aec8a3",
   "metadata": {},
   "outputs": [
    {
     "data": {
      "text/plain": [
       "GridSearchCV(cv=5, estimator=MLPRegressor(),\n",
       "             param_grid={'max_fun': [15000, 20000, 10000, 25000],\n",
       "                         'solver': ['lbfgs']},\n",
       "             scoring='neg_mean_squared_error')"
      ]
     },
     "execution_count": 28,
     "metadata": {},
     "output_type": "execute_result"
    }
   ],
   "source": [
    "gs_MLP2 = GridSearchCV( MLPRegressor(),{\n",
    "    'solver': ['lbfgs'],\n",
    "    'max_fun':[15000,20000,10000,25000] #default is 15000 and only applys to lbfgs\n",
    "}, cv=5, return_train_score=False,scoring = 'neg_mean_squared_error' )\n",
    "gs_MLP2.fit(data_input,data_output)"
   ]
  },
  {
   "cell_type": "code",
   "execution_count": null,
   "id": "a029a89e-b027-4453-977a-b763da995d24",
   "metadata": {},
   "outputs": [
    {
     "data": {
      "text/html": [
       "<div>\n",
       "<style scoped>\n",
       "    .dataframe tbody tr th:only-of-type {\n",
       "        vertical-align: middle;\n",
       "    }\n",
       "\n",
       "    .dataframe tbody tr th {\n",
       "        vertical-align: top;\n",
       "    }\n",
       "\n",
       "    .dataframe thead th {\n",
       "        text-align: right;\n",
       "    }\n",
       "</style>\n",
       "<table border=\"1\" class=\"dataframe\">\n",
       "  <thead>\n",
       "    <tr style=\"text-align: right;\">\n",
       "      <th></th>\n",
       "      <th>param_max_fun</th>\n",
       "      <th>mean_test_score</th>\n",
       "    </tr>\n",
       "  </thead>\n",
       "  <tbody>\n",
       "    <tr>\n",
       "      <th>0</th>\n",
       "      <td>15000</td>\n",
       "      <td>-0.000487</td>\n",
       "    </tr>\n",
       "    <tr>\n",
       "      <th>1</th>\n",
       "      <td>20000</td>\n",
       "      <td>-0.000528</td>\n",
       "    </tr>\n",
       "    <tr>\n",
       "      <th>2</th>\n",
       "      <td>10000</td>\n",
       "      <td>-0.000513</td>\n",
       "    </tr>\n",
       "    <tr>\n",
       "      <th>3</th>\n",
       "      <td>25000</td>\n",
       "      <td>-0.000518</td>\n",
       "    </tr>\n",
       "  </tbody>\n",
       "</table>\n",
       "</div>"
      ],
      "text/plain": [
       "  param_max_fun  mean_test_score\n",
       "0         15000        -0.000487\n",
       "1         20000        -0.000528\n",
       "2         10000        -0.000513\n",
       "3         25000        -0.000518"
      ]
     },
     "execution_count": 29,
     "metadata": {},
     "output_type": "execute_result"
    }
   ],
   "source": [
    "dfgs = pd.DataFrame(gs_MLP2.cv_results_)\n",
    "dfgs[['param_max_fun', 'mean_test_score']]\n",
    "#Default is best "
   ]
  },
  {
   "cell_type": "markdown",
   "id": "5299f69c",
   "metadata": {},
   "source": [
    "# CLASSIFICATION"
   ]
  },
  {
   "cell_type": "markdown",
   "id": "5efd8171-4fb4-4610-b5c6-09590720ae58",
   "metadata": {
    "tags": []
   },
   "source": [
    "## Data Handling"
   ]
  },
  {
   "cell_type": "code",
   "execution_count": 30,
   "id": "53123947",
   "metadata": {},
   "outputs": [
    {
     "data": {
      "text/plain": [
       "Age                  0\n",
       "Workclass         1836\n",
       "Fnlwgt               0\n",
       "Education            0\n",
       "Education-num        0\n",
       "Marital-Status       0\n",
       "Occupation        1843\n",
       "Relationship         0\n",
       "Race                 0\n",
       "Sex                  0\n",
       "Capital-gain         0\n",
       "Capital-loss         0\n",
       "Hours-per-week       0\n",
       "Native-country     583\n",
       "Sum                  0\n",
       "dtype: int64"
      ]
     },
     "execution_count": 30,
     "metadata": {},
     "output_type": "execute_result"
    }
   ],
   "source": [
    "# import classifcation data set\n",
    "df=pd.read_csv('adult.csv', index_col=False)\n",
    "df.isnull().sum()"
   ]
  },
  {
   "cell_type": "code",
   "execution_count": 31,
   "id": "9c113e4d",
   "metadata": {},
   "outputs": [
    {
     "data": {
      "text/plain": [
       "75"
      ]
     },
     "execution_count": 31,
     "metadata": {},
     "output_type": "execute_result"
    }
   ],
   "source": [
    "# clean data\n",
    "\n",
    "dfclean = df.dropna() # Drops rows with empty values\n",
    "dfclean.isnull().sum()\n",
    "dfclean.loc[dfclean['Age'] > 80].shape[0]\n",
    "#dfclean[dfclean.Age >80].sum\n",
    "#sns.boxplot(dfclean['Age'])\n",
    "\n",
    "#data_mean = df.iloc[:, :]\n",
    "#data_mean.plot(kind='box', subplots=True, layout=(8,4), sharex=False,\n",
    "#sharey=False, fontsize=12, figsize=(15,20))"
   ]
  },
  {
   "cell_type": "code",
   "execution_count": 32,
   "id": "7c2a6d45-696f-4952-8c59-64a1b1b54b71",
   "metadata": {},
   "outputs": [
    {
     "data": {
      "text/plain": [
       "23"
      ]
     },
     "execution_count": 32,
     "metadata": {},
     "output_type": "execute_result"
    }
   ],
   "source": [
    "dfclean.duplicated().sum()"
   ]
  },
  {
   "cell_type": "code",
   "execution_count": 33,
   "id": "750f423a-f4e0-4707-a356-d3b5f238da77",
   "metadata": {},
   "outputs": [
    {
     "data": {
      "text/plain": [
       "0"
      ]
     },
     "execution_count": 33,
     "metadata": {},
     "output_type": "execute_result"
    }
   ],
   "source": [
    "dfdropd = dfclean.drop_duplicates()\n",
    "dfdropd.duplicated().sum()"
   ]
  },
  {
   "cell_type": "code",
   "execution_count": 34,
   "id": "69a1fe36-d564-4a14-9383-9072b9828d17",
   "metadata": {},
   "outputs": [
    {
     "data": {
      "text/html": [
       "<div>\n",
       "<style scoped>\n",
       "    .dataframe tbody tr th:only-of-type {\n",
       "        vertical-align: middle;\n",
       "    }\n",
       "\n",
       "    .dataframe tbody tr th {\n",
       "        vertical-align: top;\n",
       "    }\n",
       "\n",
       "    .dataframe thead th {\n",
       "        text-align: right;\n",
       "    }\n",
       "</style>\n",
       "<table border=\"1\" class=\"dataframe\">\n",
       "  <thead>\n",
       "    <tr style=\"text-align: right;\">\n",
       "      <th></th>\n",
       "      <th>Age</th>\n",
       "      <th>Workclass</th>\n",
       "      <th>Fnlwgt</th>\n",
       "      <th>Education</th>\n",
       "      <th>Education-num</th>\n",
       "      <th>Marital-Status</th>\n",
       "      <th>Occupation</th>\n",
       "      <th>Relationship</th>\n",
       "      <th>Race</th>\n",
       "      <th>Sex</th>\n",
       "      <th>Capital-gain</th>\n",
       "      <th>Capital-loss</th>\n",
       "      <th>Hours-per-week</th>\n",
       "      <th>Native-country</th>\n",
       "      <th>Sum</th>\n",
       "    </tr>\n",
       "  </thead>\n",
       "  <tbody>\n",
       "    <tr>\n",
       "      <th>0</th>\n",
       "      <td>39</td>\n",
       "      <td>5</td>\n",
       "      <td>77516</td>\n",
       "      <td>9</td>\n",
       "      <td>13</td>\n",
       "      <td>4</td>\n",
       "      <td>0</td>\n",
       "      <td>1</td>\n",
       "      <td>4</td>\n",
       "      <td>1</td>\n",
       "      <td>2174</td>\n",
       "      <td>0</td>\n",
       "      <td>40</td>\n",
       "      <td>38</td>\n",
       "      <td>0</td>\n",
       "    </tr>\n",
       "    <tr>\n",
       "      <th>1</th>\n",
       "      <td>50</td>\n",
       "      <td>4</td>\n",
       "      <td>83311</td>\n",
       "      <td>9</td>\n",
       "      <td>13</td>\n",
       "      <td>2</td>\n",
       "      <td>3</td>\n",
       "      <td>0</td>\n",
       "      <td>4</td>\n",
       "      <td>1</td>\n",
       "      <td>0</td>\n",
       "      <td>0</td>\n",
       "      <td>13</td>\n",
       "      <td>38</td>\n",
       "      <td>0</td>\n",
       "    </tr>\n",
       "    <tr>\n",
       "      <th>2</th>\n",
       "      <td>38</td>\n",
       "      <td>2</td>\n",
       "      <td>215646</td>\n",
       "      <td>11</td>\n",
       "      <td>9</td>\n",
       "      <td>0</td>\n",
       "      <td>5</td>\n",
       "      <td>1</td>\n",
       "      <td>4</td>\n",
       "      <td>1</td>\n",
       "      <td>0</td>\n",
       "      <td>0</td>\n",
       "      <td>40</td>\n",
       "      <td>38</td>\n",
       "      <td>0</td>\n",
       "    </tr>\n",
       "    <tr>\n",
       "      <th>3</th>\n",
       "      <td>53</td>\n",
       "      <td>2</td>\n",
       "      <td>234721</td>\n",
       "      <td>1</td>\n",
       "      <td>7</td>\n",
       "      <td>2</td>\n",
       "      <td>5</td>\n",
       "      <td>0</td>\n",
       "      <td>2</td>\n",
       "      <td>1</td>\n",
       "      <td>0</td>\n",
       "      <td>0</td>\n",
       "      <td>40</td>\n",
       "      <td>38</td>\n",
       "      <td>0</td>\n",
       "    </tr>\n",
       "    <tr>\n",
       "      <th>4</th>\n",
       "      <td>28</td>\n",
       "      <td>2</td>\n",
       "      <td>338409</td>\n",
       "      <td>9</td>\n",
       "      <td>13</td>\n",
       "      <td>2</td>\n",
       "      <td>9</td>\n",
       "      <td>5</td>\n",
       "      <td>2</td>\n",
       "      <td>0</td>\n",
       "      <td>0</td>\n",
       "      <td>0</td>\n",
       "      <td>40</td>\n",
       "      <td>4</td>\n",
       "      <td>0</td>\n",
       "    </tr>\n",
       "    <tr>\n",
       "      <th>...</th>\n",
       "      <td>...</td>\n",
       "      <td>...</td>\n",
       "      <td>...</td>\n",
       "      <td>...</td>\n",
       "      <td>...</td>\n",
       "      <td>...</td>\n",
       "      <td>...</td>\n",
       "      <td>...</td>\n",
       "      <td>...</td>\n",
       "      <td>...</td>\n",
       "      <td>...</td>\n",
       "      <td>...</td>\n",
       "      <td>...</td>\n",
       "      <td>...</td>\n",
       "      <td>...</td>\n",
       "    </tr>\n",
       "    <tr>\n",
       "      <th>32556</th>\n",
       "      <td>27</td>\n",
       "      <td>2</td>\n",
       "      <td>257302</td>\n",
       "      <td>7</td>\n",
       "      <td>12</td>\n",
       "      <td>2</td>\n",
       "      <td>12</td>\n",
       "      <td>5</td>\n",
       "      <td>4</td>\n",
       "      <td>0</td>\n",
       "      <td>0</td>\n",
       "      <td>0</td>\n",
       "      <td>38</td>\n",
       "      <td>38</td>\n",
       "      <td>0</td>\n",
       "    </tr>\n",
       "    <tr>\n",
       "      <th>32557</th>\n",
       "      <td>40</td>\n",
       "      <td>2</td>\n",
       "      <td>154374</td>\n",
       "      <td>11</td>\n",
       "      <td>9</td>\n",
       "      <td>2</td>\n",
       "      <td>6</td>\n",
       "      <td>0</td>\n",
       "      <td>4</td>\n",
       "      <td>1</td>\n",
       "      <td>0</td>\n",
       "      <td>0</td>\n",
       "      <td>40</td>\n",
       "      <td>38</td>\n",
       "      <td>1</td>\n",
       "    </tr>\n",
       "    <tr>\n",
       "      <th>32558</th>\n",
       "      <td>58</td>\n",
       "      <td>2</td>\n",
       "      <td>151910</td>\n",
       "      <td>11</td>\n",
       "      <td>9</td>\n",
       "      <td>6</td>\n",
       "      <td>0</td>\n",
       "      <td>4</td>\n",
       "      <td>4</td>\n",
       "      <td>0</td>\n",
       "      <td>0</td>\n",
       "      <td>0</td>\n",
       "      <td>40</td>\n",
       "      <td>38</td>\n",
       "      <td>0</td>\n",
       "    </tr>\n",
       "    <tr>\n",
       "      <th>32559</th>\n",
       "      <td>22</td>\n",
       "      <td>2</td>\n",
       "      <td>201490</td>\n",
       "      <td>11</td>\n",
       "      <td>9</td>\n",
       "      <td>4</td>\n",
       "      <td>0</td>\n",
       "      <td>3</td>\n",
       "      <td>4</td>\n",
       "      <td>1</td>\n",
       "      <td>0</td>\n",
       "      <td>0</td>\n",
       "      <td>20</td>\n",
       "      <td>38</td>\n",
       "      <td>0</td>\n",
       "    </tr>\n",
       "    <tr>\n",
       "      <th>32560</th>\n",
       "      <td>52</td>\n",
       "      <td>3</td>\n",
       "      <td>287927</td>\n",
       "      <td>11</td>\n",
       "      <td>9</td>\n",
       "      <td>2</td>\n",
       "      <td>3</td>\n",
       "      <td>5</td>\n",
       "      <td>4</td>\n",
       "      <td>0</td>\n",
       "      <td>15024</td>\n",
       "      <td>0</td>\n",
       "      <td>40</td>\n",
       "      <td>38</td>\n",
       "      <td>1</td>\n",
       "    </tr>\n",
       "  </tbody>\n",
       "</table>\n",
       "<p>30139 rows × 15 columns</p>\n",
       "</div>"
      ],
      "text/plain": [
       "       Age  Workclass  Fnlwgt  Education  Education-num  Marital-Status  \\\n",
       "0       39          5   77516          9             13               4   \n",
       "1       50          4   83311          9             13               2   \n",
       "2       38          2  215646         11              9               0   \n",
       "3       53          2  234721          1              7               2   \n",
       "4       28          2  338409          9             13               2   \n",
       "...    ...        ...     ...        ...            ...             ...   \n",
       "32556   27          2  257302          7             12               2   \n",
       "32557   40          2  154374         11              9               2   \n",
       "32558   58          2  151910         11              9               6   \n",
       "32559   22          2  201490         11              9               4   \n",
       "32560   52          3  287927         11              9               2   \n",
       "\n",
       "       Occupation  Relationship  Race  Sex  Capital-gain  Capital-loss  \\\n",
       "0               0             1     4    1          2174             0   \n",
       "1               3             0     4    1             0             0   \n",
       "2               5             1     4    1             0             0   \n",
       "3               5             0     2    1             0             0   \n",
       "4               9             5     2    0             0             0   \n",
       "...           ...           ...   ...  ...           ...           ...   \n",
       "32556          12             5     4    0             0             0   \n",
       "32557           6             0     4    1             0             0   \n",
       "32558           0             4     4    0             0             0   \n",
       "32559           0             3     4    1             0             0   \n",
       "32560           3             5     4    0         15024             0   \n",
       "\n",
       "       Hours-per-week  Native-country  Sum  \n",
       "0                  40              38    0  \n",
       "1                  13              38    0  \n",
       "2                  40              38    0  \n",
       "3                  40              38    0  \n",
       "4                  40               4    0  \n",
       "...               ...             ...  ...  \n",
       "32556              38              38    0  \n",
       "32557              40              38    1  \n",
       "32558              40              38    0  \n",
       "32559              20              38    0  \n",
       "32560              40              38    1  \n",
       "\n",
       "[30139 rows x 15 columns]"
      ]
     },
     "execution_count": 34,
     "metadata": {},
     "output_type": "execute_result"
    }
   ],
   "source": [
    "labelencoder = LabelEncoder()\n",
    "dfcopy = dfdropd.copy()\n",
    "#df1 = labelencoder.fit_transform(dfdropd['Sex'])\n",
    "dfcopy['Race'] = labelencoder.fit_transform(dfcopy['Race'])\n",
    "dfcopy['Sex'] = labelencoder.fit_transform(dfcopy['Sex'])\n",
    "dfcopy['Occupation'] = labelencoder.fit_transform(dfcopy['Occupation'])\n",
    "dfcopy['Relationship'] = labelencoder.fit_transform(dfcopy['Relationship'])\n",
    "dfcopy['Marital-Status'] = labelencoder.fit_transform(dfcopy['Marital-Status'])\n",
    "dfcopy['Education'] = labelencoder.fit_transform(dfcopy['Education'])\n",
    "dfcopy['Workclass'] = labelencoder.fit_transform(dfcopy['Workclass'])\n",
    "dfcopy['Native-country'] = labelencoder.fit_transform(dfcopy['Native-country'])\n",
    "dfcopy['Sum'] = labelencoder.fit_transform(dfcopy['Sum'])\n",
    "dfcopy\n",
    "\n",
    "#dfcopy"
   ]
  },
  {
   "cell_type": "code",
   "execution_count": 35,
   "id": "5d16bee9-db94-417b-b18f-ca3216a78eaf",
   "metadata": {},
   "outputs": [
    {
     "data": {
      "text/html": [
       "<div>\n",
       "<style scoped>\n",
       "    .dataframe tbody tr th:only-of-type {\n",
       "        vertical-align: middle;\n",
       "    }\n",
       "\n",
       "    .dataframe tbody tr th {\n",
       "        vertical-align: top;\n",
       "    }\n",
       "\n",
       "    .dataframe thead th {\n",
       "        text-align: right;\n",
       "    }\n",
       "</style>\n",
       "<table border=\"1\" class=\"dataframe\">\n",
       "  <thead>\n",
       "    <tr style=\"text-align: right;\">\n",
       "      <th></th>\n",
       "      <th>Age</th>\n",
       "      <th>Workclass</th>\n",
       "      <th>Fnlwgt</th>\n",
       "      <th>Education</th>\n",
       "      <th>Education-num</th>\n",
       "      <th>Marital-Status</th>\n",
       "      <th>Occupation</th>\n",
       "      <th>Relationship</th>\n",
       "      <th>Race</th>\n",
       "      <th>Sex</th>\n",
       "      <th>Capital-gain</th>\n",
       "      <th>Capital-loss</th>\n",
       "      <th>Hours-per-week</th>\n",
       "      <th>Native-country</th>\n",
       "      <th>Sum</th>\n",
       "    </tr>\n",
       "  </thead>\n",
       "  <tbody>\n",
       "    <tr>\n",
       "      <th>0</th>\n",
       "      <td>39</td>\n",
       "      <td>5</td>\n",
       "      <td>-1.062676</td>\n",
       "      <td>9</td>\n",
       "      <td>13</td>\n",
       "      <td>4</td>\n",
       "      <td>0</td>\n",
       "      <td>1</td>\n",
       "      <td>4</td>\n",
       "      <td>1</td>\n",
       "      <td>2174</td>\n",
       "      <td>0</td>\n",
       "      <td>40</td>\n",
       "      <td>38</td>\n",
       "      <td>0</td>\n",
       "    </tr>\n",
       "    <tr>\n",
       "      <th>1</th>\n",
       "      <td>50</td>\n",
       "      <td>4</td>\n",
       "      <td>-1.007829</td>\n",
       "      <td>9</td>\n",
       "      <td>13</td>\n",
       "      <td>2</td>\n",
       "      <td>3</td>\n",
       "      <td>0</td>\n",
       "      <td>4</td>\n",
       "      <td>1</td>\n",
       "      <td>0</td>\n",
       "      <td>0</td>\n",
       "      <td>13</td>\n",
       "      <td>38</td>\n",
       "      <td>0</td>\n",
       "    </tr>\n",
       "    <tr>\n",
       "      <th>2</th>\n",
       "      <td>38</td>\n",
       "      <td>2</td>\n",
       "      <td>0.244669</td>\n",
       "      <td>11</td>\n",
       "      <td>9</td>\n",
       "      <td>0</td>\n",
       "      <td>5</td>\n",
       "      <td>1</td>\n",
       "      <td>4</td>\n",
       "      <td>1</td>\n",
       "      <td>0</td>\n",
       "      <td>0</td>\n",
       "      <td>40</td>\n",
       "      <td>38</td>\n",
       "      <td>0</td>\n",
       "    </tr>\n",
       "    <tr>\n",
       "      <th>3</th>\n",
       "      <td>53</td>\n",
       "      <td>2</td>\n",
       "      <td>0.425206</td>\n",
       "      <td>1</td>\n",
       "      <td>7</td>\n",
       "      <td>2</td>\n",
       "      <td>5</td>\n",
       "      <td>0</td>\n",
       "      <td>2</td>\n",
       "      <td>1</td>\n",
       "      <td>0</td>\n",
       "      <td>0</td>\n",
       "      <td>40</td>\n",
       "      <td>38</td>\n",
       "      <td>0</td>\n",
       "    </tr>\n",
       "    <tr>\n",
       "      <th>4</th>\n",
       "      <td>28</td>\n",
       "      <td>2</td>\n",
       "      <td>1.406572</td>\n",
       "      <td>9</td>\n",
       "      <td>13</td>\n",
       "      <td>2</td>\n",
       "      <td>9</td>\n",
       "      <td>5</td>\n",
       "      <td>2</td>\n",
       "      <td>0</td>\n",
       "      <td>0</td>\n",
       "      <td>0</td>\n",
       "      <td>40</td>\n",
       "      <td>4</td>\n",
       "      <td>0</td>\n",
       "    </tr>\n",
       "    <tr>\n",
       "      <th>...</th>\n",
       "      <td>...</td>\n",
       "      <td>...</td>\n",
       "      <td>...</td>\n",
       "      <td>...</td>\n",
       "      <td>...</td>\n",
       "      <td>...</td>\n",
       "      <td>...</td>\n",
       "      <td>...</td>\n",
       "      <td>...</td>\n",
       "      <td>...</td>\n",
       "      <td>...</td>\n",
       "      <td>...</td>\n",
       "      <td>...</td>\n",
       "      <td>...</td>\n",
       "      <td>...</td>\n",
       "    </tr>\n",
       "    <tr>\n",
       "      <th>32556</th>\n",
       "      <td>27</td>\n",
       "      <td>2</td>\n",
       "      <td>0.638926</td>\n",
       "      <td>7</td>\n",
       "      <td>12</td>\n",
       "      <td>2</td>\n",
       "      <td>12</td>\n",
       "      <td>5</td>\n",
       "      <td>4</td>\n",
       "      <td>0</td>\n",
       "      <td>0</td>\n",
       "      <td>0</td>\n",
       "      <td>38</td>\n",
       "      <td>38</td>\n",
       "      <td>0</td>\n",
       "    </tr>\n",
       "    <tr>\n",
       "      <th>32557</th>\n",
       "      <td>40</td>\n",
       "      <td>2</td>\n",
       "      <td>-0.335246</td>\n",
       "      <td>11</td>\n",
       "      <td>9</td>\n",
       "      <td>2</td>\n",
       "      <td>6</td>\n",
       "      <td>0</td>\n",
       "      <td>4</td>\n",
       "      <td>1</td>\n",
       "      <td>0</td>\n",
       "      <td>0</td>\n",
       "      <td>40</td>\n",
       "      <td>38</td>\n",
       "      <td>1</td>\n",
       "    </tr>\n",
       "    <tr>\n",
       "      <th>32558</th>\n",
       "      <td>58</td>\n",
       "      <td>2</td>\n",
       "      <td>-0.358567</td>\n",
       "      <td>11</td>\n",
       "      <td>9</td>\n",
       "      <td>6</td>\n",
       "      <td>0</td>\n",
       "      <td>4</td>\n",
       "      <td>4</td>\n",
       "      <td>0</td>\n",
       "      <td>0</td>\n",
       "      <td>0</td>\n",
       "      <td>40</td>\n",
       "      <td>38</td>\n",
       "      <td>0</td>\n",
       "    </tr>\n",
       "    <tr>\n",
       "      <th>32559</th>\n",
       "      <td>22</td>\n",
       "      <td>2</td>\n",
       "      <td>0.110688</td>\n",
       "      <td>11</td>\n",
       "      <td>9</td>\n",
       "      <td>4</td>\n",
       "      <td>0</td>\n",
       "      <td>3</td>\n",
       "      <td>4</td>\n",
       "      <td>1</td>\n",
       "      <td>0</td>\n",
       "      <td>0</td>\n",
       "      <td>20</td>\n",
       "      <td>38</td>\n",
       "      <td>0</td>\n",
       "    </tr>\n",
       "    <tr>\n",
       "      <th>32560</th>\n",
       "      <td>52</td>\n",
       "      <td>3</td>\n",
       "      <td>0.928780</td>\n",
       "      <td>11</td>\n",
       "      <td>9</td>\n",
       "      <td>2</td>\n",
       "      <td>3</td>\n",
       "      <td>5</td>\n",
       "      <td>4</td>\n",
       "      <td>0</td>\n",
       "      <td>15024</td>\n",
       "      <td>0</td>\n",
       "      <td>40</td>\n",
       "      <td>38</td>\n",
       "      <td>1</td>\n",
       "    </tr>\n",
       "  </tbody>\n",
       "</table>\n",
       "<p>30139 rows × 15 columns</p>\n",
       "</div>"
      ],
      "text/plain": [
       "       Age  Workclass    Fnlwgt  Education  Education-num  Marital-Status  \\\n",
       "0       39          5 -1.062676          9             13               4   \n",
       "1       50          4 -1.007829          9             13               2   \n",
       "2       38          2  0.244669         11              9               0   \n",
       "3       53          2  0.425206          1              7               2   \n",
       "4       28          2  1.406572          9             13               2   \n",
       "...    ...        ...       ...        ...            ...             ...   \n",
       "32556   27          2  0.638926          7             12               2   \n",
       "32557   40          2 -0.335246         11              9               2   \n",
       "32558   58          2 -0.358567         11              9               6   \n",
       "32559   22          2  0.110688         11              9               4   \n",
       "32560   52          3  0.928780         11              9               2   \n",
       "\n",
       "       Occupation  Relationship  Race  Sex  Capital-gain  Capital-loss  \\\n",
       "0               0             1     4    1          2174             0   \n",
       "1               3             0     4    1             0             0   \n",
       "2               5             1     4    1             0             0   \n",
       "3               5             0     2    1             0             0   \n",
       "4               9             5     2    0             0             0   \n",
       "...           ...           ...   ...  ...           ...           ...   \n",
       "32556          12             5     4    0             0             0   \n",
       "32557           6             0     4    1             0             0   \n",
       "32558           0             4     4    0             0             0   \n",
       "32559           0             3     4    1             0             0   \n",
       "32560           3             5     4    0         15024             0   \n",
       "\n",
       "       Hours-per-week  Native-country  Sum  \n",
       "0                  40              38    0  \n",
       "1                  13              38    0  \n",
       "2                  40              38    0  \n",
       "3                  40              38    0  \n",
       "4                  40               4    0  \n",
       "...               ...             ...  ...  \n",
       "32556              38              38    0  \n",
       "32557              40              38    1  \n",
       "32558              40              38    0  \n",
       "32559              20              38    0  \n",
       "32560              40              38    1  \n",
       "\n",
       "[30139 rows x 15 columns]"
      ]
     },
     "execution_count": 35,
     "metadata": {},
     "output_type": "execute_result"
    }
   ],
   "source": [
    "X = dfcopy[['Fnlwgt']]\n",
    "# Normalise the features to use zero mean normalisation\n",
    "# only for the first 10 features, but try yourself to visualise more features\n",
    "scaler = StandardScaler()\n",
    "dfcopy['Fnlwgt'] = scaler.fit_transform(X)\n",
    "data = dfcopy\n",
    "dfcopy"
   ]
  },
  {
   "cell_type": "markdown",
   "id": "568e1e6e-4b05-4cb9-9b24-24d848b21c62",
   "metadata": {
    "tags": []
   },
   "source": [
    "## Logistic Regression"
   ]
  },
  {
   "cell_type": "code",
   "execution_count": 37,
   "id": "524f4f74-129f-46f6-8a37-5e28ea69d373",
   "metadata": {},
   "outputs": [
    {
     "name": "stdout",
     "output_type": "stream",
     "text": [
      "              precision    recall  f1-score   support\n",
      "\n",
      "           0       0.84      0.94      0.89      6790\n",
      "           1       0.72      0.46      0.56      2252\n",
      "\n",
      "    accuracy                           0.82      9042\n",
      "   macro avg       0.78      0.70      0.73      9042\n",
      "weighted avg       0.81      0.82      0.81      9042\n",
      "\n",
      "0.8216102632161026\n",
      "              precision    recall  f1-score   support\n",
      "\n",
      "           0       0.83      0.93      0.88      6790\n",
      "           1       0.68      0.42      0.52      2252\n",
      "\n",
      "    accuracy                           0.81      9042\n",
      "   macro avg       0.75      0.68      0.70      9042\n",
      "weighted avg       0.79      0.81      0.79      9042\n",
      "\n",
      "0.8064587480645875\n",
      "              precision    recall  f1-score   support\n",
      "\n",
      "           0       0.84      0.94      0.89      6790\n",
      "           1       0.73      0.45      0.56      2252\n",
      "\n",
      "    accuracy                           0.82      9042\n",
      "   macro avg       0.78      0.70      0.72      9042\n",
      "weighted avg       0.81      0.82      0.81      9042\n",
      "\n",
      "0.8218314532183145\n",
      "              precision    recall  f1-score   support\n",
      "\n",
      "           0       0.83      0.94      0.88      6790\n",
      "           1       0.68      0.42      0.52      2252\n",
      "\n",
      "    accuracy                           0.81      9042\n",
      "   macro avg       0.75      0.68      0.70      9042\n",
      "weighted avg       0.79      0.81      0.79      9042\n",
      "\n",
      "0.8062375580623756\n",
      "[0.81602522 0.81751825 0.81917717 0.81884539 0.81781981]\n",
      "Average score and standard deviation: (81.79 +- 0.050)%\n"
     ]
    }
   ],
   "source": [
    "# split X and y into training and test sets, test set 30% of data \n",
    "from sklearn.model_selection import train_test_split \n",
    "\n",
    "X = dfcopy.drop(columns = ['Sum'])\n",
    "y = dfcopy['Sum']\n",
    "\n",
    "X_train, X_test, y_train, y_test = train_test_split(X, y, test_size=0.3,\n",
    "random_state=1, stratify=y)\n",
    "\n",
    "from sklearn.linear_model import LogisticRegression \n",
    "logreg = LogisticRegression(solver = 'newton-cg')\n",
    "\n",
    "logreg.fit(X_train, y_train)\n",
    "y_pred = logreg.predict(X_test)\n",
    "\n",
    "from sklearn.metrics import classification_report \n",
    "print(classification_report(y_test, y_pred))\n",
    "\n",
    "classifier_score = logreg.score(X_test, y_test )\n",
    "print(classifier_score)\n",
    "\n",
    "df_reduced = dfcopy.drop(columns = ['Capital-gain', 'Capital-loss', 'Education', 'Native-country', 'Race'])\n",
    "# split into X and y\n",
    "X1 = df_reduced.drop(columns = ['Sum'])\n",
    "y1 = df_reduced['Sum']\n",
    "X1_train, X1_test, y1_train, y1_test = train_test_split(X1, y1, test_size=0.3,\n",
    "random_state=1, stratify=y1)\n",
    "\n",
    "logreg.fit(X1_train, y1_train)\n",
    "y_pred = logreg.predict(X1_test)\n",
    "\n",
    "print(classification_report(y_test, y_pred))\n",
    "\n",
    "classifier_score = logreg.score(X1_test, y1_test )\n",
    "print(classifier_score)\n",
    "\n",
    "# try different argument for solver\n",
    "logreg2 = LogisticRegression(solver = \"liblinear\")\n",
    "logreg2.fit(X_train, y_train)\n",
    "\n",
    "y_pred = logreg2.predict(X_test)\n",
    "print(classification_report(y_test, y_pred))\n",
    "\n",
    "classifier_score = logreg2.score(X_test, y_test )\n",
    "print(classifier_score)\n",
    "\n",
    "# try solver = liblinear on reduced features data \n",
    "logreg2.fit(X1_train, y1_train)\n",
    "y_pred = logreg2.predict(X1_test)\n",
    "print(classification_report(y1_test, y_pred))\n",
    "\n",
    "classifier_score = logreg2.score(X1_test, y1_test )\n",
    "print(classifier_score)\n",
    "# dropping the features reduces the classification score and precision.\n",
    "# differs from SVM where dropping the features increased classification score\n",
    "\n",
    "# try k fold cross validation \n",
    "from sklearn.model_selection import cross_val_score\n",
    "from sklearn.feature_selection import SelectKBest, f_classif\n",
    "from sklearn.pipeline import Pipeline\n",
    "# model with just 6 best features selected (k=6)\n",
    "clf_fs_cv = Pipeline([\n",
    " ('feature_selector', SelectKBest(f_classif, k=6)),\n",
    " ('logreg', LogisticRegression(solver='liblinear'))\n",
    "])\n",
    "scores = cross_val_score(clf_fs_cv, X, y, cv=5) # 5 folds.\n",
    "print(scores)\n",
    "avg = (100 * np.mean(scores), 100 * np.std(scores)/np.sqrt(scores.shape[0]))\n",
    "print(\"Average score and standard deviation: (%.2f +- %.3f)%%\" %avg)\n"
   ]
  },
  {
   "cell_type": "code",
   "execution_count": 38,
   "id": "777e0513-e136-4494-951b-f4de092d63e1",
   "metadata": {},
   "outputs": [],
   "source": [
    "from sklearn.linear_model import LogisticRegression "
   ]
  },
  {
   "cell_type": "code",
   "execution_count": 42,
   "id": "82abc861-3257-4e34-bd35-6b23dc92bc0a",
   "metadata": {},
   "outputs": [
    {
     "data": {
      "text/plain": [
       "GridSearchCV(cv=5, estimator=LogisticRegression(),\n",
       "             param_grid={'penalty': ['none', 'l2', 'l1', 'elasticnet']},\n",
       "             scoring='accuracy')"
      ]
     },
     "execution_count": 42,
     "metadata": {},
     "output_type": "execute_result"
    }
   ],
   "source": [
    "gs_LogisticReg = GridSearchCV(LogisticRegression(),{\n",
    "    'penalty': ['none','l2','l1','elasticnet'] #default = l2\n",
    "}, cv=5, return_train_score=False, scoring = 'accuracy')\n",
    "gs_LogisticReg.fit(X,y)"
   ]
  },
  {
   "cell_type": "code",
   "execution_count": 43,
   "id": "769b23a8-74c1-4353-b08d-730242922a2f",
   "metadata": {},
   "outputs": [
    {
     "data": {
      "text/html": [
       "<div>\n",
       "<style scoped>\n",
       "    .dataframe tbody tr th:only-of-type {\n",
       "        vertical-align: middle;\n",
       "    }\n",
       "\n",
       "    .dataframe tbody tr th {\n",
       "        vertical-align: top;\n",
       "    }\n",
       "\n",
       "    .dataframe thead th {\n",
       "        text-align: right;\n",
       "    }\n",
       "</style>\n",
       "<table border=\"1\" class=\"dataframe\">\n",
       "  <thead>\n",
       "    <tr style=\"text-align: right;\">\n",
       "      <th></th>\n",
       "      <th>param_penalty</th>\n",
       "      <th>mean_test_score</th>\n",
       "    </tr>\n",
       "  </thead>\n",
       "  <tbody>\n",
       "    <tr>\n",
       "      <th>0</th>\n",
       "      <td>none</td>\n",
       "      <td>0.799994</td>\n",
       "    </tr>\n",
       "    <tr>\n",
       "      <th>1</th>\n",
       "      <td>l2</td>\n",
       "      <td>0.800690</td>\n",
       "    </tr>\n",
       "    <tr>\n",
       "      <th>2</th>\n",
       "      <td>l1</td>\n",
       "      <td>NaN</td>\n",
       "    </tr>\n",
       "    <tr>\n",
       "      <th>3</th>\n",
       "      <td>elasticnet</td>\n",
       "      <td>NaN</td>\n",
       "    </tr>\n",
       "  </tbody>\n",
       "</table>\n",
       "</div>"
      ],
      "text/plain": [
       "  param_penalty  mean_test_score\n",
       "0          none         0.799994\n",
       "1            l2         0.800690\n",
       "2            l1              NaN\n",
       "3    elasticnet              NaN"
      ]
     },
     "execution_count": 43,
     "metadata": {},
     "output_type": "execute_result"
    }
   ],
   "source": [
    "dfgs = pd.DataFrame(gs_LogisticReg.cv_results_)\n",
    "dfgs[['param_penalty', 'mean_test_score']]"
   ]
  },
  {
   "cell_type": "code",
   "execution_count": 60,
   "id": "9309bbfd-d1ff-486d-b28f-1df9d9a43c36",
   "metadata": {},
   "outputs": [
    {
     "data": {
      "text/plain": [
       "GridSearchCV(cv=5, estimator=LogisticRegression(),\n",
       "             param_grid={'fit_intercept': [True, False],\n",
       "                         'solver': ['newton-cg', 'lbfgs', 'liblinear', 'sag',\n",
       "                                    'saga']},\n",
       "             scoring='accuracy')"
      ]
     },
     "execution_count": 60,
     "metadata": {},
     "output_type": "execute_result"
    }
   ],
   "source": [
    "gs_LogisticReg = GridSearchCV(LogisticRegression(),{\n",
    "    'solver' : ['newton-cg','lbfgs','liblinear','sag','saga'],\n",
    "    'fit_intercept' : [True,False], #default = l2\n",
    "}, cv=5, return_train_score=False, scoring = 'accuracy')\n",
    "gs_LogisticReg.fit(X,y)"
   ]
  },
  {
   "cell_type": "code",
   "execution_count": 61,
   "id": "1dee6935-4504-4779-816f-cdabe54e6317",
   "metadata": {},
   "outputs": [
    {
     "data": {
      "text/html": [
       "<div>\n",
       "<style scoped>\n",
       "    .dataframe tbody tr th:only-of-type {\n",
       "        vertical-align: middle;\n",
       "    }\n",
       "\n",
       "    .dataframe tbody tr th {\n",
       "        vertical-align: top;\n",
       "    }\n",
       "\n",
       "    .dataframe thead th {\n",
       "        text-align: right;\n",
       "    }\n",
       "</style>\n",
       "<table border=\"1\" class=\"dataframe\">\n",
       "  <thead>\n",
       "    <tr style=\"text-align: right;\">\n",
       "      <th></th>\n",
       "      <th>param_fit_intercept</th>\n",
       "      <th>param_solver</th>\n",
       "      <th>mean_test_score</th>\n",
       "    </tr>\n",
       "  </thead>\n",
       "  <tbody>\n",
       "    <tr>\n",
       "      <th>0</th>\n",
       "      <td>True</td>\n",
       "      <td>newton-cg</td>\n",
       "      <td>0.820001</td>\n",
       "    </tr>\n",
       "    <tr>\n",
       "      <th>1</th>\n",
       "      <td>True</td>\n",
       "      <td>lbfgs</td>\n",
       "      <td>0.800690</td>\n",
       "    </tr>\n",
       "    <tr>\n",
       "      <th>2</th>\n",
       "      <td>True</td>\n",
       "      <td>liblinear</td>\n",
       "      <td>0.819536</td>\n",
       "    </tr>\n",
       "    <tr>\n",
       "      <th>3</th>\n",
       "      <td>True</td>\n",
       "      <td>sag</td>\n",
       "      <td>0.788381</td>\n",
       "    </tr>\n",
       "    <tr>\n",
       "      <th>4</th>\n",
       "      <td>True</td>\n",
       "      <td>saga</td>\n",
       "      <td>0.782541</td>\n",
       "    </tr>\n",
       "    <tr>\n",
       "      <th>5</th>\n",
       "      <td>False</td>\n",
       "      <td>newton-cg</td>\n",
       "      <td>0.801785</td>\n",
       "    </tr>\n",
       "    <tr>\n",
       "      <th>6</th>\n",
       "      <td>False</td>\n",
       "      <td>lbfgs</td>\n",
       "      <td>0.800491</td>\n",
       "    </tr>\n",
       "    <tr>\n",
       "      <th>7</th>\n",
       "      <td>False</td>\n",
       "      <td>liblinear</td>\n",
       "      <td>0.801885</td>\n",
       "    </tr>\n",
       "    <tr>\n",
       "      <th>8</th>\n",
       "      <td>False</td>\n",
       "      <td>sag</td>\n",
       "      <td>0.788347</td>\n",
       "    </tr>\n",
       "    <tr>\n",
       "      <th>9</th>\n",
       "      <td>False</td>\n",
       "      <td>saga</td>\n",
       "      <td>0.782541</td>\n",
       "    </tr>\n",
       "  </tbody>\n",
       "</table>\n",
       "</div>"
      ],
      "text/plain": [
       "  param_fit_intercept param_solver  mean_test_score\n",
       "0                True    newton-cg         0.820001\n",
       "1                True        lbfgs         0.800690\n",
       "2                True    liblinear         0.819536\n",
       "3                True          sag         0.788381\n",
       "4                True         saga         0.782541\n",
       "5               False    newton-cg         0.801785\n",
       "6               False        lbfgs         0.800491\n",
       "7               False    liblinear         0.801885\n",
       "8               False          sag         0.788347\n",
       "9               False         saga         0.782541"
      ]
     },
     "execution_count": 61,
     "metadata": {},
     "output_type": "execute_result"
    }
   ],
   "source": [
    "dfgs = pd.DataFrame(gs_LogisticReg.cv_results_)\n",
    "dfgs[['param_fit_intercept','param_solver', 'mean_test_score']]"
   ]
  },
  {
   "cell_type": "code",
   "execution_count": 62,
   "id": "6ffd97b7-5aca-4dc8-a740-632bc6535318",
   "metadata": {},
   "outputs": [
    {
     "data": {
      "text/plain": [
       "GridSearchCV(cv=5, estimator=LogisticRegression(),\n",
       "             param_grid={'multi_class': ['auto', 'ovr', 'multinomial'],\n",
       "                         'solver': ['newton-cg']},\n",
       "             scoring='accuracy')"
      ]
     },
     "execution_count": 62,
     "metadata": {},
     "output_type": "execute_result"
    }
   ],
   "source": [
    "gs_LogisticReg = GridSearchCV(LogisticRegression(),{\n",
    "    'solver' : ['newton-cg'],\n",
    "    #default for fit_intercept = True\n",
    "    'multi_class' : ['auto','ovr','multinomial']\n",
    "}, cv=5, return_train_score=False, scoring = 'accuracy')\n",
    "gs_LogisticReg.fit(X,y)"
   ]
  },
  {
   "cell_type": "code",
   "execution_count": 63,
   "id": "6ec431d2-05ab-4f9a-80d9-9e550630d6a7",
   "metadata": {},
   "outputs": [
    {
     "data": {
      "text/html": [
       "<div>\n",
       "<style scoped>\n",
       "    .dataframe tbody tr th:only-of-type {\n",
       "        vertical-align: middle;\n",
       "    }\n",
       "\n",
       "    .dataframe tbody tr th {\n",
       "        vertical-align: top;\n",
       "    }\n",
       "\n",
       "    .dataframe thead th {\n",
       "        text-align: right;\n",
       "    }\n",
       "</style>\n",
       "<table border=\"1\" class=\"dataframe\">\n",
       "  <thead>\n",
       "    <tr style=\"text-align: right;\">\n",
       "      <th></th>\n",
       "      <th>param_multi_class</th>\n",
       "      <th>mean_test_score</th>\n",
       "    </tr>\n",
       "  </thead>\n",
       "  <tbody>\n",
       "    <tr>\n",
       "      <th>0</th>\n",
       "      <td>auto</td>\n",
       "      <td>0.820001</td>\n",
       "    </tr>\n",
       "    <tr>\n",
       "      <th>1</th>\n",
       "      <td>ovr</td>\n",
       "      <td>0.820001</td>\n",
       "    </tr>\n",
       "    <tr>\n",
       "      <th>2</th>\n",
       "      <td>multinomial</td>\n",
       "      <td>0.820001</td>\n",
       "    </tr>\n",
       "  </tbody>\n",
       "</table>\n",
       "</div>"
      ],
      "text/plain": [
       "  param_multi_class  mean_test_score\n",
       "0              auto         0.820001\n",
       "1               ovr         0.820001\n",
       "2       multinomial         0.820001"
      ]
     },
     "execution_count": 63,
     "metadata": {},
     "output_type": "execute_result"
    }
   ],
   "source": [
    "dfgs = pd.DataFrame(gs_LogisticReg.cv_results_)\n",
    "dfgs[['param_multi_class', 'mean_test_score']]"
   ]
  },
  {
   "cell_type": "markdown",
   "id": "3ced24de-f060-43a8-953e-b633f4aef903",
   "metadata": {
    "tags": []
   },
   "source": [
    "## Support Vector Machines"
   ]
  },
  {
   "cell_type": "code",
   "execution_count": null,
   "id": "d781050e-7474-4190-95af-421eeeaf74f8",
   "metadata": {},
   "outputs": [],
   "source": [
    "# split into X and y\n",
    "X = dfcopy.drop(columns = ['Sum'])\n",
    "y = dfcopy['Sum']\n",
    "# split X and y into training and test sets, test set 30% of data \n",
    " \n",
    "\n",
    "X_train, X_test, y_train, y_test = train_test_split(X, y, test_size=0.85,\n",
    "random_state=1, stratify=y)"
   ]
  },
  {
   "cell_type": "code",
   "execution_count": null,
   "id": "0aca0ef0-f69e-42b0-8191-a8449b474537",
   "metadata": {},
   "outputs": [],
   "source": [
    "# First try SVM with all features selected \n",
    "svclassifier = SVC(C=1.0,degree=3, gamma='auto', probability=True)\n",
    "svclassifier.fit(X_train, y_train)"
   ]
  },
  {
   "cell_type": "code",
   "execution_count": null,
   "id": "516b3a95-ab50-45ce-b949-7cfa62f755ff",
   "metadata": {},
   "outputs": [],
   "source": [
    "y_pred = svclassifier.predict(X_test)"
   ]
  },
  {
   "cell_type": "code",
   "execution_count": null,
   "id": "005cdacd-e76c-4d39-b3a1-5f2f18ef50c7",
   "metadata": {},
   "outputs": [],
   "source": [
    "print(classification_report(y_test, y_pred))"
   ]
  },
  {
   "cell_type": "code",
   "execution_count": null,
   "id": "61a1564f-9f0a-46a0-ace3-6fb6ef0013d3",
   "metadata": {},
   "outputs": [],
   "source": [
    "classifier_score = svclassifier.score(X_test, y_test)\n",
    "print(f\"Classifier Score is {classifier_score}\")"
   ]
  },
  {
   "cell_type": "code",
   "execution_count": null,
   "id": "63abf99f-c74c-49a9-b73d-c326c3a3c9f2",
   "metadata": {},
   "outputs": [],
   "source": [
    "# Try dropping features\n",
    "# Drop Capital-gain and capital-loss due to low variability \n",
    "# Drop Education due to Education-num encoding similar data \n",
    "# Drop Native-country for low variability (mostly U.S)\n",
    "# Drop Race for having lowest Chi-Squared statistic \n",
    "\n",
    "df_reduced = dfcopy.drop(columns = ['Capital-gain', 'Capital-loss', 'Education', 'Native-country', 'Race'])\n",
    "df_reduced.head()"
   ]
  },
  {
   "cell_type": "code",
   "execution_count": null,
   "id": "ad3a3d4c-437c-4f6a-a11c-3453ef12b5e8",
   "metadata": {},
   "outputs": [],
   "source": [
    "# split into X and y\n",
    "X1 = df_reduced.drop(columns = ['Sum'])\n",
    "y1 = df_reduced['Sum']\n",
    "\n",
    "X1_train, X1_test, y1_train, y1_test = train_test_split(X1, y1, test_size=0.85,\n",
    "random_state=1, stratify=y1)"
   ]
  },
  {
   "cell_type": "code",
   "execution_count": null,
   "id": "3488c29a-047e-4e93-9f46-f59ca86d4d48",
   "metadata": {},
   "outputs": [],
   "source": [
    "svclassifier = SVC(C=1.0, kernel='rbf', degree=3, gamma='auto', probability=True)\n",
    "svclassifier.fit(X1_train, y1_train)"
   ]
  },
  {
   "cell_type": "code",
   "execution_count": null,
   "id": "f3828d6f-045b-41de-94fe-7adbee240213",
   "metadata": {},
   "outputs": [],
   "source": [
    "y1_pred = svclassifier.predict(X1_test)"
   ]
  },
  {
   "cell_type": "code",
   "execution_count": null,
   "id": "c2748d58-0d1c-40b7-91bc-e60bb6293997",
   "metadata": {},
   "outputs": [],
   "source": [
    "print(classification_report(y1_test, y1_pred))"
   ]
  },
  {
   "cell_type": "code",
   "execution_count": null,
   "id": "aba21dc8-61c5-4da4-9096-4136cd54d706",
   "metadata": {},
   "outputs": [],
   "source": [
    "## precision for 0 (<=50k) has increased however the precision for 1 (50k >) has decreased\n",
    "classifier_score1 = svclassifier.score(X1_test, y1_test)\n",
    "print(f\"Classifier Score is {classifier_score1}\")"
   ]
  },
  {
   "cell_type": "code",
   "execution_count": null,
   "id": "97e5430a-284a-4058-a844-9cf2fa94414b",
   "metadata": {},
   "outputs": [],
   "source": [
    "# model with just 3 best features selected (k=3)\n",
    "clf_fs_cv = Pipeline([\n",
    " ('feature_selector', SelectKBest(f_classif, k=3)),\n",
    " ('svc', SVC(C=1.0, kernel='rbf', degree=3, gamma='auto', probability=True))\n",
    "])\n",
    "scores = cross_val_score(clf_fs_cv, X, y, cv=5) # 5 folds.\n",
    "print(scores)\n",
    "avg = (100 * np.mean(scores), 100 * np.std(scores)/np.sqrt(scores.shape[0]))\n",
    "print(\"Average score and standard deviation: (%.2f +- %.3f)%%\" %avg)"
   ]
  },
  {
   "cell_type": "markdown",
   "id": "68c50b73-33e5-4be0-9eaa-095f7217d907",
   "metadata": {
    "jp-MarkdownHeadingCollapsed": true,
    "tags": []
   },
   "source": [
    "## Decision Trees and Multi-Layer"
   ]
  },
  {
   "cell_type": "code",
   "execution_count": null,
   "id": "405552d2-c7f0-4417-8ecf-076bbaa0f63f",
   "metadata": {},
   "outputs": [],
   "source": [
    "X_train, X_test, y_train, y_test = train_test_split(data.drop('Sum',axis=1), data['Sum'], test_size=.3,random_state=23)\n",
    "clf = RandomForestClassifier(random_state=1)\n",
    "dtt = clf.fit(X_train, y_train)\n",
    "predictions = dtt.predict(X_test)\n",
    "print(accuracy_score(y_test, predictions))\n",
    "\n"
   ]
  },
  {
   "cell_type": "markdown",
   "id": "064d03ab-6f14-4065-89c7-26bd596cf236",
   "metadata": {
    "jp-MarkdownHeadingCollapsed": true,
    "tags": []
   },
   "source": [
    "## Perceptron Neural Network."
   ]
  },
  {
   "cell_type": "code",
   "execution_count": null,
   "id": "f8cb4a2f-f12f-4860-a8b0-f5d10144cf89",
   "metadata": {},
   "outputs": [],
   "source": [
    "\n"
   ]
  },
  {
   "cell_type": "markdown",
   "id": "7c2bb224-a82c-4934-b55b-a7a63e2f030d",
   "metadata": {
    "tags": []
   },
   "source": [
    "## Analysis"
   ]
  },
  {
   "cell_type": "code",
   "execution_count": null,
   "id": "c705175b-c7bb-4e19-8f12-b30c8643b155",
   "metadata": {},
   "outputs": [],
   "source": [
    "# create df of the numerical values and Sum to create multiple boxplots\n",
    "\n",
    "df_numerical = dfdropd[['Age', 'Fnlwgt', 'Education-num', 'Capital-gain', 'Capital-loss', 'Hours-per-week', 'Sum']].copy()\n",
    "\n",
    "df_numerical.head()"
   ]
  },
  {
   "cell_type": "code",
   "execution_count": null,
   "id": "9cd144fe-b07a-481a-8bb4-1fb0acf16277",
   "metadata": {},
   "outputs": [],
   "source": [
    "fig, axes = plt.subplots(nrows=2, ncols=3, figsize=(15,20))\n",
    "fig.subplots_adjust(hspace =.2, wspace=.5)\n",
    "axes = axes.ravel()\n",
    "\n",
    "for i, col in enumerate(df_numerical.columns[0:6]):\n",
    "    _= sns.boxplot(y=col, x='Sum', data=df_numerical, ax=axes[i])"
   ]
  },
  {
   "cell_type": "code",
   "execution_count": null,
   "id": "d6a4c7d4-8176-46d8-953e-f21702d61f8c",
   "metadata": {},
   "outputs": [],
   "source": [
    "# from the boxplots it looks like fnlwgt is similar for both classes, so we may potentially drop that feature.\n",
    "# also, captital-gain and capital-loss are mostly zero for both classes, so we could drop these as well due to low variability\n",
    "\n",
    "#Now try to plot the categorical features \n",
    "#look at value counts first \n",
    "\n",
    "categorical_cols = ['Workclass', 'Marital-Status', 'Occupation', 'Relationship', 'Race', 'Sex', 'Native-country']\n",
    "\n",
    "for col in categorical_cols:\n",
    "    vals = dfdropd[[col]].value_counts()\n",
    "    print(vals)\n",
    "    \n",
    "# data is skewed towards private sector, white race, males, and United States"
   ]
  },
  {
   "cell_type": "code",
   "execution_count": null,
   "id": "61a48a4f-0344-456e-86dd-8cba37a33962",
   "metadata": {},
   "outputs": [],
   "source": [
    "# will use histograms for all categorical features bar countries \n",
    "first_dim = 'Sum' \n",
    "second_dim = 'Sex'\n",
    "\n",
    "sns.histplot(binwidth = 1, x = first_dim, hue = second_dim, data = dfdropd, stat = 'count', multiple = 'dodge' )\n",
    "# males tend to earn more than 50k however the data is skewed towards males "
   ]
  },
  {
   "cell_type": "code",
   "execution_count": null,
   "id": "0dd546ed-84de-4b40-b90d-a700a6dd61a7",
   "metadata": {},
   "outputs": [],
   "source": [
    "first_dim = 'Sum' \n",
    "second_dim = 'Race'\n",
    "\n",
    "sns.histplot(binwidth = 1, x = first_dim, hue = second_dim, data = dfdropd, stat = 'count', multiple = 'dodge' )\n",
    "# again, data is heavily skewed towards White so hard to tell"
   ]
  },
  {
   "cell_type": "code",
   "execution_count": null,
   "id": "0d56df22-73f6-477a-a945-2b5e4483875a",
   "metadata": {},
   "outputs": [],
   "source": [
    "first_dim = 'Sum' \n",
    "second_dim = 'Relationship'\n",
    "\n",
    "sns.histplot(binwidth = 1, x = first_dim, hue = second_dim, data = dfdropd, stat = 'count', multiple = 'dodge' )\n",
    "# can see husbands are more likely to earn over 50k, not-in-family and own child less likely - important feature"
   ]
  },
  {
   "cell_type": "code",
   "execution_count": null,
   "id": "7cc8f83e-7392-4f19-b167-5f1dcdf171e1",
   "metadata": {},
   "outputs": [],
   "source": [
    "first_dim = 'Sum' \n",
    "second_dim = 'Marital-Status'\n",
    "\n",
    "sns.histplot(binwidth = 1, x = first_dim, hue = second_dim, data = dfdropd, stat = 'count', multiple = 'dodge' )\n",
    "# Married-civ-spouse most liekly to earn over 50k, never-married and divorsed less likely, rest of data is smaller \n",
    "# in comparison "
   ]
  },
  {
   "cell_type": "code",
   "execution_count": null,
   "id": "451a3b52-d6c8-48b1-a272-b2bf08b7b087",
   "metadata": {},
   "outputs": [],
   "source": [
    "first_dim = 'Sum' \n",
    "second_dim = 'Workclass'\n",
    "\n",
    "sns.histplot(binwidth = 1, x = first_dim, hue = second_dim, data = dfdropd, stat = 'count', multiple = 'dodge' )\n",
    "#data skewed towards private secotr so hard to make judgement, similar results for both classes"
   ]
  },
  {
   "cell_type": "code",
   "execution_count": null,
   "id": "e67f3664-5f35-4ba3-891a-8741cce157f4",
   "metadata": {},
   "outputs": [],
   "source": [
    "first_dim = 'Sum' \n",
    "second_dim = 'Occupation'\n",
    "\n",
    "sns.histplot(binwidth = 1, x = first_dim, hue = second_dim, data = dfdropd, stat = 'count', multiple = 'dodge' )\n",
    "\n",
    "# exec- managerial and prof-speciality both most likely to earn over 50k, data well spread out - important feature. "
   ]
  },
  {
   "cell_type": "code",
   "execution_count": null,
   "id": "9e0e9ae9-312d-47d3-a745-38d35d8e2052",
   "metadata": {},
   "outputs": [],
   "source": []
  }
 ],
 "metadata": {
  "kernelspec": {
   "display_name": "Python 3 (ipykernel)",
   "language": "python",
   "name": "python3"
  },
  "language_info": {
   "codemirror_mode": {
    "name": "ipython",
    "version": 3
   },
   "file_extension": ".py",
   "mimetype": "text/x-python",
   "name": "python",
   "nbconvert_exporter": "python",
   "pygments_lexer": "ipython3",
   "version": "3.7.13"
  }
 },
 "nbformat": 4,
 "nbformat_minor": 5
}
