{
 "cells": [
  {
   "cell_type": "code",
   "execution_count": 1,
   "id": "f1c6b1fb",
   "metadata": {},
   "outputs": [],
   "source": [
    "#import modules\n",
    "import sklearn as sk\n",
    "import seaborn as sns\n",
    "import numpy as np\n",
    "import tensorflow as tf\n",
    "import matplotlib.pyplot as plt\n",
    "import pandas as pd\n",
    "from sklearn.preprocessing import LabelEncoder\n",
    "from sklearn import preprocessing\n",
<<<<<<< HEAD
    "from sklearn.svm import SVC "
=======
    "from sklearn.svm import SVC\n"
>>>>>>> ed5859e0e29bc4176de1a913adf6c4edbe3c1352
   ]
  },
  {
   "cell_type": "markdown",
   "id": "e3c15e9e",
   "metadata": {},
   "source": [
    "# REGRESSION"
   ]
  },
  {
   "cell_type": "code",
   "execution_count": 2,
   "id": "aae3d24b",
   "metadata": {},
   "outputs": [],
   "source": [
    "# import regression data set\n",
    "winedata=pd.read_csv('winequality-red.csv', index_col=False)\n"
   ]
  },
  {
   "cell_type": "code",
   "execution_count": 3,
   "id": "c194559e",
   "metadata": {},
<<<<<<< HEAD
   "outputs": [],
=======
   "outputs": [
    {
     "data": {
      "text/html": [
       "<div>\n",
       "<style scoped>\n",
       "    .dataframe tbody tr th:only-of-type {\n",
       "        vertical-align: middle;\n",
       "    }\n",
       "\n",
       "    .dataframe tbody tr th {\n",
       "        vertical-align: top;\n",
       "    }\n",
       "\n",
       "    .dataframe thead th {\n",
       "        text-align: right;\n",
       "    }\n",
       "</style>\n",
       "<table border=\"1\" class=\"dataframe\">\n",
       "  <thead>\n",
       "    <tr style=\"text-align: right;\">\n",
       "      <th></th>\n",
       "      <th>fixed acidity</th>\n",
       "      <th>volatile acidity</th>\n",
       "      <th>citric acid</th>\n",
       "      <th>residual sugar</th>\n",
       "      <th>chlorides</th>\n",
       "      <th>free sulfur dioxide</th>\n",
       "      <th>total sulfur dioxide</th>\n",
       "      <th>density</th>\n",
       "      <th>pH</th>\n",
       "      <th>sulphates</th>\n",
       "      <th>alcohol</th>\n",
       "      <th>quality</th>\n",
       "    </tr>\n",
       "  </thead>\n",
       "  <tbody>\n",
       "    <tr>\n",
       "      <th>0</th>\n",
       "      <td>0.193478</td>\n",
       "      <td>0.018302</td>\n",
       "      <td>0.000000</td>\n",
       "      <td>0.049677</td>\n",
       "      <td>0.001987</td>\n",
       "      <td>0.287602</td>\n",
       "      <td>0.888952</td>\n",
       "      <td>0.026088</td>\n",
       "      <td>0.091771</td>\n",
       "      <td>0.014642</td>\n",
       "      <td>0.245769</td>\n",
       "      <td>0.130728</td>\n",
       "    </tr>\n",
       "    <tr>\n",
       "      <th>1</th>\n",
       "      <td>0.106989</td>\n",
       "      <td>0.012071</td>\n",
       "      <td>0.000000</td>\n",
       "      <td>0.035663</td>\n",
       "      <td>0.001344</td>\n",
       "      <td>0.342913</td>\n",
       "      <td>0.919006</td>\n",
       "      <td>0.013673</td>\n",
       "      <td>0.043893</td>\n",
       "      <td>0.009327</td>\n",
       "      <td>0.134422</td>\n",
       "      <td>0.068583</td>\n",
       "    </tr>\n",
       "    <tr>\n",
       "      <th>2</th>\n",
       "      <td>0.134949</td>\n",
       "      <td>0.013149</td>\n",
       "      <td>0.000692</td>\n",
       "      <td>0.039793</td>\n",
       "      <td>0.001592</td>\n",
       "      <td>0.259517</td>\n",
       "      <td>0.934261</td>\n",
       "      <td>0.017249</td>\n",
       "      <td>0.056402</td>\n",
       "      <td>0.011246</td>\n",
       "      <td>0.169551</td>\n",
       "      <td>0.086506</td>\n",
       "    </tr>\n",
       "    <tr>\n",
       "      <th>3</th>\n",
       "      <td>0.173611</td>\n",
       "      <td>0.004340</td>\n",
       "      <td>0.008681</td>\n",
       "      <td>0.029452</td>\n",
       "      <td>0.001163</td>\n",
       "      <td>0.263517</td>\n",
       "      <td>0.930059</td>\n",
       "      <td>0.015470</td>\n",
       "      <td>0.048983</td>\n",
       "      <td>0.008991</td>\n",
       "      <td>0.151910</td>\n",
       "      <td>0.093006</td>\n",
       "    </tr>\n",
       "    <tr>\n",
       "      <th>4</th>\n",
       "      <td>0.193478</td>\n",
       "      <td>0.018302</td>\n",
       "      <td>0.000000</td>\n",
       "      <td>0.049677</td>\n",
       "      <td>0.001987</td>\n",
       "      <td>0.287602</td>\n",
       "      <td>0.888952</td>\n",
       "      <td>0.026088</td>\n",
       "      <td>0.091771</td>\n",
       "      <td>0.014642</td>\n",
       "      <td>0.245769</td>\n",
       "      <td>0.130728</td>\n",
       "    </tr>\n",
       "  </tbody>\n",
       "</table>\n",
       "</div>"
      ],
      "text/plain": [
       "   fixed acidity  volatile acidity  citric acid  residual sugar  chlorides  \\\n",
       "0       0.193478          0.018302     0.000000        0.049677   0.001987   \n",
       "1       0.106989          0.012071     0.000000        0.035663   0.001344   \n",
       "2       0.134949          0.013149     0.000692        0.039793   0.001592   \n",
       "3       0.173611          0.004340     0.008681        0.029452   0.001163   \n",
       "4       0.193478          0.018302     0.000000        0.049677   0.001987   \n",
       "\n",
       "   free sulfur dioxide  total sulfur dioxide   density        pH  sulphates  \\\n",
       "0             0.287602              0.888952  0.026088  0.091771   0.014642   \n",
       "1             0.342913              0.919006  0.013673  0.043893   0.009327   \n",
       "2             0.259517              0.934261  0.017249  0.056402   0.011246   \n",
       "3             0.263517              0.930059  0.015470  0.048983   0.008991   \n",
       "4             0.287602              0.888952  0.026088  0.091771   0.014642   \n",
       "\n",
       "    alcohol   quality  \n",
       "0  0.245769  0.130728  \n",
       "1  0.134422  0.068583  \n",
       "2  0.169551  0.086506  \n",
       "3  0.151910  0.093006  \n",
       "4  0.245769  0.130728  "
      ]
     },
     "execution_count": 5,
     "metadata": {},
     "output_type": "execute_result"
    }
   ],
>>>>>>> ed5859e0e29bc4176de1a913adf6c4edbe3c1352
   "source": [
    "# clean data"
   ]
  },
  {
   "cell_type": "code",
   "execution_count": 4,
   "id": "c012791a",
   "metadata": {},
   "outputs": [],
   "source": [
    "# logistic regression"
   ]
  },
  {
   "cell_type": "code",
   "execution_count": 5,
   "id": "262d3828",
   "metadata": {},
   "outputs": [],
   "source": [
    "# support vector machines"
   ]
  },
  {
   "cell_type": "code",
<<<<<<< HEAD
   "execution_count": 6,
=======
   "execution_count": null,
   "id": "8dafc76c-61f1-4d76-b998-d93d084f9e88",
   "metadata": {},
   "outputs": [],
   "source": [
    "skip = true"
   ]
  },
  {
   "cell_type": "code",
   "execution_count": null,
   "id": "32d53c3b-97a1-430b-ba2f-a4a095dbe3b7",
   "metadata": {},
   "outputs": [],
   "source": [
    "#Y data\n",
    "le = LabelEncoder()\n",
    "df['quality'] = le.fit_transform(df['quality'])\n",
    "\n",
    "if(skip):\n",
    "    df = df.groupby(\"quality\").filter(lambda x: len(x) > 1)\n",
    "y = df['quality']\n",
    "\n",
    "#X data\n",
    "X = df.drop('quality', axis=1)\n",
    "scaler = StandardScaler()\n",
    "Xs = scaler.fit_transform(X)\n"
   ]
  },
  {
   "cell_type": "code",
   "execution_count": null,
   "id": "7491ae44-06e5-429d-affc-8a1e4cf13bc6",
   "metadata": {},
   "outputs": [],
   "source": [
    "if(skip):\n",
    "    Xs_train, Xs_test, y_train, y_test = train_test_split(Xs, y, test_size=0.5, random_state=1, stratify=y)\n",
    "else:\n",
    "    Xs_train, Xs_test, y_train, y_test = train_test_split(Xs, y, test_size=0.3, random_state=1, stratify=y)"
   ]
  },
  {
   "cell_type": "code",
   "execution_count": null,
   "id": "95aa4d55-b4e0-4e83-a64e-58fb00fcaf23",
   "metadata": {},
   "outputs": [],
   "source": [
    "clf = SVC(C=1.0, kernel='rbf', degree=3, gamma='auto', probability=True)\n",
    "clf.fit(Xs_train, y_train)"
   ]
  },
  {
   "cell_type": "code",
   "execution_count": null,
   "id": "dde3edb2-7792-4d84-bcee-10ddf1dc4bfa",
   "metadata": {},
   "outputs": [],
   "source": [
    "classifier_score = clf.score(Xs_test, y_test)\n",
    "print('The classifier accuracy score is {:03.2f}'.format(classifier_score))"
   ]
  },
  {
   "cell_type": "code",
   "execution_count": null,
>>>>>>> ed5859e0e29bc4176de1a913adf6c4edbe3c1352
   "id": "0dd2085e",
   "metadata": {},
   "outputs": [],
   "source": [
    "# decision trees and multi-layer"
   ]
  },
  {
   "cell_type": "code",
   "execution_count": 7,
   "id": "fef4f33f",
   "metadata": {},
   "outputs": [],
   "source": [
    "# perceptron neural network."
   ]
  },
  {
   "cell_type": "code",
   "execution_count": 8,
   "id": "bc3d6295",
   "metadata": {},
   "outputs": [],
   "source": [
    "# evaluation"
   ]
  },
  {
   "cell_type": "markdown",
   "id": "5299f69c",
   "metadata": {},
   "source": [
    "# CLASSIFICATION"
   ]
  },
  {
   "cell_type": "code",
   "execution_count": 9,
   "id": "53123947",
   "metadata": {},
   "outputs": [
    {
     "data": {
      "text/plain": [
       "Age                  0\n",
       "Workclass         1836\n",
       "Fnlwgt               0\n",
       "Education            0\n",
       "Education-num        0\n",
       "Marital-Status       0\n",
       "Occupation        1843\n",
       "Relationship         0\n",
       "Race                 0\n",
       "Sex                  0\n",
       "Capital-gain         0\n",
       "Capital-loss         0\n",
       "Hours-per-week       0\n",
       "Native-country     583\n",
       "Sum                  0\n",
       "dtype: int64"
      ]
     },
     "execution_count": 9,
     "metadata": {},
     "output_type": "execute_result"
    }
   ],
   "source": [
    "# import classifcation data set\n",
    "df=pd.read_csv('adult.csv', index_col=False)\n",
    "df.isnull().sum()"
   ]
  },
  {
   "cell_type": "code",
   "execution_count": 10,
   "id": "9c113e4d",
   "metadata": {},
   "outputs": [
    {
     "data": {
      "text/plain": [
       "75"
      ]
     },
     "execution_count": 10,
     "metadata": {},
     "output_type": "execute_result"
    }
   ],
   "source": [
    "# clean data\n",
    "\n",
    "dfclean = df.dropna() # Drops rows with empty values\n",
    "dfclean.isnull().sum()\n",
    "dfclean.loc[dfclean['Age'] > 80].shape[0]\n",
    "#dfclean[dfclean.Age >80].sum\n",
    "#sns.boxplot(dfclean['Age'])\n",
    "\n",
    "#data_mean = df.iloc[:, :]\n",
    "#data_mean.plot(kind='box', subplots=True, layout=(8,4), sharex=False,\n",
    "#sharey=False, fontsize=12, figsize=(15,20))"
   ]
  },
  {
   "cell_type": "code",
   "execution_count": 11,
   "id": "7c2a6d45-696f-4952-8c59-64a1b1b54b71",
   "metadata": {},
   "outputs": [
    {
     "data": {
      "text/plain": [
       "23"
      ]
     },
     "execution_count": 11,
     "metadata": {},
     "output_type": "execute_result"
    }
   ],
   "source": [
    "dfclean.duplicated().sum()"
   ]
  },
  {
   "cell_type": "code",
   "execution_count": 12,
   "id": "750f423a-f4e0-4707-a356-d3b5f238da77",
   "metadata": {},
   "outputs": [
    {
     "data": {
      "text/plain": [
       "0"
      ]
     },
     "execution_count": 12,
     "metadata": {},
     "output_type": "execute_result"
    }
   ],
   "source": [
    "dfdropd = dfclean.drop_duplicates()\n",
    "dfdropd.duplicated().sum()"
   ]
  },
  {
   "cell_type": "code",
   "execution_count": 13,
   "id": "69a1fe36-d564-4a14-9383-9072b9828d17",
   "metadata": {},
   "outputs": [
    {
     "data": {
      "text/html": [
       "<div>\n",
       "<style scoped>\n",
       "    .dataframe tbody tr th:only-of-type {\n",
       "        vertical-align: middle;\n",
       "    }\n",
       "\n",
       "    .dataframe tbody tr th {\n",
       "        vertical-align: top;\n",
       "    }\n",
       "\n",
       "    .dataframe thead th {\n",
       "        text-align: right;\n",
       "    }\n",
       "</style>\n",
       "<table border=\"1\" class=\"dataframe\">\n",
       "  <thead>\n",
       "    <tr style=\"text-align: right;\">\n",
       "      <th></th>\n",
       "      <th>Age</th>\n",
       "      <th>Workclass</th>\n",
       "      <th>Fnlwgt</th>\n",
       "      <th>Education</th>\n",
       "      <th>Education-num</th>\n",
       "      <th>Marital-Status</th>\n",
       "      <th>Occupation</th>\n",
       "      <th>Relationship</th>\n",
       "      <th>Race</th>\n",
       "      <th>Sex</th>\n",
       "      <th>Capital-gain</th>\n",
       "      <th>Capital-loss</th>\n",
       "      <th>Hours-per-week</th>\n",
       "      <th>Native-country</th>\n",
       "      <th>Sum</th>\n",
       "    </tr>\n",
       "  </thead>\n",
       "  <tbody>\n",
       "    <tr>\n",
       "      <th>0</th>\n",
       "      <td>39</td>\n",
       "      <td>5</td>\n",
       "      <td>77516</td>\n",
       "      <td>9</td>\n",
       "      <td>13</td>\n",
       "      <td>4</td>\n",
       "      <td>0</td>\n",
       "      <td>1</td>\n",
       "      <td>4</td>\n",
       "      <td>1</td>\n",
       "      <td>2174</td>\n",
       "      <td>0</td>\n",
       "      <td>40</td>\n",
       "      <td>38</td>\n",
       "      <td>0</td>\n",
       "    </tr>\n",
       "    <tr>\n",
       "      <th>1</th>\n",
       "      <td>50</td>\n",
       "      <td>4</td>\n",
       "      <td>83311</td>\n",
       "      <td>9</td>\n",
       "      <td>13</td>\n",
       "      <td>2</td>\n",
       "      <td>3</td>\n",
       "      <td>0</td>\n",
       "      <td>4</td>\n",
       "      <td>1</td>\n",
       "      <td>0</td>\n",
       "      <td>0</td>\n",
       "      <td>13</td>\n",
       "      <td>38</td>\n",
       "      <td>0</td>\n",
       "    </tr>\n",
       "    <tr>\n",
       "      <th>2</th>\n",
       "      <td>38</td>\n",
       "      <td>2</td>\n",
       "      <td>215646</td>\n",
       "      <td>11</td>\n",
       "      <td>9</td>\n",
       "      <td>0</td>\n",
       "      <td>5</td>\n",
       "      <td>1</td>\n",
       "      <td>4</td>\n",
       "      <td>1</td>\n",
       "      <td>0</td>\n",
       "      <td>0</td>\n",
       "      <td>40</td>\n",
       "      <td>38</td>\n",
       "      <td>0</td>\n",
       "    </tr>\n",
       "    <tr>\n",
       "      <th>3</th>\n",
       "      <td>53</td>\n",
       "      <td>2</td>\n",
       "      <td>234721</td>\n",
       "      <td>1</td>\n",
       "      <td>7</td>\n",
       "      <td>2</td>\n",
       "      <td>5</td>\n",
       "      <td>0</td>\n",
       "      <td>2</td>\n",
       "      <td>1</td>\n",
       "      <td>0</td>\n",
       "      <td>0</td>\n",
       "      <td>40</td>\n",
       "      <td>38</td>\n",
       "      <td>0</td>\n",
       "    </tr>\n",
       "    <tr>\n",
       "      <th>4</th>\n",
       "      <td>28</td>\n",
       "      <td>2</td>\n",
       "      <td>338409</td>\n",
       "      <td>9</td>\n",
       "      <td>13</td>\n",
       "      <td>2</td>\n",
       "      <td>9</td>\n",
       "      <td>5</td>\n",
       "      <td>2</td>\n",
       "      <td>0</td>\n",
       "      <td>0</td>\n",
       "      <td>0</td>\n",
       "      <td>40</td>\n",
       "      <td>4</td>\n",
       "      <td>0</td>\n",
       "    </tr>\n",
       "    <tr>\n",
       "      <th>...</th>\n",
       "      <td>...</td>\n",
       "      <td>...</td>\n",
       "      <td>...</td>\n",
       "      <td>...</td>\n",
       "      <td>...</td>\n",
       "      <td>...</td>\n",
       "      <td>...</td>\n",
       "      <td>...</td>\n",
       "      <td>...</td>\n",
       "      <td>...</td>\n",
       "      <td>...</td>\n",
       "      <td>...</td>\n",
       "      <td>...</td>\n",
       "      <td>...</td>\n",
       "      <td>...</td>\n",
       "    </tr>\n",
       "    <tr>\n",
       "      <th>32556</th>\n",
       "      <td>27</td>\n",
       "      <td>2</td>\n",
       "      <td>257302</td>\n",
       "      <td>7</td>\n",
       "      <td>12</td>\n",
       "      <td>2</td>\n",
       "      <td>12</td>\n",
       "      <td>5</td>\n",
       "      <td>4</td>\n",
       "      <td>0</td>\n",
       "      <td>0</td>\n",
       "      <td>0</td>\n",
       "      <td>38</td>\n",
       "      <td>38</td>\n",
       "      <td>0</td>\n",
       "    </tr>\n",
       "    <tr>\n",
       "      <th>32557</th>\n",
       "      <td>40</td>\n",
       "      <td>2</td>\n",
       "      <td>154374</td>\n",
       "      <td>11</td>\n",
       "      <td>9</td>\n",
       "      <td>2</td>\n",
       "      <td>6</td>\n",
       "      <td>0</td>\n",
       "      <td>4</td>\n",
       "      <td>1</td>\n",
       "      <td>0</td>\n",
       "      <td>0</td>\n",
       "      <td>40</td>\n",
       "      <td>38</td>\n",
       "      <td>1</td>\n",
       "    </tr>\n",
       "    <tr>\n",
       "      <th>32558</th>\n",
       "      <td>58</td>\n",
       "      <td>2</td>\n",
       "      <td>151910</td>\n",
       "      <td>11</td>\n",
       "      <td>9</td>\n",
       "      <td>6</td>\n",
       "      <td>0</td>\n",
       "      <td>4</td>\n",
       "      <td>4</td>\n",
       "      <td>0</td>\n",
       "      <td>0</td>\n",
       "      <td>0</td>\n",
       "      <td>40</td>\n",
       "      <td>38</td>\n",
       "      <td>0</td>\n",
       "    </tr>\n",
       "    <tr>\n",
       "      <th>32559</th>\n",
       "      <td>22</td>\n",
       "      <td>2</td>\n",
       "      <td>201490</td>\n",
       "      <td>11</td>\n",
       "      <td>9</td>\n",
       "      <td>4</td>\n",
       "      <td>0</td>\n",
       "      <td>3</td>\n",
       "      <td>4</td>\n",
       "      <td>1</td>\n",
       "      <td>0</td>\n",
       "      <td>0</td>\n",
       "      <td>20</td>\n",
       "      <td>38</td>\n",
       "      <td>0</td>\n",
       "    </tr>\n",
       "    <tr>\n",
       "      <th>32560</th>\n",
       "      <td>52</td>\n",
       "      <td>3</td>\n",
       "      <td>287927</td>\n",
       "      <td>11</td>\n",
       "      <td>9</td>\n",
       "      <td>2</td>\n",
       "      <td>3</td>\n",
       "      <td>5</td>\n",
       "      <td>4</td>\n",
       "      <td>0</td>\n",
       "      <td>15024</td>\n",
       "      <td>0</td>\n",
       "      <td>40</td>\n",
       "      <td>38</td>\n",
       "      <td>1</td>\n",
       "    </tr>\n",
       "  </tbody>\n",
       "</table>\n",
       "<p>30139 rows × 15 columns</p>\n",
       "</div>"
      ],
      "text/plain": [
       "       Age  Workclass  Fnlwgt  Education  Education-num  Marital-Status  \\\n",
       "0       39          5   77516          9             13               4   \n",
       "1       50          4   83311          9             13               2   \n",
       "2       38          2  215646         11              9               0   \n",
       "3       53          2  234721          1              7               2   \n",
       "4       28          2  338409          9             13               2   \n",
       "...    ...        ...     ...        ...            ...             ...   \n",
       "32556   27          2  257302          7             12               2   \n",
       "32557   40          2  154374         11              9               2   \n",
       "32558   58          2  151910         11              9               6   \n",
       "32559   22          2  201490         11              9               4   \n",
       "32560   52          3  287927         11              9               2   \n",
       "\n",
       "       Occupation  Relationship  Race  Sex  Capital-gain  Capital-loss  \\\n",
       "0               0             1     4    1          2174             0   \n",
       "1               3             0     4    1             0             0   \n",
       "2               5             1     4    1             0             0   \n",
       "3               5             0     2    1             0             0   \n",
       "4               9             5     2    0             0             0   \n",
       "...           ...           ...   ...  ...           ...           ...   \n",
       "32556          12             5     4    0             0             0   \n",
       "32557           6             0     4    1             0             0   \n",
       "32558           0             4     4    0             0             0   \n",
       "32559           0             3     4    1             0             0   \n",
       "32560           3             5     4    0         15024             0   \n",
       "\n",
       "       Hours-per-week  Native-country  Sum  \n",
       "0                  40              38    0  \n",
       "1                  13              38    0  \n",
       "2                  40              38    0  \n",
       "3                  40              38    0  \n",
       "4                  40               4    0  \n",
       "...               ...             ...  ...  \n",
       "32556              38              38    0  \n",
       "32557              40              38    1  \n",
       "32558              40              38    0  \n",
       "32559              20              38    0  \n",
       "32560              40              38    1  \n",
       "\n",
       "[30139 rows x 15 columns]"
      ]
     },
     "execution_count": 13,
     "metadata": {},
     "output_type": "execute_result"
    }
   ],
   "source": [
    "labelencoder = LabelEncoder()\n",
    "dfcopy = dfdropd.copy()\n",
    "#df1 = labelencoder.fit_transform(dfdropd['Sex'])\n",
    "dfcopy['Race'] = labelencoder.fit_transform(dfcopy['Race'])\n",
    "dfcopy['Sex'] = labelencoder.fit_transform(dfcopy['Sex'])\n",
    "dfcopy['Occupation'] = labelencoder.fit_transform(dfcopy['Occupation'])\n",
    "dfcopy['Relationship'] = labelencoder.fit_transform(dfcopy['Relationship'])\n",
    "dfcopy['Marital-Status'] = labelencoder.fit_transform(dfcopy['Marital-Status'])\n",
    "dfcopy['Education'] = labelencoder.fit_transform(dfcopy['Education'])\n",
    "dfcopy['Workclass'] = labelencoder.fit_transform(dfcopy['Workclass'])\n",
    "dfcopy['Native-country'] = labelencoder.fit_transform(dfcopy['Native-country'])\n",
    "dfcopy['Sum'] = labelencoder.fit_transform(dfcopy['Sum'])\n",
    "dfcopy\n",
    "\n",
    "#dfcopy"
   ]
  },
  {
   "cell_type": "code",
   "execution_count": 14,
   "id": "5d16bee9-db94-417b-b18f-ca3216a78eaf",
   "metadata": {},
   "outputs": [
    {
     "data": {
      "text/html": [
       "<div>\n",
       "<style scoped>\n",
       "    .dataframe tbody tr th:only-of-type {\n",
       "        vertical-align: middle;\n",
       "    }\n",
       "\n",
       "    .dataframe tbody tr th {\n",
       "        vertical-align: top;\n",
       "    }\n",
       "\n",
       "    .dataframe thead th {\n",
       "        text-align: right;\n",
       "    }\n",
       "</style>\n",
       "<table border=\"1\" class=\"dataframe\">\n",
       "  <thead>\n",
       "    <tr style=\"text-align: right;\">\n",
       "      <th></th>\n",
       "      <th>Age</th>\n",
       "      <th>Workclass</th>\n",
       "      <th>Fnlwgt</th>\n",
       "      <th>Education</th>\n",
       "      <th>Education-num</th>\n",
       "      <th>Marital-Status</th>\n",
       "      <th>Occupation</th>\n",
       "      <th>Relationship</th>\n",
       "      <th>Race</th>\n",
       "      <th>Sex</th>\n",
       "      <th>Capital-gain</th>\n",
       "      <th>Capital-loss</th>\n",
       "      <th>Hours-per-week</th>\n",
       "      <th>Native-country</th>\n",
       "      <th>Sum</th>\n",
       "    </tr>\n",
       "  </thead>\n",
       "  <tbody>\n",
       "    <tr>\n",
       "      <th>0</th>\n",
       "      <td>39</td>\n",
       "      <td>5</td>\n",
       "      <td>-1.062676</td>\n",
       "      <td>9</td>\n",
       "      <td>13</td>\n",
       "      <td>4</td>\n",
       "      <td>0</td>\n",
       "      <td>1</td>\n",
       "      <td>4</td>\n",
       "      <td>1</td>\n",
       "      <td>2174</td>\n",
       "      <td>0</td>\n",
       "      <td>40</td>\n",
       "      <td>38</td>\n",
       "      <td>0</td>\n",
       "    </tr>\n",
       "    <tr>\n",
       "      <th>1</th>\n",
       "      <td>50</td>\n",
       "      <td>4</td>\n",
       "      <td>-1.007829</td>\n",
       "      <td>9</td>\n",
       "      <td>13</td>\n",
       "      <td>2</td>\n",
       "      <td>3</td>\n",
       "      <td>0</td>\n",
       "      <td>4</td>\n",
       "      <td>1</td>\n",
       "      <td>0</td>\n",
       "      <td>0</td>\n",
       "      <td>13</td>\n",
       "      <td>38</td>\n",
       "      <td>0</td>\n",
       "    </tr>\n",
       "    <tr>\n",
       "      <th>2</th>\n",
       "      <td>38</td>\n",
       "      <td>2</td>\n",
       "      <td>0.244669</td>\n",
       "      <td>11</td>\n",
       "      <td>9</td>\n",
       "      <td>0</td>\n",
       "      <td>5</td>\n",
       "      <td>1</td>\n",
       "      <td>4</td>\n",
       "      <td>1</td>\n",
       "      <td>0</td>\n",
       "      <td>0</td>\n",
       "      <td>40</td>\n",
       "      <td>38</td>\n",
       "      <td>0</td>\n",
       "    </tr>\n",
       "    <tr>\n",
       "      <th>3</th>\n",
       "      <td>53</td>\n",
       "      <td>2</td>\n",
       "      <td>0.425206</td>\n",
       "      <td>1</td>\n",
       "      <td>7</td>\n",
       "      <td>2</td>\n",
       "      <td>5</td>\n",
       "      <td>0</td>\n",
       "      <td>2</td>\n",
       "      <td>1</td>\n",
       "      <td>0</td>\n",
       "      <td>0</td>\n",
       "      <td>40</td>\n",
       "      <td>38</td>\n",
       "      <td>0</td>\n",
       "    </tr>\n",
       "    <tr>\n",
       "      <th>4</th>\n",
       "      <td>28</td>\n",
       "      <td>2</td>\n",
       "      <td>1.406572</td>\n",
       "      <td>9</td>\n",
       "      <td>13</td>\n",
       "      <td>2</td>\n",
       "      <td>9</td>\n",
       "      <td>5</td>\n",
       "      <td>2</td>\n",
       "      <td>0</td>\n",
       "      <td>0</td>\n",
       "      <td>0</td>\n",
       "      <td>40</td>\n",
       "      <td>4</td>\n",
       "      <td>0</td>\n",
       "    </tr>\n",
       "    <tr>\n",
       "      <th>...</th>\n",
       "      <td>...</td>\n",
       "      <td>...</td>\n",
       "      <td>...</td>\n",
       "      <td>...</td>\n",
       "      <td>...</td>\n",
       "      <td>...</td>\n",
       "      <td>...</td>\n",
       "      <td>...</td>\n",
       "      <td>...</td>\n",
       "      <td>...</td>\n",
       "      <td>...</td>\n",
       "      <td>...</td>\n",
       "      <td>...</td>\n",
       "      <td>...</td>\n",
       "      <td>...</td>\n",
       "    </tr>\n",
       "    <tr>\n",
       "      <th>32556</th>\n",
       "      <td>27</td>\n",
       "      <td>2</td>\n",
       "      <td>0.638926</td>\n",
       "      <td>7</td>\n",
       "      <td>12</td>\n",
       "      <td>2</td>\n",
       "      <td>12</td>\n",
       "      <td>5</td>\n",
       "      <td>4</td>\n",
       "      <td>0</td>\n",
       "      <td>0</td>\n",
       "      <td>0</td>\n",
       "      <td>38</td>\n",
       "      <td>38</td>\n",
       "      <td>0</td>\n",
       "    </tr>\n",
       "    <tr>\n",
       "      <th>32557</th>\n",
       "      <td>40</td>\n",
       "      <td>2</td>\n",
       "      <td>-0.335246</td>\n",
       "      <td>11</td>\n",
       "      <td>9</td>\n",
       "      <td>2</td>\n",
       "      <td>6</td>\n",
       "      <td>0</td>\n",
       "      <td>4</td>\n",
       "      <td>1</td>\n",
       "      <td>0</td>\n",
       "      <td>0</td>\n",
       "      <td>40</td>\n",
       "      <td>38</td>\n",
       "      <td>1</td>\n",
       "    </tr>\n",
       "    <tr>\n",
       "      <th>32558</th>\n",
       "      <td>58</td>\n",
       "      <td>2</td>\n",
       "      <td>-0.358567</td>\n",
       "      <td>11</td>\n",
       "      <td>9</td>\n",
       "      <td>6</td>\n",
       "      <td>0</td>\n",
       "      <td>4</td>\n",
       "      <td>4</td>\n",
       "      <td>0</td>\n",
       "      <td>0</td>\n",
       "      <td>0</td>\n",
       "      <td>40</td>\n",
       "      <td>38</td>\n",
       "      <td>0</td>\n",
       "    </tr>\n",
       "    <tr>\n",
       "      <th>32559</th>\n",
       "      <td>22</td>\n",
       "      <td>2</td>\n",
       "      <td>0.110688</td>\n",
       "      <td>11</td>\n",
       "      <td>9</td>\n",
       "      <td>4</td>\n",
       "      <td>0</td>\n",
       "      <td>3</td>\n",
       "      <td>4</td>\n",
       "      <td>1</td>\n",
       "      <td>0</td>\n",
       "      <td>0</td>\n",
       "      <td>20</td>\n",
       "      <td>38</td>\n",
       "      <td>0</td>\n",
       "    </tr>\n",
       "    <tr>\n",
       "      <th>32560</th>\n",
       "      <td>52</td>\n",
       "      <td>3</td>\n",
       "      <td>0.928780</td>\n",
       "      <td>11</td>\n",
       "      <td>9</td>\n",
       "      <td>2</td>\n",
       "      <td>3</td>\n",
       "      <td>5</td>\n",
       "      <td>4</td>\n",
       "      <td>0</td>\n",
       "      <td>15024</td>\n",
       "      <td>0</td>\n",
       "      <td>40</td>\n",
       "      <td>38</td>\n",
       "      <td>1</td>\n",
       "    </tr>\n",
       "  </tbody>\n",
       "</table>\n",
       "<p>30139 rows × 15 columns</p>\n",
       "</div>"
      ],
      "text/plain": [
       "       Age  Workclass    Fnlwgt  Education  Education-num  Marital-Status  \\\n",
       "0       39          5 -1.062676          9             13               4   \n",
       "1       50          4 -1.007829          9             13               2   \n",
       "2       38          2  0.244669         11              9               0   \n",
       "3       53          2  0.425206          1              7               2   \n",
       "4       28          2  1.406572          9             13               2   \n",
       "...    ...        ...       ...        ...            ...             ...   \n",
       "32556   27          2  0.638926          7             12               2   \n",
       "32557   40          2 -0.335246         11              9               2   \n",
       "32558   58          2 -0.358567         11              9               6   \n",
       "32559   22          2  0.110688         11              9               4   \n",
       "32560   52          3  0.928780         11              9               2   \n",
       "\n",
       "       Occupation  Relationship  Race  Sex  Capital-gain  Capital-loss  \\\n",
       "0               0             1     4    1          2174             0   \n",
       "1               3             0     4    1             0             0   \n",
       "2               5             1     4    1             0             0   \n",
       "3               5             0     2    1             0             0   \n",
       "4               9             5     2    0             0             0   \n",
       "...           ...           ...   ...  ...           ...           ...   \n",
       "32556          12             5     4    0             0             0   \n",
       "32557           6             0     4    1             0             0   \n",
       "32558           0             4     4    0             0             0   \n",
       "32559           0             3     4    1             0             0   \n",
       "32560           3             5     4    0         15024             0   \n",
       "\n",
       "       Hours-per-week  Native-country  Sum  \n",
       "0                  40              38    0  \n",
       "1                  13              38    0  \n",
       "2                  40              38    0  \n",
       "3                  40              38    0  \n",
       "4                  40               4    0  \n",
       "...               ...             ...  ...  \n",
       "32556              38              38    0  \n",
       "32557              40              38    1  \n",
       "32558              40              38    0  \n",
       "32559              20              38    0  \n",
       "32560              40              38    1  \n",
       "\n",
       "[30139 rows x 15 columns]"
      ]
     },
     "execution_count": 14,
     "metadata": {},
     "output_type": "execute_result"
    }
   ],
   "source": [
    "X = dfcopy[['Fnlwgt']]\n",
    "# Normalise the features to use zero mean normalisation\n",
    "# only for the first 10 features, but try yourself to visualise more features\n",
    "from sklearn.preprocessing import StandardScaler\n",
    "scaler = StandardScaler()\n",
    "dfcopy['Fnlwgt'] = scaler.fit_transform(X)\n",
    "data = dfcopy\n",
    "dfcopy"
   ]
  },
  {
   "cell_type": "code",
   "execution_count": 15,
   "id": "9bcfe0a1",
   "metadata": {},
   "outputs": [],
   "source": [
    "# logistic regression"
   ]
  },
  {
   "cell_type": "code",
   "execution_count": 16,
   "id": "a76fa28b",
   "metadata": {},
   "outputs": [],
   "source": [
    "# support vector machines"
   ]
  },
  {
   "cell_type": "code",
   "execution_count": 17,
   "id": "d781050e-7474-4190-95af-421eeeaf74f8",
   "metadata": {},
   "outputs": [],
   "source": [
    "# split into X and y\n",
    "X = dfcopy.drop(columns = ['Sum'])\n",
    "y = dfcopy['Sum']\n",
    "# split X and y into training and test sets, test set 30% of data \n",
    "from sklearn.model_selection import train_test_split \n",
    "\n",
    "X_train, X_test, y_train, y_test = train_test_split(X, y, test_size=0.3,\n",
    "random_state=1, stratify=y)"
   ]
  },
  {
   "cell_type": "code",
   "execution_count": null,
   "id": "0aca0ef0-f69e-42b0-8191-a8449b474537",
   "metadata": {},
   "outputs": [],
   "source": [
    "# First try SVM with all features selected \n",
    "from sklearn.svm import SVC \n",
    "\n",
    "svclassifier = SVC(C=1.0, kernel='rbf', degree=3, gamma='auto', probability=True)\n",
    "svclassifier.fit(X_train, y_train)\n",
    "\n"
   ]
  },
  {
   "cell_type": "code",
   "execution_count": null,
   "id": "516b3a95-ab50-45ce-b949-7cfa62f755ff",
   "metadata": {},
   "outputs": [],
   "source": [
    "y_pred = svclassifier.predict(X_test)"
   ]
  },
  {
   "cell_type": "code",
   "execution_count": null,
   "id": "005cdacd-e76c-4d39-b3a1-5f2f18ef50c7",
   "metadata": {},
   "outputs": [],
   "source": [
    "from sklearn.metrics import classification_report \n",
    "\n",
    "print(classification_report(y_test, y_pred))"
   ]
  },
  {
   "cell_type": "code",
   "execution_count": null,
   "id": "73342632-67a2-4f0f-baae-135c545115b3",
   "metadata": {},
   "outputs": [],
   "source": []
  },
  {
   "cell_type": "code",
   "execution_count": null,
   "id": "61a1564f-9f0a-46a0-ace3-6fb6ef0013d3",
   "metadata": {},
   "outputs": [],
   "source": [
    "classifier_score = svclassifier.score(X_test, y_test)\n",
    "print(f\"Classifier Score is {classifier_score}\")"
   ]
  },
  {
   "cell_type": "code",
   "execution_count": null,
   "id": "63abf99f-c74c-49a9-b73d-c326c3a3c9f2",
   "metadata": {},
   "outputs": [],
   "source": [
    "# Try dropping features\n",
    "# Drop Capital-gain and capital-loss due to low variability \n",
    "# Drop Education due to Education-num encoding similar data \n",
    "# Drop Native-country for low variability (mostly U.S)\n",
    "# Drop Race for having lowest Chi-Squared statistic \n",
    "\n",
    "df_reduced = dfcopy.drop(columns = ['Capital-gain', 'Capital-loss', 'Education', 'Native-country', 'Race'])\n",
    "df_reduced.head()"
   ]
  },
  {
   "cell_type": "code",
   "execution_count": null,
   "id": "ad3a3d4c-437c-4f6a-a11c-3453ef12b5e8",
   "metadata": {},
   "outputs": [],
   "source": [
    "# split into X and y\n",
    "X1 = df_reduced.drop(columns = ['Sum'])\n",
    "y1 = df_reduced['Sum']\n",
    "\n",
    "X1_train, X1_test, y1_train, y1_test = train_test_split(X1, y1, test_size=0.3,\n",
    "random_state=1, stratify=y)"
   ]
  },
  {
   "cell_type": "code",
   "execution_count": null,
   "id": "3488c29a-047e-4e93-9f46-f59ca86d4d48",
   "metadata": {},
   "outputs": [],
   "source": [
    "svclassifier = SVC(C=1.0, kernel='rbf', degree=3, gamma='auto', probability=True)\n",
    "svclassifier.fit(X1_train, y1_train)"
   ]
  },
  {
   "cell_type": "code",
   "execution_count": null,
   "id": "f3828d6f-045b-41de-94fe-7adbee240213",
   "metadata": {},
   "outputs": [],
   "source": [
    "y1_pred = svclassifier.predict(X1_test)"
   ]
  },
  {
   "cell_type": "code",
   "execution_count": null,
   "id": "c2748d58-0d1c-40b7-91bc-e60bb6293997",
   "metadata": {},
   "outputs": [],
   "source": [
    "print(classification_report(y1_test, y1_pred))"
   ]
  },
  {
   "cell_type": "code",
   "execution_count": null,
   "id": "aba21dc8-61c5-4da4-9096-4136cd54d706",
   "metadata": {},
   "outputs": [],
   "source": [
    "## precision for 0 (<=50k) has increased however the precision for 1 (50k >) has decreased\n",
    "\n",
    "classifier_score1 = svclassifier.score(X1_test, y1_test)\n",
    "print(f\"Classifier Score is {classifier_score1}\")"
   ]
  },
  {
   "cell_type": "code",
   "execution_count": null,
   "id": "97e5430a-284a-4058-a844-9cf2fa94414b",
   "metadata": {},
   "outputs": [],
   "source": [
    "from sklearn.feature_selection import SelectKBest, f_classif\n",
    "from sklearn.pipeline import Pipeline\n",
    "from sklearn.model_selection import cross_val_score\n",
    "# model with just 3 best features selected (k=3)\n",
    "clf_fs_cv = Pipeline([\n",
    " ('feature_selector', SelectKBest(f_classif, k=3)),\n",
    " ('svc', SVC(C=1.0, kernel='rbf', degree=3, gamma='auto', probability=True))\n",
    "])\n",
    "scores = cross_val_score(clf_fs_cv, X, y, cv=5) # 5 folds.\n",
    "print(scores)\n",
    "avg = (100 * np.mean(scores), 100 * np.std(scores)/np.sqrt(scores.shape[0]))\n",
    "print(\"Average score and standard deviation: (%.2f +- %.3f)%%\" %avg)"
   ]
  },
  {
   "cell_type": "code",
   "execution_count": null,
   "id": "690ed46b",
   "metadata": {},
   "outputs": [],
   "source": [
    "# decision trees and multi-layer"
   ]
  },
  {
   "cell_type": "code",
   "execution_count": null,
   "id": "405552d2-c7f0-4417-8ecf-076bbaa0f63f",
   "metadata": {},
   "outputs": [],
   "source": [
    "from sklearn.model_selection import train_test_split\n",
    "from sklearn.tree import DecisionTreeClassifier\n",
    "X_train, X_test, y_train, y_test = train_test_split(data.drop('Sum',axis=1), data['Sum'], test_size=.3,random_state=23)\n",
    "clf = DecisionTreeClassifier(random_state=1)\n",
    "dtt = clf.fit(X_train, y_train)\n",
    "predictions = dtt.predict(X_test)\n",
    "from sklearn.metrics import accuracy_score\n",
    "print(accuracy_score(y_test, predictions))\n",
    "\n"
   ]
  },
  {
   "cell_type": "code",
   "execution_count": 13,
   "id": "bbaad054",
   "metadata": {},
   "outputs": [],
   "source": [
    "# perceptron neural network."
   ]
  },
  {
   "cell_type": "code",
   "execution_count": 14,
   "id": "11df7b9f-696a-4319-abfc-d1fafbc45517",
   "metadata": {},
   "outputs": [],
   "source": [
    "#Analysis"
   ]
  },
  {
   "cell_type": "code",
   "execution_count": 15,
   "id": "c705175b-c7bb-4e19-8f12-b30c8643b155",
   "metadata": {},
   "outputs": [
    {
     "data": {
      "text/html": [
       "<div>\n",
       "<style scoped>\n",
       "    .dataframe tbody tr th:only-of-type {\n",
       "        vertical-align: middle;\n",
       "    }\n",
       "\n",
       "    .dataframe tbody tr th {\n",
       "        vertical-align: top;\n",
       "    }\n",
       "\n",
       "    .dataframe thead th {\n",
       "        text-align: right;\n",
       "    }\n",
       "</style>\n",
       "<table border=\"1\" class=\"dataframe\">\n",
       "  <thead>\n",
       "    <tr style=\"text-align: right;\">\n",
       "      <th></th>\n",
       "      <th>Age</th>\n",
       "      <th>Fnlwgt</th>\n",
       "      <th>Education-num</th>\n",
       "      <th>Capital-gain</th>\n",
       "      <th>Capital-loss</th>\n",
       "      <th>Hours-per-week</th>\n",
       "      <th>Sum</th>\n",
       "    </tr>\n",
       "  </thead>\n",
       "  <tbody>\n",
       "    <tr>\n",
       "      <th>0</th>\n",
       "      <td>39</td>\n",
       "      <td>77516</td>\n",
       "      <td>13</td>\n",
       "      <td>2174</td>\n",
       "      <td>0</td>\n",
       "      <td>40</td>\n",
       "      <td>&lt;=50K</td>\n",
       "    </tr>\n",
       "    <tr>\n",
       "      <th>1</th>\n",
       "      <td>50</td>\n",
       "      <td>83311</td>\n",
       "      <td>13</td>\n",
       "      <td>0</td>\n",
       "      <td>0</td>\n",
       "      <td>13</td>\n",
       "      <td>&lt;=50K</td>\n",
       "    </tr>\n",
       "    <tr>\n",
       "      <th>2</th>\n",
       "      <td>38</td>\n",
       "      <td>215646</td>\n",
       "      <td>9</td>\n",
       "      <td>0</td>\n",
       "      <td>0</td>\n",
       "      <td>40</td>\n",
       "      <td>&lt;=50K</td>\n",
       "    </tr>\n",
       "    <tr>\n",
       "      <th>3</th>\n",
       "      <td>53</td>\n",
       "      <td>234721</td>\n",
       "      <td>7</td>\n",
       "      <td>0</td>\n",
       "      <td>0</td>\n",
       "      <td>40</td>\n",
       "      <td>&lt;=50K</td>\n",
       "    </tr>\n",
       "    <tr>\n",
       "      <th>4</th>\n",
       "      <td>28</td>\n",
       "      <td>338409</td>\n",
       "      <td>13</td>\n",
       "      <td>0</td>\n",
       "      <td>0</td>\n",
       "      <td>40</td>\n",
       "      <td>&lt;=50K</td>\n",
       "    </tr>\n",
       "  </tbody>\n",
       "</table>\n",
       "</div>"
      ],
      "text/plain": [
       "   Age  Fnlwgt  Education-num  Capital-gain  Capital-loss  Hours-per-week  \\\n",
       "0   39   77516             13          2174             0              40   \n",
       "1   50   83311             13             0             0              13   \n",
       "2   38  215646              9             0             0              40   \n",
       "3   53  234721              7             0             0              40   \n",
       "4   28  338409             13             0             0              40   \n",
       "\n",
       "     Sum  \n",
       "0  <=50K  \n",
       "1  <=50K  \n",
       "2  <=50K  \n",
       "3  <=50K  \n",
       "4  <=50K  "
      ]
     },
     "execution_count": 15,
     "metadata": {},
     "output_type": "execute_result"
    }
   ],
   "source": [
    "# create df of the numerical values and Sum to create multiple boxplots\n",
    "\n",
    "df_numerical = dfdropd[['Age', 'Fnlwgt', 'Education-num', 'Capital-gain', 'Capital-loss', 'Hours-per-week', 'Sum']].copy()\n",
    "\n",
    "df_numerical.head()"
   ]
  },
  {
   "cell_type": "code",
   "execution_count": 18,
   "id": "9cd144fe-b07a-481a-8bb4-1fb0acf16277",
   "metadata": {},
   "outputs": [
    {
     "data": {
      "image/png": "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\n",
      "text/plain": [
       "<Figure size 1500x2000 with 6 Axes>"
      ]
     },
     "metadata": {},
     "output_type": "display_data"
    }
   ],
   "source": [
    "fig, axes = plt.subplots(nrows=2, ncols=3, figsize=(15,20))\n",
    "fig.subplots_adjust(hspace =.2, wspace=.5)\n",
    "axes = axes.ravel()\n",
    "\n",
    "for i, col in enumerate(df_numerical.columns[0:6]):\n",
    "    _= sns.boxplot(y=col, x='Sum', data=df_numerical, ax=axes[i])"
   ]
  },
  {
   "cell_type": "code",
   "execution_count": 19,
   "id": "d6a4c7d4-8176-46d8-953e-f21702d61f8c",
   "metadata": {},
   "outputs": [
    {
     "name": "stdout",
     "output_type": "stream",
     "text": [
      "Workclass       \n",
      "Private             22264\n",
      "Self-emp-not-inc     2498\n",
      "Local-gov            2067\n",
      "State-gov            1279\n",
      "Self-emp-inc         1074\n",
      "Federal-gov           943\n",
      "Without-pay            14\n",
      "dtype: int64\n",
      "Marital-Status       \n",
      "Married-civ-spouse       14059\n",
      "Never-married             9711\n",
      "Divorced                  4212\n",
      "Separated                  939\n",
      "Widowed                    827\n",
      "Married-spouse-absent      370\n",
      "Married-AF-spouse           21\n",
      "dtype: int64\n",
      "Occupation       \n",
      "Prof-specialty       4034\n",
      "Craft-repair         4025\n",
      "Exec-managerial      3991\n",
      "Adm-clerical         3719\n",
      "Sales                3584\n",
      "Other-service        3209\n",
      "Machine-op-inspct    1964\n",
      "Transport-moving     1572\n",
      "Handlers-cleaners    1349\n",
      "Farming-fishing       987\n",
      "Tech-support          911\n",
      "Protective-serv       644\n",
      "Priv-house-serv       141\n",
      "Armed-Forces            9\n",
      "dtype: int64\n",
      "Relationship  \n",
      "Husband           12457\n",
      "Not-in-family      7714\n",
      "Own-child          4462\n",
      "Unmarried          3211\n",
      "Wife               1406\n",
      "Other-relative      889\n",
      "dtype: int64\n",
      "Race              \n",
      "White                 25912\n",
      "Black                  2816\n",
      "Asian-Pac-Islander      894\n",
      "Amer-Indian-Eskimo      286\n",
      "Other                   231\n",
      "dtype: int64\n",
      "Sex   \n",
      "Male      20366\n",
      "Female     9773\n",
      "dtype: int64\n",
      "Native-country            \n",
      "United-States                 27487\n",
      "Mexico                          606\n",
      "Philippines                     188\n",
      "Germany                         128\n",
      "Puerto-Rico                     109\n",
      "Canada                          107\n",
      "El-Salvador                     100\n",
      "India                           100\n",
      "Cuba                             92\n",
      "England                          86\n",
      "Jamaica                          80\n",
      "South                            71\n",
      "China                            68\n",
      "Italy                            68\n",
      "Dominican-Republic               67\n",
      "Vietnam                          64\n",
      "Guatemala                        61\n",
      "Japan                            59\n",
      "Poland                           56\n",
      "Columbia                         56\n",
      "Haiti                            42\n",
      "Iran                             42\n",
      "Taiwan                           42\n",
      "Portugal                         34\n",
      "Nicaragua                        33\n",
      "Peru                             30\n",
      "Greece                           29\n",
      "France                           27\n",
      "Ecuador                          27\n",
      "Ireland                          24\n",
      "Hong                             19\n",
      "Trinadad&Tobago                  18\n",
      "Cambodia                         18\n",
      "Laos                             17\n",
      "Thailand                         17\n",
      "Yugoslavia                       16\n",
      "Outlying-US(Guam-USVI-etc)       14\n",
      "Hungary                          13\n",
      "Honduras                         12\n",
      "Scotland                         11\n",
      "Holand-Netherlands                1\n",
      "dtype: int64\n"
     ]
    }
   ],
   "source": [
    "# from the boxplots it looks like fnlwgt is similar for both classes, so we may potentially drop that feature.\n",
    "# also, captital-gain and capital-loss are mostly zero for both classes, so we could drop these as well due to low variability\n",
    "\n",
    "#Now try to plot the categorical features \n",
    "#look at value counts first \n",
    "\n",
    "categorical_cols = ['Workclass', 'Marital-Status', 'Occupation', 'Relationship', 'Race', 'Sex', 'Native-country']\n",
    "\n",
    "for col in categorical_cols:\n",
    "    vals = dfdropd[[col]].value_counts()\n",
    "    print(vals)\n",
    "    \n",
    "# data is skewed towards private sector, white race, males, and United States"
   ]
  },
  {
   "cell_type": "code",
   "execution_count": 20,
   "id": "61a48a4f-0344-456e-86dd-8cba37a33962",
   "metadata": {},
   "outputs": [
    {
     "data": {
      "text/plain": [
       "<AxesSubplot:xlabel='Sum', ylabel='Count'>"
      ]
     },
     "execution_count": 20,
     "metadata": {},
     "output_type": "execute_result"
    },
    {
     "data": {
      "image/png": "iVBORw0KGgoAAAANSUhEUgAAAk0AAAGwCAYAAAC0HlECAAAAOXRFWHRTb2Z0d2FyZQBNYXRwbG90bGliIHZlcnNpb24zLjUuMiwgaHR0cHM6Ly9tYXRwbG90bGliLm9yZy8qNh9FAAAACXBIWXMAAA9hAAAPYQGoP6dpAABAVElEQVR4nO3dfVxUdf7//+cIyIXCKCCMbJC2uaThJbaI1mqrgiWyre1akaymofuxJFK7MCu1XXWzUjdtzVwLN3Xd761NtwsjtdQyvESpTLLNNDRBNHEQRUA4vz9az68RtCOCM+jjfrvN7cZ5n9c583pDyLP3nDNjMwzDEAAAAC6oibsbAAAAaAwITQAAABYQmgAAACwgNAEAAFhAaAIAALCA0AQAAGABoQkAAMACb3c3cCWprq7WoUOHFBgYKJvN5u52AACABYZh6MSJE4qIiFCTJudfTyI01aNDhw4pMjLS3W0AAIA6OHDggK655prz7ic01aPAwEBJP3zTg4KC3NwNAACwoqSkRJGRkebf8fMhNNWjsy/JBQUFEZoAAGhkfurSGi4EBwAAsIDQBAAAYAGhCQAAwAKuaQIAoAFVVVWpsrLS3W1c1Xx8fOTl5XXJ5yE0AQDQAAzDUGFhoY4fP+7uViCpRYsWcjgcl/Q+ioQmAAAawNnAFBYWpoCAAN702E0Mw9CpU6dUVFQkSWrdunWdz0VoAgCgnlVVVZmBKSQkxN3tXPX8/f0lSUVFRQoLC6vzS3VcCA4AQD07ew1TQECAmzvBWWd/FpdyfRmhCQCABsJLcp6jPn4WhCYAAAAL3BqaPvroIw0aNEgRERGy2WxauXLleWtHjx4tm82mOXPmuIyXl5dr7NixCg0NVbNmzZScnKyDBw+61BQXFys1NVV2u112u12pqak17mbIz8/XoEGD1KxZM4WGhio9PV0VFRX1NFMAANDYuTU0nTx5Up07d9a8efMuWLdy5Upt2bJFERERNfZlZGRoxYoVWr58uTZu3KjS0lIlJSWpqqrKrElJSVFubq6ysrKUlZWl3Nxcpaammvurqqo0cOBAnTx5Uhs3btTy5cv173//W+PHj6+/yQIAgMbN8BCSjBUrVtQYP3jwoPGzn/3M2LVrl3Httdcas2fPNvcdP37c8PHxMZYvX26Offfdd0aTJk2MrKwswzAMY/fu3YYkY/PmzWbNpk2bDEnGl19+aRiGYaxatcpo0qSJ8d1335k1//znPw1fX1/D6XRanoPT6TQkXdQxAIArT1lZmbF7926jrKzM3a2c1+HDh41Ro0YZkZGRRtOmTY3w8HAjISHByM7OdndrDeJCPxOrf789+pqm6upqpaam6pFHHtGNN95YY39OTo4qKyuVkJBgjkVERCgmJkbZ2dmSpE2bNslutysuLs6s6dGjh+x2u0tNTEyMy0pWYmKiysvLlZOTc97+ysvLVVJS4vIAAKAxuPPOO/Xpp59q8eLF+uqrr/TWW2+pT58+OnbsmLtb81ge/T5Nzz77rLy9vZWenl7r/sLCQjVt2lQtW7Z0GQ8PD1dhYaFZExYWVuPYsLAwl5rw8HCX/S1btlTTpk3NmtrMmDFDU6dOvag51VV+fr6OHj16WZ4LDSM0NFRRUVHubgMAdPz4cW3cuFHr169X7969JUnXXnutfvnLX5o1TqdTjzzyiFauXKnTp0+re/fumj17tjp37qwjR46oY8eOSk9P1xNPPCFJ2rJli2655Ra98847LosZVxKPDU05OTn661//qh07dlz0bYKGYbgcU9vxdak518SJEzVu3Dhzu6SkRJGRkRfVqxX5+fm64Yb2Kis7Ve/nxuXj7x+gL7/MIzgBcLvmzZurefPmWrlypXr06CFfX1+X/YZhaODAgQoODtaqVatkt9u1YMEC9e3bV1999ZVatWqlV199VXfccYcSEhJ0ww03aOjQoRozZswVG5gkDw5NH3/8sYqKilz+wFRVVWn8+PGaM2eO9u/fL4fDoYqKChUXF7usNhUVFalnz56SJIfDocOHD9c4/5EjR8zVJYfDoS1btrjsLy4uVmVlZY0VqB/z9fWt8R9aQzh69KjKyk4pbsRkBbVu0+DPh/pXUrBfW16dqqNHjxKaALidt7e3MjMzlZaWppdfflndunVT7969dffdd6tTp05at26dPv/8cxUVFZl/555//nmtXLlSb7zxhkaNGqXbb79daWlpuvfee3XTTTfJz89Pf/nLX9w8s4blsaEpNTVV/fr1cxlLTExUamqq7rvvPklSbGysfHx8tGbNGg0ZMkSSVFBQoF27dmnmzJmSpPj4eDmdTm3dutVcdtyyZYucTqcZrOLj4zVt2jQVFBSYn0mzevVq+fr6KjY29rLM14qg1m0UHBXt7jYAAFeAO++8UwMHDtTHH3+sTZs2KSsrSzNnztTf//53HTlyRKWlpTU+AqasrEx79+41t59//nnFxMTo//2//6ft27fLz8/vck/jsnJraCotLdXXX39tbu/bt0+5ubkKDg5WVFRUjR+Wj4+PHA6HoqN/CA52u10jR47U+PHjFRISouDgYE2YMEEdO3Y0A1f79u01YMAApaWlacGCBZKkUaNGKSkpyTxPQkKCOnTooNTUVD333HM6duyYJkyYoLS0NAUFBV2ObwUAAJedn5+f+vfvr/79++vpp5/W/fffr8mTJ2vMmDFq3bq11q9fX+OYFi1amF9/8803OnTokKqrq/Xtt9+qU6dOl695N3BraNq+fbtuvfVWc/vs9UHDhg1TZmampXPMnj1b3t7eGjJkiMrKytS3b19lZma6fBjf0qVLlZ6ebr7Ompyc7PLeUF5eXnr33Xc1ZswY9erVS/7+/kpJSdHzzz9fD7MEAKBx6NChg1auXKlu3bqpsLBQ3t7eatOmTa21FRUVuvfee3XXXXfphhtu0MiRI/X5559f8LKWxs6toalPnz4yDMNy/f79+2uM+fn5ae7cuZo7d+55jwsODtaSJUsueO6oqCi98847lnsBAKCx+v777/X73/9eI0aMUKdOnRQYGKjt27dr5syZ+s1vfqN+/fopPj5ed9xxh5599llFR0fr0KFDWrVqle644w51795dkyZNktPp1IsvvqjmzZvrvffe08iRI6/ov6Uee00TAABoGM2bN1dcXJxmz56tvXv3qrKyUpGRkUpLS9MTTzwhm82mVatWadKkSRoxYoSOHDkih8OhX/3qVwoPD9f69es1Z84crVu3zryM5fXXX1enTp00f/58/d///Z+bZ9gwCE0AAFxlfH19NWPGDM2YMeO8NYGBgXrxxRf14osv1tgXGRmpyspKl7GoqKgan+t6pfHodwQHAADwFIQmAAAACwhNAAAAFhCaAAAALCA0AQAAWEBoAgAAsIDQBAAAYAGhCQAAwALe3BIAgMsoPz9fR48evWzPFxoaqqioqMv2fD+2f/9+tW3bVjt37lSXLl3c0kN9IjQBAHCZ5Ofn64Yb2qus7NRle05//wB9+WWe5eA0fPhwLV68WKNHj9bLL7/ssm/MmDGaP3++hg0bpszMzAbo1rMRmgAAuEyOHj2qsrJTihsxWUGt2zT485UU7NeWV6fq6NGjF7XaFBkZqeXLl2v27Nny9/eXJJ0+fVr//Oc/3bZq5QkITQAAXGZBrdsoOCra3W2cV7du3fTNN9/ozTff1L333itJevPNNxUZGanrrrvOrMvKytKf//xn7dq1S15eXoqPj9df//pX/fznPz/vuXfv3q0JEyboo48+UrNmzZSQkKDZs2crNDS0wed1qbgQHAAA1HDffffptddeM7dfffVVjRgxwqXm5MmTGjdunLZt26YPPvhATZo00W9/+1tVV1fXes6CggL17t1bXbp00fbt25WVlaXDhw9ryJAhDTqX+sJKEwAAqCE1NVUTJ07U/v37ZbPZ9Mknn2j58uVav369WXPnnXe6HLNo0SKFhYVp9+7diomJqXHO+fPnq1u3bpo+fbo59uqrryoyMlJfffWVfvGLXzTYfOoDoQkAANQQGhqqgQMHavHixTIMQwMHDqzxEtrevXv11FNPafPmzTp69Ki5wpSfn19raMrJydG6devUvHnzGvv27t1LaAIAAI3TiBEj9OCDD0qSXnrppRr7Bw0apMjISC1cuFARERGqrq5WTEyMKioqaj1fdXW1Bg0apGeffbbGvtatW9dv8w2A0AQAAGo1YMAAMwAlJia67Pv++++Vl5enBQsW6JZbbpEkbdy48YLn69atm/7973+rTZs28vZufBGEC8EBAECtvLy8lJeXp7y8PHl5ebnsa9mypUJCQvTKK6/o66+/1ocffqhx48Zd8HwPPPCAjh07pnvuuUdbt27VN998o9WrV2vEiBGqqqpqyKnUi8YX8wAAaORKCvY3mucJCgqqdbxJkyZavny50tPTFRMTo+joaL344ovq06fPec8VERGhTz75RI899pgSExNVXl6ua6+9VgMGDFCTJp6/jkNoAgDgMgkNDZW/f4C2vDr1sj2nv3/ARb0H0k+90/fKlSvNr/v166fdu3e77DcMw/y6TZs2LtuS1K5dO7355puW+/EkhCYAAC6TqKgoffll3lXz2XNXGkITAACXUVRUFCGmkfL8FxABAAA8AKEJAADAAkITAACABYQmAAAACwhNAAAAFhCaAAAALCA0AQAAWMD7NAEAcBnl5+fz5pYXqU2bNsrIyFBGRoZb+yA0AQBwmeTn56v9DdE6VXb6sj1ngL+f8r7cYzk4DR8+XIsXL64x/t///lfXX399fbfXqBCaAAC4TI4ePapTZae1ZFQXtW/dvMGfL6+gVENfydXRo0cvarVpwIABeu2111zGWrVqVd/tNTqEJgAALrP2rZurWxu7u9s4L19fXzkcjhrjb7/9tqZMmaIvvvhCERERGjZsmCZNmiRv7x/ihM1m08svv6y3335bH374oa699lq9+uqratWqle6//35t27ZNnTp10pIlS/Tzn/9ckrR3716NGzdOmzdv1smTJ9W+fXvNmDFD/fr1O29/TqdTjzzyiFauXKnTp0+re/fumj17tjp37tww35D/4UJwAADwk95//30NHTpU6enp2r17txYsWKDMzExNmzbNpe5Pf/qT/vCHPyg3N1c33HCDUlJSNHr0aE2cOFHbt2+XJD344INmfWlpqW6//XatXbtWO3fuVGJiogYNGqT8/Pxa+zAMQwMHDlRhYaFWrVqlnJwcdevWTX379tWxY8ca7hsgVpoAAMA53nnnHTVv/v+/fHjbbbfp8OHDevzxxzVs2DBJ0nXXXac//elPevTRRzV58mSz9r777tOQIUMkSY899pji4+P11FNPKTExUZL00EMP6b777jPrO3fu7LJC9Oc//1krVqzQW2+95RKuzlq3bp0+//xzFRUVydfXV5L0/PPPa+XKlXrjjTc0atSoevxOuCI0AQAAF7feeqvmz59vbjdr1kzXX3+9tm3b5rKyVFVVpdOnT+vUqVMKCAiQJHXq1MncHx4eLknq2LGjy9jp06dVUlKioKAgnTx5UlOnTtU777yjQ4cO6cyZMyorKzvvSlNOTo5KS0sVEhLiMl5WVqa9e/de+uQvgNAEAABcnA1JP1ZdXa2pU6dq8ODBNer9/PzMr318fMyvbTbbeceqq6slSY888ojef/99Pf/887r++uvl7++v3/3ud6qoqKi1t+rqarVu3Vrr16+vsa9FixbWJlhHhCYAAPCTunXrpj179tT72w58/PHHGj58uH77299K+uEap/3791+wj8LCQnl7e6tNmzb12stPceuF4B999JEGDRqkiIgI2Ww2rVy50txXWVmpxx57TB07dlSzZs0UERGhP/zhDzp06JDLOcrLyzV27FiFhoaqWbNmSk5O1sGDB11qiouLlZqaKrvdLrvdrtTUVB0/ftylJj8/X4MGDVKzZs0UGhqq9PT086ZcAACuNk8//bT+8Y9/mHfP5eXl6V//+peefPLJSzrv9ddfrzfffFO5ubn69NNPlZKSYq5C1aZfv36Kj4/XHXfcoffff1/79+9Xdna2nnzySfNC84bi1pWmkydPqnPnzrrvvvt05513uuw7deqUduzYoaeeekqdO3dWcXGxMjIylJyc7PJNycjI0Ntvv63ly5crJCRE48ePV1JSknJycuTl5SVJSklJ0cGDB5WVlSVJGjVqlFJTU/X2229L+uE12YEDB6pVq1bauHGjvv/+ew0bNkyGYWju3LmX6bsBALha5BWUNrrnSUxM1DvvvKNnnnlGM2fOlI+Pj2644Qbdf//9l3Te2bNna8SIEerZs6dCQ0P12GOPqaSk5Lz1NptNq1at0qRJkzRixAgdOXJEDodDv/rVr8xrqBqKzTAMo0GfwSKbzaYVK1bojjvuOG/Ntm3b9Mtf/lLffvutoqKi5HQ61apVK73++uu66667JEmHDh1SZGSkVq1apcTEROXl5alDhw7avHmz4uLiJEmbN29WfHy8vvzyS0VHR+u9995TUlKSDhw4oIiICEnS8uXLNXz4cBUVFSkoKKjWfsrLy1VeXm5ul5SUKDIyUk6n87zH1MWOHTsUGxur/pNeU3BUdL2dF5fPsfw9WjPtPvPWWABXttOnT2vfvn1q27aty/U+jeEdwa9U5/uZSD/8/bbb7T/597tRXdPkdDpls9nMC71ycnJUWVmphIQEsyYiIkIxMTHKzs5WYmKiNm3aJLvdbgYmSerRo4fsdruys7MVHR2tTZs2KSYmxgxM0g+Jury8XDk5Obr11ltr7WfGjBmaOnVqw0wWAHDFiYqKUt6Xe/jsuUaq0YSm06dP6/HHH1dKSoqZAgsLC9W0aVO1bNnSpTY8PFyFhYVmTVhYWI3zhYWFudScu6TXsmVLNW3a1KypzcSJEzVu3Dhz++xKEwAA5xMVFUWIaaQaRWiqrKzU3Xffrerqav3tb3/7yXrDMMxbGiW5fH0pNefy9fU131gLAABc2Tz+Y1QqKys1ZMgQ7du3T2vWrHF5rdHhcKiiokLFxcUuxxQVFZkrRw6HQ4cPH65x3iNHjrjUnLuiVFxcrMrKyga/qAwAADQOHh2azgam//73v1q7dm2Nd/+MjY2Vj4+P1qxZY44VFBRo165d6tmzpyQpPj5eTqdTW7duNWu2bNkip9PpUrNr1y4VFBSYNatXr5avr69iY2MbcooAgCuYh9xrBdXPz8KtL8+Vlpbq66+/Nrf37dun3NxcBQcHKyIiQr/73e+0Y8cOvfPOO6qqqjJXg4KDg9W0aVPZ7XaNHDlS48ePV0hIiIKDgzVhwgR17NjR/HTk9u3ba8CAAUpLS9OCBQsk/fCWA0lJSYqO/uFOtISEBHXo0EGpqal67rnndOzYMU2YMEFpaWn1ehccAODqcPYdsE+dOiV/f383dwPph5+F5Pru5BfLraFp+/btLnemnb2oetiwYZoyZYreeustSVKXLl1cjlu3bp369Okj6Yf3d/D29taQIUNUVlamvn37KjMz03yPJklaunSp0tPTzbvskpOTNW/ePHO/l5eX3n33XY0ZM0a9evWSv7+/UlJS9PzzzzfEtAEAVzgvLy+1aNFCRUVFkqSAgIALXiOLhmMYhk6dOqWioiK1aNHCJR9cLLeGpj59+lxwuczKUpqfn5/mzp17wTehDA4O1pIlSy54nqioKL3zzjs/+XwAAFjhcDgkyQxOcK8WLVqYP5O6ahR3zwEA0NjYbDa1bt1aYWFhqqysdHc7VzUfH59LWmE6i9AEAEAD8vLyqpc/2HA/j757DgAAwFMQmgAAACwgNAEAAFhAaAIAALCA0AQAAGABoQkAAMACQhMAAIAFhCYAAAALCE0AAAAWEJoAAAAsIDQBAABYQGgCAACwgNAEAABgAaEJAADAAkITAACABYQmAAAACwhNAAAAFhCaAAAALCA0AQAAWEBoAgAAsIDQBAAAYAGhCQAAwAJCEwAAgAWEJgAAAAsITQAAABYQmgAAACwgNAEAAFhAaAIAALCA0AQAAGABoQkAAMACQhMAAIAFhCYAAAALCE0AAAAWEJoAAAAsIDQBAABYQGgCAACwgNAEAABggVtD00cffaRBgwYpIiJCNptNK1eudNlvGIamTJmiiIgI+fv7q0+fPvriiy9casrLyzV27FiFhoaqWbNmSk5O1sGDB11qiouLlZqaKrvdLrvdrtTUVB0/ftylJj8/X4MGDVKzZs0UGhqq9PR0VVRUNMS0AQBAI+TW0HTy5El17txZ8+bNq3X/zJkzNWvWLM2bN0/btm2Tw+FQ//79deLECbMmIyNDK1as0PLly7Vx40aVlpYqKSlJVVVVZk1KSopyc3OVlZWlrKws5ebmKjU11dxfVVWlgQMH6uTJk9q4caOWL1+uf//73xo/fnzDTR4AADQq3u588ttuu0233XZbrfsMw9CcOXM0adIkDR48WJK0ePFihYeHa9myZRo9erScTqcWLVqk119/Xf369ZMkLVmyRJGRkVq7dq0SExOVl5enrKwsbd68WXFxcZKkhQsXKj4+Xnv27FF0dLRWr16t3bt368CBA4qIiJAkvfDCCxo+fLimTZumoKCgy/DdAAAAnsxjr2nat2+fCgsLlZCQYI75+vqqd+/eys7OliTl5OSosrLSpSYiIkIxMTFmzaZNm2S3283AJEk9evSQ3W53qYmJiTEDkyQlJiaqvLxcOTk55+2xvLxcJSUlLg8AAHBl8tjQVFhYKEkKDw93GQ8PDzf3FRYWqmnTpmrZsuUFa8LCwmqcPywszKXm3Odp2bKlmjZtatbUZsaMGeZ1Una7XZGRkRc5SwAA0Fh4bGg6y2azuWwbhlFj7Fzn1tRWX5eac02cOFFOp9N8HDhw4IJ9AQCAxstjQ5PD4ZCkGis9RUVF5qqQw+FQRUWFiouLL1hz+PDhGuc/cuSIS825z1NcXKzKysoaK1A/5uvrq6CgIJcHAAC4MnlsaGrbtq0cDofWrFljjlVUVGjDhg3q2bOnJCk2NlY+Pj4uNQUFBdq1a5dZEx8fL6fTqa1bt5o1W7ZskdPpdKnZtWuXCgoKzJrVq1fL19dXsbGxDTpPAADQOLj17rnS0lJ9/fXX5va+ffuUm5ur4OBgRUVFKSMjQ9OnT1e7du3Url07TZ8+XQEBAUpJSZEk2e12jRw5UuPHj1dISIiCg4M1YcIEdezY0bybrn379howYIDS0tK0YMECSdKoUaOUlJSk6OhoSVJCQoI6dOig1NRUPffcczp27JgmTJigtLQ0Vo8AAIAkN4em7du369ZbbzW3x40bJ0kaNmyYMjMz9eijj6qsrExjxoxRcXGx4uLitHr1agUGBprHzJ49W97e3hoyZIjKysrUt29fZWZmysvLy6xZunSp0tPTzbvskpOTXd4bysvLS++++67GjBmjXr16yd/fXykpKXr++ecb+lsAAAAaCZthGIa7m7hSlJSUyG63y+l01usK1Y4dOxQbG6v+k15TcFR0vZ0Xl8+x/D1aM+0+5eTkqFu3bu5uBwDwI1b/fnvsNU0AAACehNAEAABgAaEJAADAAkITAACABYQmAAAACwhNAAAAFhCaAAAALCA0AQAAWEBoAgAAsIDQBAAAYAGhCQAAwAJCEwAAgAWEJgAAAAsITQAAABYQmgAAACwgNAEAAFhAaAIAALCA0AQAAGABoQkAAMACQhMAAIAFhCYAAAALCE0AAAAWEJoAAAAsIDQBAABYQGgCAACwgNAEAABggbe7GwCuJnl5ee5uAZcgNDRUUVFR7m4DgJsQmoDLoLK8QpI0dOhQN3eCSxHg76e8L/cQnICrFKEJuAzOnDkjSfrT4F/o9o5hbu4GdZFXUKqhr+Tq6NGjhCbgKkVoAi6jtqEB6tbG7u42AAB1wIXgAAAAFhCaAAAALCA0AQAAWEBoAgAAsIDQBAAAYAGhCQAAwAJCEwAAgAWEJgAAAAsITQAAABYQmgAAACzw6NB05swZPfnkk2rbtq38/f113XXX6ZlnnlF1dbVZYxiGpkyZooiICPn7+6tPnz764osvXM5TXl6usWPHKjQ0VM2aNVNycrIOHjzoUlNcXKzU1FTZ7XbZ7Xalpqbq+PHjl2OaAACgEfDo0PTss8/q5Zdf1rx585SXl6eZM2fqueee09y5c82amTNnatasWZo3b562bdsmh8Oh/v3768SJE2ZNRkaGVqxYoeXLl2vjxo0qLS1VUlKSqqqqzJqUlBTl5uYqKytLWVlZys3NVWpq6mWdLwAA8Fx1+sDe6667Ttu2bVNISIjL+PHjx9WtWzd988039dLcpk2b9Jvf/EYDBw6UJLVp00b//Oc/tX37dkk/rDLNmTNHkyZN0uDBgyVJixcvVnh4uJYtW6bRo0fL6XRq0aJFev3119WvXz9J0pIlSxQZGam1a9cqMTFReXl5ysrK0ubNmxUXFydJWrhwoeLj47Vnzx5FR0fX2l95ebnKy8vN7ZKSknqZNwAA8Dx1Wmnav3+/yyrNWeXl5fruu+8uuamzbr75Zn3wwQf66quvJEmffvqpNm7cqNtvv12StG/fPhUWFiohIcE8xtfXV71791Z2drYkKScnR5WVlS41ERERiomJMWs2bdoku91uBiZJ6tGjh+x2u1lTmxkzZpgv59ntdkVGRtbb3AEAgGe5qJWmt956y/z6/fffl91uN7erqqr0wQcfqE2bNvXW3GOPPSan06kbbrhBXl5eqqqq0rRp03TPPfdIkgoLCyVJ4eHhLseFh4fr22+/NWuaNm2qli1b1qg5e3xhYaHCwsJqPH9YWJhZU5uJEydq3Lhx5nZJSQnBCQCAK9RFhaY77rhDkmSz2TRs2DCXfT4+PmrTpo1eeOGFemvuX//6l5YsWaJly5bpxhtvVG5urjIyMhQREeHy/DabzeU4wzBqjJ3r3Jra6n/qPL6+vvL19bU6HQAA0IhdVGg6e9da27ZttW3bNoWGhjZIU2c98sgjevzxx3X33XdLkjp27Khvv/1WM2bM0LBhw+RwOCT9sFLUunVr87iioiJz9cnhcKiiokLFxcUuq01FRUXq2bOnWXP48OEaz3/kyJEaq1gAAODqVKdrmvbt29fggUmSTp06pSZNXFv08vJyCW8Oh0Nr1qwx91dUVGjDhg1mIIqNjZWPj49LTUFBgXbt2mXWxMfHy+l0auvWrWbNli1b5HQ6zRoAAHB1q9Pdc5L0wQcf6IMPPlBRUZHL+yZJ0quvvnrJjUnSoEGDNG3aNEVFRenGG2/Uzp07NWvWLI0YMULSDy+pZWRkaPr06WrXrp3atWun6dOnKyAgQCkpKZIku92ukSNHavz48QoJCVFwcLAmTJigjh07mnfTtW/fXgMGDFBaWpoWLFggSRo1apSSkpLOe+ccAAC4utQpNE2dOlXPPPOMunfvrtatW//k9UN1NXfuXD311FMaM2aMioqKFBERodGjR+vpp582ax599FGVlZVpzJgxKi4uVlxcnFavXq3AwECzZvbs2fL29taQIUNUVlamvn37KjMzU15eXmbN0qVLlZ6ebt5ll5ycrHnz5jXIvAAAQONjMwzDuNiDWrdurZkzZ/Lmj+coKSmR3W6X0+lUUFBQvZ13x44dio2NVf9Jryk4ipWvxui7vJ3aOOcBLRnVRffG/8zd7aAOdux3KnbqRuXk5Khbt27ubgdAPbL697tO1zRVVFRwrQ8AALiq1Ck03X///Vq2bFl99wIAAOCx6nRN0+nTp/XKK69o7dq16tSpk3x8fFz2z5o1q16aAwAA8BR1Ck2fffaZunTpIknatWuXy76GuigcAADAneoUmtatW1fffQAAAHi0Ol3TBAAAcLWp00rTrbfeesGX4T788MM6NwQAAOCJ6hSazl7PdFZlZaVyc3O1a9euGh/kCwAAcCWoU2iaPXt2reNTpkxRaWnpJTUEAADgier1mqahQ4fW2+fOAQAAeJJ6DU2bNm2Sn59ffZ4SAADAI9Tp5bnBgwe7bBuGoYKCAm3fvl1PPfVUvTQGAADgSeoUmux2u8t2kyZNFB0drWeeeUYJCQn10hgAAIAnqVNoeu211+q7DwAAAI9Wp9B0Vk5OjvLy8mSz2dShQwd17dq1vvoCAADwKHUKTUVFRbr77ru1fv16tWjRQoZhyOl06tZbb9Xy5cvVqlWr+u4TAADArep099zYsWNVUlKiL774QseOHVNxcbF27dqlkpISpaen13ePAAAAblenlaasrCytXbtW7du3N8c6dOigl156iQvBAQDAFalOK03V1dXy8fGpMe7j46Pq6upLbgoAAMDT1Ck0/frXv9ZDDz2kQ4cOmWPfffedHn74YfXt27femgMAAPAUdQpN8+bN04kTJ9SmTRv9/Oc/1/XXX6+2bdvqxIkTmjt3bn33CAAA4HZ1uqYpMjJSO3bs0Jo1a/Tll1/KMAx16NBB/fr1q+/+AAAAPMJFrTR9+OGH6tChg0pKSiRJ/fv319ixY5Wenq6bbrpJN954oz7++OMGaRQAAMCdLio0zZkzR2lpaQoKCqqxz263a/To0Zo1a1a9NQcAAOApLio0ffrppxowYMB59yckJCgnJ+eSmwIAAPA0FxWaDh8+XOtbDZzl7e2tI0eOXHJTAAAAnuaiQtPPfvYzff755+fd/9lnn6l169aX3BQAAICnuajQdPvtt+vpp5/W6dOna+wrKyvT5MmTlZSUVG/NAQAAeIqLesuBJ598Um+++aZ+8Ytf6MEHH1R0dLRsNpvy8vL00ksvqaqqSpMmTWqoXgEAANzmokJTeHi4srOz9X//93+aOHGiDMOQJNlsNiUmJupvf/ubwsPDG6RRAAAAd7roN7e89tprtWrVKhUXF+vrr7+WYRhq166dWrZs2RD9AQAAeIQ6vSO4JLVs2VI33XRTffYCAADgseocmgDgapSXl+fuFlBHoaGhioqKcncbaMQITQBgQYHztCSbhg4d6u5WUEf+/gH68ss8ghPqjNAEABYcP3VGkqEuKY+pVdsb3N0OLlJJwX5teXWqjh49SmhCnRGaAOAiNA+LUnBUtLvbAOAGF/XmlgAAAFcrQhMAAIAFhCYAAAALPD40fffddxo6dKhCQkIUEBCgLl26KCcnx9xvGIamTJmiiIgI+fv7q0+fPvriiy9czlFeXq6xY8cqNDRUzZo1U3Jysg4ePOhSU1xcrNTUVNntdtntdqWmpur48eOXY4oAAKAR8OjQVFxcrF69esnHx0fvvfeedu/erRdeeEEtWrQwa2bOnKlZs2Zp3rx52rZtmxwOh/r3768TJ06YNRkZGVqxYoWWL1+ujRs3qrS0VElJSaqqqjJrUlJSlJubq6ysLGVlZSk3N1epqamXc7oAAMCDefTdc88++6wiIyP12muvmWNt2rQxvzYMQ3PmzNGkSZM0ePBgSdLixYsVHh6uZcuWafTo0XI6nVq0aJFef/119evXT5K0ZMkSRUZGau3atUpMTFReXp6ysrK0efNmxcXFSZIWLlyo+Ph47dmzR9HR3CkDAMDVzqNXmt566y11795dv//97xUWFqauXbtq4cKF5v59+/apsLBQCQkJ5pivr6969+6t7OxsSVJOTo4qKytdaiIiIhQTE2PWbNq0SXa73QxMktSjRw/Z7Xazpjbl5eUqKSlxeQAAgCuTR4emb775RvPnz1e7du30/vvv649//KPS09P1j3/8Q5JUWFgoSQoPD3c5Ljw83NxXWFiopk2b1vhA4XNrwsLCajx/WFiYWVObGTNmmNdA2e12RUZG1n2yAADAo3l0aKqurla3bt00ffp0de3aVaNHj1ZaWprmz5/vUmez2Vy2DcOoMXauc2tqq/+p80ycOFFOp9N8HDhwwMq0AABAI+TRoal169bq0KGDy1j79u2Vn58vSXI4HJJUYzWoqKjIXH1yOByqqKhQcXHxBWsOHz5c4/mPHDlSYxXrx3x9fRUUFOTyAAAAVyaPDk29evXSnj17XMa++uorXXvttZKktm3byuFwaM2aNeb+iooKbdiwQT179pQkxcbGysfHx6WmoKBAu3btMmvi4+PldDq1detWs2bLli1yOp1mDQAAuLp59N1zDz/8sHr27Knp06dryJAh2rp1q1555RW98sorkn54SS0jI0PTp09Xu3bt1K5dO02fPl0BAQFKSUmRJNntdo0cOVLjx49XSEiIgoODNWHCBHXs2NG8m659+/YaMGCA0tLStGDBAknSqFGjlJSUxJ1zAABAkoeHpptuukkrVqzQxIkT9cwzz6ht27aaM2eO7r33XrPm0UcfVVlZmcaMGaPi4mLFxcVp9erVCgwMNGtmz54tb29vDRkyRGVlZerbt68yMzPl5eVl1ixdulTp6enmXXbJycmaN2/e5ZssAADwaB4dmiQpKSlJSUlJ591vs9k0ZcoUTZky5bw1fn5+mjt3rubOnXvemuDgYC1ZsuRSWgUAAFcwj76mCQAAwFMQmgAAACwgNAEAAFhAaAIAALCA0AQAAGABoQkAAMACQhMAAIAFhCYAAAALCE0AAAAWEJoAAAAsIDQBAABYQGgCAACwgNAEAABgAaEJAADAAkITAACABYQmAAAACwhNAAAAFhCaAAAALCA0AQAAWEBoAgAAsIDQBAAAYAGhCQAAwAJCEwAAgAWEJgAAAAsITQAAABYQmgAAACwgNAEAAFhAaAIAALCA0AQAAGABoQkAAMACQhMAAIAFhCYAAAALCE0AAAAWEJoAAAAsIDQBAABYQGgCAACwgNAEAABgAaEJAADAAkITAACABY0qNM2YMUM2m00ZGRnmmGEYmjJliiIiIuTv768+ffroiy++cDmuvLxcY8eOVWhoqJo1a6bk5GQdPHjQpaa4uFipqamy2+2y2+1KTU3V8ePHL8OsAABAY9BoQtO2bdv0yiuvqFOnTi7jM2fO1KxZszRv3jxt27ZNDodD/fv314kTJ8yajIwMrVixQsuXL9fGjRtVWlqqpKQkVVVVmTUpKSnKzc1VVlaWsrKylJubq9TU1Ms2PwAA4NkaRWgqLS3Vvffeq4ULF6ply5bmuGEYmjNnjiZNmqTBgwcrJiZGixcv1qlTp7Rs2TJJktPp1KJFi/TCCy+oX79+6tq1q5YsWaLPP/9ca9eulSTl5eUpKytLf//73xUfH6/4+HgtXLhQ77zzjvbs2eOWOQMAAM/SKELTAw88oIEDB6pfv34u4/v27VNhYaESEhLMMV9fX/Xu3VvZ2dmSpJycHFVWVrrUREREKCYmxqzZtGmT7Ha74uLizJoePXrIbrebNbUpLy9XSUmJywMAAFyZvN3dwE9Zvny5duzYoW3bttXYV1hYKEkKDw93GQ8PD9e3335r1jRt2tRlhepszdnjCwsLFRYWVuP8YWFhZk1tZsyYoalTp17chAAAQKPk0StNBw4c0EMPPaQlS5bIz8/vvHU2m81l2zCMGmPnOremtvqfOs/EiRPldDrNx4EDBy74nAAAoPHy6NCUk5OjoqIixcbGytvbW97e3tqwYYNefPFFeXt7mytM564GFRUVmfscDocqKipUXFx8wZrDhw/XeP4jR47UWMX6MV9fXwUFBbk8AADAlcmjQ1Pfvn31+eefKzc313x0795d9957r3Jzc3XdddfJ4XBozZo15jEVFRXasGGDevbsKUmKjY2Vj4+PS01BQYF27dpl1sTHx8vpdGrr1q1mzZYtW+R0Os0aAABwdfPoa5oCAwMVExPjMtasWTOFhISY4xkZGZo+fbratWundu3aafr06QoICFBKSookyW63a+TIkRo/frxCQkIUHBysCRMmqGPHjuaF5e3bt9eAAQOUlpamBQsWSJJGjRqlpKQkRUdHX8YZAwAAT+XRocmKRx99VGVlZRozZoyKi4sVFxen1atXKzAw0KyZPXu2vL29NWTIEJWVlalv377KzMyUl5eXWbN06VKlp6ebd9klJydr3rx5l30+AADAMzW60LR+/XqXbZvNpilTpmjKlCnnPcbPz09z587V3Llzz1sTHBysJUuW1FOXAADgSuPR1zQBAAB4CkITAACABYQmAAAACwhNAAAAFhCaAAAALCA0AQAAWEBoAgAAsIDQBAAAYAGhCQAAwAJCEwAAgAWEJgAAAAsITQAAABYQmgAAACwgNAEAAFhAaAIAALCA0AQAAGABoQkAAMACQhMAAIAFhCYAAAALCE0AAAAWEJoAAAAsIDQBAABYQGgCAACwgNAEAABgAaEJAADAAkITAACABYQmAAAACwhNAAAAFhCaAAAALCA0AQAAWEBoAgAAsIDQBAAAYAGhCQAAwAJCEwAAgAWEJgAAAAsITQAAABYQmgAAACwgNAEAAFhAaAIAALCA0AQAAGCBR4emGTNm6KabblJgYKDCwsJ0xx13aM+ePS41hmFoypQpioiIkL+/v/r06aMvvvjCpaa8vFxjx45VaGiomjVrpuTkZB08eNClpri4WKmpqbLb7bLb7UpNTdXx48cbeooAAKCR8OjQtGHDBj3wwAPavHmz1qxZozNnzighIUEnT540a2bOnKlZs2Zp3rx52rZtmxwOh/r3768TJ06YNRkZGVqxYoWWL1+ujRs3qrS0VElJSaqqqjJrUlJSlJubq6ysLGVlZSk3N1epqamXdb4AAMBzebu7gQvJyspy2X7ttdcUFhamnJwc/epXv5JhGJozZ44mTZqkwYMHS5IWL16s8PBwLVu2TKNHj5bT6dSiRYv0+uuvq1+/fpKkJUuWKDIyUmvXrlViYqLy8vKUlZWlzZs3Ky4uTpK0cOFCxcfHa8+ePYqOjq61v/LycpWXl5vbJSUlDfFtAAAAHsCjV5rO5XQ6JUnBwcGSpH379qmwsFAJCQlmja+vr3r37q3s7GxJUk5OjiorK11qIiIiFBMTY9Zs2rRJdrvdDEyS1KNHD9ntdrOmNjNmzDBfzrPb7YqMjKy/yQIAAI/SaEKTYRgaN26cbr75ZsXExEiSCgsLJUnh4eEuteHh4ea+wsJCNW3aVC1btrxgTVhYWI3nDAsLM2tqM3HiRDmdTvNx4MCBuk8QAAB4NI9+ee7HHnzwQX322WfauHFjjX02m81l2zCMGmPnOremtvqfOo+vr698fX1/qnUAAHAFaBQrTWPHjtVbb72ldevW6ZprrjHHHQ6HJNVYDSoqKjJXnxwOhyoqKlRcXHzBmsOHD9d43iNHjtRYxQIAAFcnjw5NhmHowQcf1JtvvqkPP/xQbdu2ddnftm1bORwOrVmzxhyrqKjQhg0b1LNnT0lSbGysfHx8XGoKCgq0a9cusyY+Pl5Op1Nbt241a7Zs2SKn02nWAACAq5tHvzz3wAMPaNmyZfrPf/6jwMBAc0XJbrfL399fNptNGRkZmj59utq1a6d27dpp+vTpCggIUEpKilk7cuRIjR8/XiEhIQoODtaECRPUsWNH82669u3ba8CAAUpLS9OCBQskSaNGjVJSUtJ575wDAABXF48OTfPnz5ck9enTx2X8tdde0/DhwyVJjz76qMrKyjRmzBgVFxcrLi5Oq1evVmBgoFk/e/ZseXt7a8iQISorK1Pfvn2VmZkpLy8vs2bp0qVKT08377JLTk7WvHnzGnaCAACg0fDo0GQYxk/W2Gw2TZkyRVOmTDlvjZ+fn+bOnau5c+eetyY4OFhLliypS5sAAOAq4NHXNAEAAHgKQhMAAIAFhCYAAAALCE0AAAAWEJoAAAAsIDQBAABYQGgCAACwgNAEAABgAaEJAADAAkITAACABYQmAAAACwhNAAAAFhCaAAAALCA0AQAAWODt7gYAALhc8vLy3N0CLkFoaKiioqLc9vyEJgDAFa+yvEKSNHToUDd3gksR4O+nvC/3uC04EZoAAFe8M2fOSJL+NPgXur1jmJu7QV3kFZRq6Cu5Onr0KKEJAICG1jY0QN3a2N3dBhopLgQHAACwgNAEAABgAaEJAADAAkITAACABYQmAAAACwhNAAAAFhCaAAAALCA0AQAAWEBoAgAAsIDQBAAAYAGhCQAAwAJCEwAAgAWEJgAAAAsITQAAABYQmgAAACwgNAEAAFhAaAIAALCA0AQAAGABoQkAAMACQhMAAIAFhCYAAAALCE3n+Nvf/qa2bdvKz89PsbGx+vjjj93dEgAA8ACEph/517/+pYyMDE2aNEk7d+7ULbfcottuu035+fnubg0AALgZoelHZs2apZEjR+r+++9X+/btNWfOHEVGRmr+/Pnubg0AALiZt7sb8BQVFRXKycnR448/7jKekJCg7OzsWo8pLy9XeXm5ue10OiVJJSUl9dpbaWmpJOnYt3t0prysXs+Ny8P53X8lSXkFJ/TRnu/d3A3qIq/ghKQffpY+3jY3d4OLxe9g47en8KSkH/4m1vff2bPnMwzjwoUGDMMwjO+++86QZHzyyScu49OmTTN+8Ytf1HrM5MmTDUk8ePDgwYMHjyvgceDAgQtmBVaazmGzuf4fpGEYNcbOmjhxosaNG2duV1dX69ixYwoJCTnvMbg6lZSUKDIyUgcOHFBQUJC72wGuOvwO4kIMw9CJEycUERFxwTpC0/+EhobKy8tLhYWFLuNFRUUKDw+v9RhfX1/5+vq6jLVo0aKhWsQVICgoiH+wATfidxDnY7fbf7KGC8H/p2nTpoqNjdWaNWtcxtesWaOePXu6qSsAAOApWGn6kXHjxik1NVXdu3dXfHy8XnnlFeXn5+uPf/yju1sDAABuRmj6kbvuukvff/+9nnnmGRUUFCgmJkarVq3Stdde6+7W0Mj5+vpq8uTJNV7OBXB58DuI+mAzjJ+6vw4AAABc0wQAAGABoQkAAMACQhMAAIAFhCYAAAALCE1AA9u/f79sNluNR1ZWlkvdhg0bFBsbKz8/P1133XV6+eWXXfZPmTJFXbp0cRn7+OOP1aJFC40dO/anPzMJuEq0adOmxu/buZ8rmp+fr0GDBqlZs2YKDQ1Venq6KioqzP3r16+XzWbT8ePHzbFDhw4pJiZGN998s8s4rh685QBgUXFxsXx8fNS8efM6Hb927VrdeOON5nZwcLD59b59+3T77bcrLS1NS5Ys0SeffKIxY8aoVatWuvPOO2s937vvvqvf//73euSRRzR16tQ69QQ0FocOHVJYWJi8va392XrmmWeUlpZmbv/497aqqkoDBw5Uq1attHHjRn3//fcaNmyYDMPQ3Llzaz3f3r171b9/f91www164403FBAQcGkTQqPEShNwAWfOnNG7776rIUOGqHXr1tq7d2+dzxUSEiKHw2E+mjZtau57+eWXFRUVpTlz5qh9+/a6//77NWLECD3//PO1nmvZsmUaPHiw/vKXvxCYcFVYuHChrrnmGo0fP16ff/75T9YHBga6/L79ODStXr1au3fv1pIlS9S1a1f169dPL7zwghYuXGh+2v2PffbZZ7r55psVFxen//znPwSmqxihCajF559/rgkTJuiaa67RH/7wB4WEhGjdunXq3LmzJOnGG29U8+bNz/v48YrSWcnJyQoLC1OvXr30xhtvuOzbtGmTEhISXMYSExO1fft2VVZWuoy/9NJLuu+++7Ro0SKlp6fX88wBz/TYY4/pxRdf1J49e9StWzd169ZNf/3rX3XkyJFa65999lmFhISoS5cumjZtmstLb5s2bVJMTIzLh7MmJiaqvLxcOTk5LufJzs5W7969NXjwYC1dulQ+Pj4NM0E0Crw8B/zP999/r6VLlyozM1NffPGFbrvtNv3tb39TUlKSy6qQJK1atapGmPmxH//D2rx5c82aNUu9evVSkyZN9NZbb+muu+7S4sWLNXToUElSYWFhjQ+GDg8P15kzZ3T06FG1bt1akpSXl6cHH3xQixYtMo8FrgZ+fn4aMmSIhgwZoqKiIi1btkyLFy/WI488ottvv13Dhg3ToEGD5O3trYceekjdunVTy5YttXXrVk2cOFH79u3T3//+d0m1/761bNlSTZs2rfGh7b/97W9111136aWXXrpsc4XnIjQB/zN37lxNnTpVt9xyi77++mtFRkaet/ZiPlonNDRUDz/8sLndvXt3FRcXa+bMmS7Bx2azuRx39sLuH49fc801atGihWbOnKnbbrvNDFPA1SQsLEwZGRnKyMjQe++9p+HDh+s///mPdu7cqS5durj8vnXq1EktW7bU7373O3P1Sar5+yb98Dt37vhvfvMbrVixQh9//LFuueWWhp0YPB4vzwH/M2rUKP35z39WYWGhOnTooOHDh+uDDz5QdXV1jdq6vDz3Yz169NB///tfc9vhcNT4P9yioiJ5e3ub/8hLP1ynsXbtWgUGBqpPnz46dOjQJc4aaHxOnDih1157Tb/+9a81aNAgxcTEaPHixerQoUOt9T169JAkff3115Jq/30rLi5WZWVljRWoBQsW6J577tFtt92mDRs2NMBs0Jiw0gT8T0REhCZNmqRJkyYpOztbixcv1p133qnAwEDde++9Sk1NNcPQxbw8V5udO3e6rBLFx8fr7bffdqlZvXq1unfvXuNcLVu21Nq1a5WYmKg+ffpo3bp1+tnPfnax0wUalaqqKq1evVqvv/66Vq5caV5vmJmZqaioqAseu3PnTkkyf+fi4+M1bdo0FRQUmGOrV6+Wr6+vYmNjXY612WxasGCBvLy8dPvtt+vdd99Vnz596n+CaBwMAOdVVlZm/POf/zQGDBhgeHl5GZ999tlFnyMzM9NYunSpsXv3buPLL780nnvuOcPHx8eYNWuWWfPNN98YAQEBxsMPP2zs3r3bWLRokeHj42O88cYbZs3kyZONzp07m9tOp9OIj483rr/+euPAgQOXNE/A0z3zzDOG3W430tLSjE8++eS8ddnZ2casWbOMnTt3Gt98843xr3/9y4iIiDCSk5PNmjNnzhgxMTFG3759jR07dhhr1641rrnmGuPBBx80a9atW2dIMoqLiw3DMIzq6mrjgQceMAICAowPPvigweYJz0ZoAiz67rvvDKfTedHHZWZmGu3btzcCAgKMwMBAIzY21nj99ddr1K1fv97o2rWr0bRpU6NNmzbG/PnzXfafG5oMwzBKSkqMXr16GT//+c+N/Pz8i+4NaCz27dtnlJWV/WRdTk6OERcXZ9jtdsPPz8+Ijo42Jk+ebJw8edKl7ttvvzUGDhxo+Pv7G8HBwcaDDz5onD592tx/bmg6Kz093fD39zfWrFlTL/NC42IzDN5GGAAA4KdwITgAAIAFhCYAAAALCE0AAAAWEJoAAAAsIDQBAABYQGgCAACwgNAEAABgAaEJAADAAkITAACABYQmAFedoqIijR49WlFRUfL19ZXD4VBiYqI2bdrk7tYAeDBvdzcAAJfbnXfeqcrKSi1evFjXXXedDh8+rA8++EDHjh1zd2sAPBgrTQCuKsePH9fGjRv17LPP6tZbb9W1116rX/7yl5o4caIGDhyo/fv3y2azKTc31+UYm82m9evXS5LWr18vm82m999/X127dpW/v79+/etfq6ioSO+9957at2+voKAg3XPPPTp16pR7Jgqg3hGaAFxVmjdvrubNm2vlypUqLy+/pHNNmTJF8+bNU3Z2tg4cOKAhQ4Zozpw5WrZsmd59912tWbNGc+fOrafOAbgboQnAVcXb21uZmZlavHixWrRooV69eumJJ57QZ599dtHn+vOf/6xevXqpa9euGjlypDZs2KD58+era9euuuWWW/S73/1O69ata4BZAHAHQhOAq86dd96pQ4cO6a233lJiYqLWr1+vbt26KTMz86LO06lTJ/Pr8PBwBQQE6LrrrnMZKyoqqq+2AbgZoQnAVcnPz0/9+/fX008/rezsbA0fPlyTJ09WkyY//LNoGIZZW1lZWes5fHx8zK9tNpvL9tmx6urqBugegDsQmgBAUocOHXTy5Em1atVKklRQUGDu+/FF4QCuXrzlAICryvfff6/f//73GjFihDp16qTAwEBt375dM2fO1G9+8xv5+/urR48e+stf/qI2bdro6NGjevLJJ93dNgAPQGgCcFVp3ry54uLiNHv2bO3du1eVlZWKjIxUWlqannjiCUnSq6++qhEjRqh79+6Kjo7WzJkzlZCQ4ObOAbibzfjxC/cAAACoFdc0AQAAWEBoAgAAsIDQBAAAYAGhCQAAwAJCEwAAgAWEJgAAAAsITQAAABYQmgAAACwgNAEAAFhAaAIAALCA0AQAAGDB/wdEU++ZrtqmRAAAAABJRU5ErkJggg==\n",
      "text/plain": [
       "<Figure size 640x480 with 1 Axes>"
      ]
     },
     "metadata": {},
     "output_type": "display_data"
    }
   ],
   "source": [
    "# will use histograms for all categorical features bar countries \n",
    "first_dim = 'Sum' \n",
    "second_dim = 'Sex'\n",
    "\n",
    "sns.histplot(binwidth = 1, x = first_dim, hue = second_dim, data = dfdropd, stat = 'count', multiple = 'dodge' )\n",
    "# males tend to earn more than 50k however the data is skewed towards males "
   ]
  },
  {
   "cell_type": "code",
   "execution_count": 21,
   "id": "0dd546ed-84de-4b40-b90d-a700a6dd61a7",
   "metadata": {},
   "outputs": [
    {
     "data": {
      "text/plain": [
       "<AxesSubplot:xlabel='Sum', ylabel='Count'>"
      ]
     },
     "execution_count": 21,
     "metadata": {},
     "output_type": "execute_result"
    },
    {
     "data": {
      "image/png": "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\n",
      "text/plain": [
       "<Figure size 640x480 with 1 Axes>"
      ]
     },
     "metadata": {},
     "output_type": "display_data"
    }
   ],
   "source": [
    "first_dim = 'Sum' \n",
    "second_dim = 'Race'\n",
    "\n",
    "sns.histplot(binwidth = 1, x = first_dim, hue = second_dim, data = dfdropd, stat = 'count', multiple = 'dodge' )\n",
    "# again, data is heavily skewed towards White so hard to tell"
   ]
  },
  {
   "cell_type": "code",
   "execution_count": 24,
   "id": "0d56df22-73f6-477a-a945-2b5e4483875a",
   "metadata": {},
   "outputs": [
    {
     "data": {
      "text/plain": [
       "<AxesSubplot:xlabel='Sum', ylabel='Count'>"
      ]
     },
     "execution_count": 24,
     "metadata": {},
     "output_type": "execute_result"
    },
    {
     "data": {
      "image/png": "iVBORw0KGgoAAAANSUhEUgAAAkQAAAGwCAYAAABIC3rIAAAAOXRFWHRTb2Z0d2FyZQBNYXRwbG90bGliIHZlcnNpb24zLjUuMiwgaHR0cHM6Ly9tYXRwbG90bGliLm9yZy8qNh9FAAAACXBIWXMAAA9hAAAPYQGoP6dpAABd3klEQVR4nO3df1xO9/8/8Meln1e/LqrVVZSiJIrIlhjVSFjMbMuGxpgfCy2/Z20Ttoy90dT8NjUx23vGe/OeiKmxRLLefqUZkR8l2dWVlEqd7x++zselskp1Xbke99vtuq3rnOc553mulR6d8zrnSARBEEBERESkxVqpuwEiIiIidWMgIiIiIq3HQERERERaj4GIiIiItB4DEREREWk9BiIiIiLSegxEREREpPV01d1AS1FVVYUbN27A1NQUEolE3e0QERFRHQiCgDt37sDW1hatWtV+HIiBqI5u3LgBOzs7dbdBREREDXD16lW0a9eu1vkMRHVkamoK4MEHamZmpuZuiIiIqC6KiopgZ2cn/h6vDQNRHT08TWZmZsZARERE1ML803AXDqomIiIircdARERERFqPgYiIiIi0HscQERGRRqisrERFRYW626AWRk9PDzo6Ok+9HgYiIiJSK0EQkJeXh8LCQnW3Qi1U69atIZfLn+o+gQxERESkVg/DkJWVFYyMjHjzW6ozQRBQUlKC/Px8AICNjU2D16XWQOTg4IArV65Umx4SEoKvvvoKgiBg0aJF2LBhAxQKBby8vPDVV1+ha9euYm1ZWRnmzJmDb7/9FqWlpRgwYADWrFmjcvMlhUKB0NBQ/PTTTwCA4cOHIzo6Gq1bt27yfSQiotpVVlaKYcjCwkLd7VALJJVKAQD5+fmwsrJq8OkztQ6qTktLQ25urvhKTEwEALzxxhsAgOXLl2PlypWIiYlBWloa5HI5/P39cefOHXEdYWFh2LVrF3bs2IEjR46guLgYgYGBqKysFGtGjx6NjIwMJCQkICEhARkZGQgODm7enSUiomoejhkyMjJScyfUkj38/nmqMWiCBnn//feFjh07ClVVVUJVVZUgl8uFzz//XJx/7949QSaTCevWrRMEQRAKCwsFPT09YceOHWLN9evXhVatWgkJCQmCIAjCuXPnBABCamqqWHP06FEBgHD+/Plae7l3756gVCrF19WrVwUAglKpbOzdJiLSWqWlpcK5c+eE0tJSdbdCLdiTvo+USmWdfn9rzGX35eXliI+Px4QJEyCRSJCdnY28vDwMGjRIrDEwMICPjw9SUlIAAOnp6aioqFCpsbW1hZubm1hz9OhRyGQyeHl5iTW9e/eGTCYTa2qydOlSyGQy8cXnmBERET27NCYQ7d69G4WFhRg/fjyAB4PsAMDa2lqlztraWpyXl5cHfX19tGnT5ok1VlZW1bZnZWUl1tRkwYIFUCqV4uvq1asN3jciIiLSbBoTiDZv3owhQ4bA1tZWZfrjVxsIgvCPVyA8XlNT/T+tx8DAQHxuGZ9fRkREtbl8+TIkEgkyMjI0Yj314eDggKioKI3qSV00IhBduXIFBw4cwLvvvitOk8vlAFDtKE5+fr541Egul6O8vBwKheKJNTdv3qy2zVu3blU7+kRERNpn/PjxkEgkkEgk0NXVhb29Pd57771qv1sae5sjRoxQmWZnZ4fc3Fy4ubk12XbrSxN7aioaEYi2bNkCKysrvPzyy+I0R0dHyOVy8coz4ME4o+TkZPTp0wcA4OnpCT09PZWa3NxcnDlzRqzx9vaGUqnE8ePHxZpjx45BqVSKNUREpN0GDx6M3NxcXL58GZs2bcLPP/+MkJCQZu1BR0cHcrkcurqac4tATeypqah9D6uqqrBlyxaMGzdO5QOXSCQICwtDZGQknJ2d4ezsjMjISBgZGWH06NEAAJlMhokTJ2L27NmwsLCAubk55syZA3d3dwwcOBAA4OrqisGDB2PSpElYv349AGDy5MkIDAyEi4tL8+9wDXJyclBQUKDuNqqxtLSEvb29utsgImpyBgYG4pmJdu3aYdSoUYiNjRXnb9myBcuXL0d2djYcHBwQGhpaa2CqrKzE5MmT8euvvyIvLw/29vYICQnB+++/DwCIiIhAXFwcgP8b0nHo0CE4ODjA0dERf/zxBzw8PAAAycnJmDt3Lv73v//B3Nwc48aNw6effir+vvT19UW3bt1gaGiITZs2QV9fH1OnTkVERITYT0REBL7++mvcvHkTFhYWeP3117F69WpxfklJCSZMmIB///vfaNOmDT766CNMnjwZwINTZo/2lJSUBD8/P+zZswcffvghsrKy0L17d2zatAnu7u5P/z9CnZrk+rd62LdvnwBAyMrKqjavqqpKWLhwoSCXywUDAwOhf//+wunTp1VqSktLhenTpwvm5uaCVCoVAgMDhZycHJWa27dvC2PGjBFMTU0FU1NTYcyYMYJCoahXn3W9bK++rly5IkilRgIAjXtJpUbClStXGnV/iYgepQmX3Y8bN0545ZVXxPcXL14UunTpIlhbWwuCIAgbNmwQbGxshJ07dwqXLl0Sdu7cKZibmwuxsbGCIAhCdna2AED4448/BEEQhPLycuGTTz4Rjh8/Lly6dEmIj48XjIyMhO+++04QBEG4c+eOEBQUJAwePFjIzc0VcnNzhbKysmrruXbtmmBkZCSEhIQImZmZwq5duwRLS0th4cKFYq8+Pj6CmZmZEBERIfz5559CXFycIJFIhP379wuCIAj//ve/BTMzM+GXX34Rrly5Ihw7dkzYsGGDuHz79u0Fc3Nz4auvvhIuXLggLF26VGjVqpWQmZlZ474dOnRIACC4uroK+/fvF06dOiUEBgYKDg4OQnl5eWP/r6mzxrjsXu1HiAYNGgRBEGqcJ5FIEBERoZJ0H2doaIjo6GhER0fXWmNubo74+PinbbVJFBQUoLS0BF4TFsLMxkHd7YiKci/j2NeLUFBQwKNERPTM27NnD0xMTFBZWYl79+4BAFauXAkAWLJkCVasWIGRI0cCeDCk49y5c1i/fj3GjRtXbV16enpYtGiR+N7R0REpKSn4/vvvERQUBBMTE0ilUpSVlYlHpWqyZs0a2NnZISYmBhKJBJ07d8aNGzcwf/58fPLJJ2jV6sGol27dumHhwoUAAGdnZ8TExODgwYPw9/dHTk4O5HI5Bg4cCD09Pdjb2+OFF15Q2c7QoUPFo13z58/HqlWrkJSUhM6dO9fa28KFC+Hv7w8AiIuLQ7t27bBr1y4EBQU9+YPWYGoPRPSAmY0DzO014xQeEZG28fPzw9q1a1FSUoJNmzbhzz//xIwZM3Dr1i1cvXoVEydOxKRJk8T6+/fvQyaT1bq+devWYdOmTbhy5QpKS0tRXl4ungarq8zMTHh7e6tcEd23b18UFxfj2rVr4h+r3bp1U1nOxsZGfLbXG2+8gaioKHTo0AGDBw/G0KFDMWzYMJUhKo8uL5FIIJfLxeVr4+3tLX5tbm4OFxcXZGZm1mv/NI1GDKomIiJSJ2NjYzg5OaFbt25YvXo1ysrKsGjRIlRVVQEANm7ciIyMDPF15swZpKam1riu77//HjNnzsSECROwf/9+ZGRk4J133kF5eXm9ehJquD3MwzMqj07X09NTqZFIJGLfdnZ2yMrKwldffQWpVIqQkBD0799f5REXT1q+Plr6Q3l5hIieSNMSPwd6E1FzWLhwIYYMGYL33nsPbdu2xaVLlzBmzJg6LXv48GH06dNHZdD1xYsXVWr09fVVnrlZky5dumDnzp0qwSglJQWmpqZo27ZtnfdFKpVi+PDhGD58OKZNm4bOnTvj9OnT6NmzZ53X8bjU1FTx32KFQoE///zziafYWgIGIqpRRdmDv2TGjh2r5k5UGUkNkXk+i6GIiJqUr68vunbtisjISERERCA0NBRmZmYYMmQIysrKcOLECSgUCsyaNavask5OTvjmm2+wb98+ODo6YuvWrUhLS4Ojo6NY4+DggH379iErKwsWFhY1nn4LCQlBVFQUZsyYgenTpyMrKwsLFy7ErFmzxPFD/yQ2NhaVlZXw8vKCkZERtm7dCqlUivbt2zf8wwGwePFiWFhYwNraGuHh4bC0tKx2X6WWhoGIanT//n0AwJKRnTDUvfqjT9QhM7cYYzdkcKA3ETWLWbNm4Z133sFff/2FTZs24YsvvsC8efNgbGwMd3d3hIWF1bjc1KlTkZGRgVGjRkEikeCtt95CSEgI9u7dK9ZMmjQJSUlJ6NWrF4qLi8XL7h/Vtm1b/PLLL5g7dy66d+8Oc3NzTJw4ER999FGd96F169b4/PPPMWvWLFRWVsLd3R0///wzLCwsGvKRiD7//HO8//77uHDhArp3746ffvoJ+vr6T7VOdZMItV3iRSqKioogk8mgVCob9TEeJ0+ehKenJ/zDt2jUoOrrmX/gSNQ0xE/2wBjvuh+abUonLyvhuegI0tPTn+pQLxFpjnv37iE7OxuOjo4wNDRUdzv0Dx7eh0ihUKB169bqbkf0pO+juv7+5qBqIiIi0noMRERERKT1OIaIiIiI6sTX17fWmym3dDxCRERERFqPgYiIiIi0HgMRERERaT0GIiIiItJ6DERERESk9XiVGRERaZycnBwUFBQ02/ZawnMSIyIisHv3bmRkZDzVevLy8hAcHIyUlBTo6emhsLCwUfqriYODA8LCwsS7ekskEuzatUsjH/PBQERERBolJycHnTu7orS0pNm2KZUa4fz5zHqFovHjxyMuLg5Lly7FBx98IE7fvXs3Xn311Tpfnv54aKjNnDlzMGPGjDr3V5tVq1YhNzcXGRkZNT5DrTGlpaXB2Ni4SbfRWBiIiIhIoxQUFKC0tAReExbCzMahybdXlHsZx75e1KDnJBoaGmLZsmWYMmUK2rRp00QdPmBiYgITE5OnXs/Fixfh6ekJZ2fnRujqyZ577rkm30Zj4RgiIiLSSGY2DjC3d2ny19OEroEDB0Iul2Pp0qW11uzcuRNdu3aFgYEBHBwcsGLFCnGer68vrly5gpkzZ0IikUAikdS6noiICHh4eIjvx48fjxEjRuBf//oXbGxsYGFhgWnTpqGioqLWdTg4OGDnzp345ptvIJFIMH78eADAypUr4e7uDmNjY9jZ2SEkJATFxcXicrGxsWjdujX27NkDFxcXGBkZ4fXXX8fdu3cRFxcHBwcHtGnTBjNmzEBlZaXK9qKiomrs5aWXXsL06dNVpt2+fRsGBgb49ddfa92HpsJARERE1EA6OjqIjIxEdHQ0rl27Vm1+eno6goKC8Oabb+L06dOIiIjAxx9/jNjYWADAjz/+iHbt2mHx4sXIzc1Fbm5uvbZ/6NAhXLx4EYcOHUJcXBxiY2PFddckLS0NgwcPRlBQEHJzc/Hll18CAFq1aoXVq1fjzJkziIuLw6+//op58+apLFtSUoLVq1djx44dSEhIQFJSEkaOHIlffvkFv/zyC7Zu3YoNGzbghx9+qFPv7777LrZv346ysjJx2rZt22Braws/P796fQ6NgYGIiIjoKbz66qvw8PDAwoULq81buXIlBgwYgI8//hidOnXC+PHjMX36dHzxxRcAAHNzc+jo6MDU1BRyuRxyubxe227Tpg1iYmLQuXNnBAYG4uWXX8bBgwdrrX/uuedgYGAAqVQKuVwujiEKCwuDn58fHB0d8dJLL2HJkiX4/vvvVZatqKjA2rVr0aNHD/Tv3x+vv/46jhw5gs2bN6NLly4IDAyEn58fDh06VKfeX3vtNUgkEvznP/8Rp23ZsgXjx49/4pGypsJARERE9JSWLVuGuLg4nDt3TmV6ZmYm+vbtqzKtb9++uHDhgsqppcc9HC9kYmKCqVOn1lrXtWtX6OjoiO9tbGyQn58PAIiMjFRZT05OTq3rOXToEPz9/dG2bVuYmpri7bffxu3bt3H37l2xxsjICB07dhTfW1tbw8HBQWVck7W1tbj9f2JgYICxY8fi66+/BgBkZGTgf//7n3gar7lxUDUREdFT6t+/PwICAvDhhx+q/EIXBKHa0Y66XH326KX1ZmZmtdbp6empvJdIJKiqqgIATJ06FUFBQeI8W1vbGtdx5coVDB06FFOnTsWSJUtgbm6OI0eOYOLEiSrjkWra1pO2XxfvvvsuPDw8cO3aNXz99dcYMGAA2rdvX+flGxMDERERUSP4/PPP4eHhgU6dOonTunTpgiNHjqjUpaSkoFOnTuKRHX19/WpHi5ycnJ66H3Nzc5ibm/9j3YkTJ3D//n2sWLECrVo9OHH0+OmypuLu7o5evXph48aN2L59O6Kjo5tluzXhKTMiIqJG4O7ujjFjxqj8Up89ezYOHjyIJUuW4M8//0RcXBxiYmIwZ84cscbBwQG//fYbrl+/3qw3o3yoY8eOuH//PqKjo3Hp0iVs3boV69ata7btv/vuu/j8889RWVmJV199tdm2+zgeISIiIo1UlHu5xW3n8cHIPXv2xPfff49PPvkES5YsgY2NDRYvXqxyWm3x4sWYMmUKOnbsiLKysjrf0LGxeHh4YOXKlVi2bBkWLFiA/v37Y+nSpXj77bebZftvvfUWwsLCMHr0aBgaGjbLNmsiEZr7k2+hioqKIJPJoFQqn3g+t75OnjwJT09P+Idvgbm9S6Ot92ldz/wDR6KmIX6yB8Z4t1V3OwCAk5eV8Fx0BOnp6ejZs6e62yGiRnDv3j1kZ2fD0dFR/GXYUu5UTY3j6tWrcHBwQFpaWoP/ba/p++ihuv7+5hEiIiLSKPb29jh/PpPPMnvGVVRUIDc3Fx988AF69+6t9j90GYiIiEjj2NvbM6A8437//Xf4+fmhU6dOdb6ZY1NiICIiIqJm5+vr2+zjpZ6EV5kRERGR1mMgIiIiIq3HQERERERaj4GIiIiItB4DEREREWk9BiIiIiLSerzsnoiINE5OTg5vzAggIiICu3fvRkZGRrNvOykpCX5+flAoFGjdunWzb7+5MRAREZFGycnJgWtnF5SU3mu2bRpJDZF5PqteoWj8+PEoLCzE7t27VaZrW5B4VjAQERGRRikoKEBJ6T3ET/aAq41Jk28vM7cYYzdkoKCgQCOPElHz4BgiIiLSSK42JujpIGvyV1OGroiICHh4eKhMi4qKgoODg/g+KSkJL7zwAoyNjdG6dWv07dsXV65cUVlm/fr1sLOzg5GREd544w0UFhaK89LS0uDv7w9LS0vIZDL4+Pjg5MmTKstLJBJs2rQJr776KoyMjODs7IyffvpJpeaXX35Bp06dIJVK4efnh8uXLzfGR9BiMBARERGpyf379zFixAj4+Pjg1KlTOHr0KCZPngyJRCLW/PXXX/j+++/x888/IyEhARkZGZg2bZo4/86dOxg3bhwOHz6M1NRUODs7Y+jQobhz547KthYtWoSgoCCcOnUKQ4cOxZgxY/D3338DePDE+ZEjR2Lo0KHIyMjAu+++iw8++KB5PgQNofZAdP36dYwdOxYWFhYwMjKCh4cH0tPTxfmCICAiIgK2traQSqXw9fXF2bNnVdZRVlaGGTNmwNLSEsbGxhg+fDiuXbumUqNQKBAcHAyZTAaZTIbg4GCVhE1ERFRfe/bsgYmJicpryJAhdV6+qKgISqUSgYGB6NixI1xdXTFu3DiVU3f37t1DXFwcPDw80L9/f0RHR2PHjh3Iy8sDALz00ksYO3YsXF1d4erqivXr16OkpATJyckq2xo/fjzeeustODk5ITIyEnfv3sXx48cBAGvXrkWHDh2watUquLi4YMyYMRg/fvzTf0AtiFoDkUKhQN++faGnp4e9e/fi3LlzWLFihcogtOXLl2PlypWIiYlBWloa5HI5/P39VZJvWFgYdu3ahR07duDIkSMoLi5GYGAgKisrxZrRo0cjIyMDCQkJYsIODg5uzt0lIqJnjJ+fHzIyMlRemzZtqvPy5ubmGD9+PAICAjBs2DB8+eWXyM3NVamxt7dHu3btxPfe3t6oqqpCVlYWACA/Px9Tp05Fp06dxD/6i4uLkZOTo7Kebt26iV8bGxvD1NQU+fn5AIDMzEz07t1b5ciUt7d33T+IZ4BaB1UvW7YMdnZ22LJlizjt0fOqgiAgKioK4eHhGDlyJAAgLi4O1tbW2L59O6ZMmQKlUonNmzdj69atGDhwIAAgPj4ednZ2OHDgAAICApCZmYmEhASkpqbCy8sLALBx40Z4e3sjKysLLi4u1XorKytDWVmZ+L6oqKgpPgIiImrBjI2N4eTkpDLt0TMUrVq1qvZE94qKCpX3W7ZsQWhoKBISEvDdd9/ho48+QmJiInr37l3jNh+Glof/HT9+PG7duoWoqCi0b98eBgYG8Pb2Rnl5ucpyenp61dZTVVUFABr11Hl1UesRop9++gm9evXCG2+8ASsrK/To0QMbN24U52dnZyMvLw+DBg0SpxkYGMDHxwcpKSkAgPT0dFRUVKjU2Nraws3NTaw5evQoZDKZGIYAoHfv3pDJZGLN45YuXSombZlMBjs7u0bddyIievY999xzyMvLUwkcNd1TqEePHliwYAFSUlLg5uaG7du3i/NycnJw48YN8f3Ro0fRqlUrdOrUCQBw+PBhhIaGYujQoejatSsMDAzqfQ+nLl26IDU1VWXa4++fdWoNRJcuXcLatWvh7OyMffv2YerUqQgNDcU333wDAOL5UWtra5XlrK2txXl5eXnQ19dHmzZtnlhjZWVVbftWVlZizeMWLFgApVIpvq5evfp0O0tERFrH19cXt27dwvLly3Hx4kV89dVX2Lt3rzg/OzsbCxYswNGjR3HlyhXs378ff/75J1xdXcUaQ0NDjBs3Dv/73//E8BMUFAS5XA4AcHJywtatW5GZmYljx45hzJgxkEql9epz6tSpuHjxImbNmoWsrCxs374dsbGxjfIZtBRqPWVWVVWFXr16ITIyEsCDhHz27FmsXbsWb7/9tlj36DlN4MGhvcenPe7xmprqn7QeAwMDGBgY1HlfiIiocWXmFrf47bi6umLNmjWIjIzEkiVL8Nprr2HOnDnYsGEDAMDIyAjnz59HXFwcbt++DRsbG0yfPh1TpkwR1+Hk5CReAfb3339j6NChWLNmjTj/66+/xuTJk9GjRw/Y29sjMjISc+bMqVef9vb22LlzJ2bOnIk1a9bghRdeQGRkJCZMmNA4H0QLoNZAZGNjgy5duqhMc3V1xc6dOwFATL95eXmwsbERa/Lz88WjRnK5HOXl5VAoFCpHifLz89GnTx+x5ubNm9W2f+vWrWpHn4iISL0sLS1hJDXE2A0ZzbZNI6khLC0t67VMbUdQfH19VU6RTZ06FVOnTlWp+fDDDwE8OJuxa9euWrcRERGBiIgIAMB7771XY02PHj2QlpamMu31119XeV/TGKHHr7QODAxEYGCgyrR33nmn1t6eNWoNRH379hVHyT/0559/on379gAAR0dHyOVyJCYmokePHgCA8vJyJCcnY9myZQAAT09P6OnpITExEUFBQQCA3NxcnDlzBsuXLwfwYKS8UqnE8ePH8cILLwAAjh07BqVSKYYmIiLSDPb29sg8n8VnmVGzUmsgmjlzJvr06YPIyEgEBQXh+PHj2LBhg3goUSKRICwsDJGRkXB2doazszMiIyNhZGSE0aNHAwBkMhkmTpyI2bNnw8LCAubm5pgzZw7c3d3Fq85cXV0xePBgTJo0CevXrwcATJ48GYGBgTVeYUZEROplb2/PgELNSq2B6Pnnn8euXbuwYMECLF68GI6OjoiKisKYMWPEmnnz5qG0tBQhISFQKBTw8vLC/v37YWpqKtasWrUKurq6CAoKQmlpKQYMGIDY2Fjo6OiINdu2bUNoaKh4Ndrw4cMRExPTfDtLREREGkvtD3et6ZzloyQSico51JoYGhoiOjoa0dHRtdaYm5sjPj7+aVolIiKiZ5TaH91BREREpG4MRERERKT1GIiIiIhI6zEQERERkdZjICIiIiKtp/arzIiIiB6Xk5PzzN2YMSkpCX5+flAoFGjdujUAYPfu3ZgzZw6ys7MxY8YMREVFNWkPVDsGIiIi0ig5OTno7NoZpSWlzbZNqZEU5zPP1zkUrVu3DnPnzoVCoYCu7oNfpcXFxWjTpg169+6Nw4cPi7WHDx9G//79kZWVhdzcXMhkMnHelClT8M477yA0NFTl/nrU/BiIiIhIoxQUFKC0pBT95/WHzE72zws8JeVVJX5b/hsKCgrqHIj8/PxQXFyMEydOoHfv3gAeBB+5XI60tDSUlJTAyMgIwIMjQ7a2tujUqZPKOoqLi5Gfn4+AgADY2to27k5RvTEQERFpqOY+bVRXzfXcL5mdDJbO9XvganNxcXGBra0tkpKSxECUlJSEV155BYcOHUJKSor4+KiHp8oePWWWkZEBPz8/AMBLL70EADh06BB8fX2RkpKCDz74AGlpabC0tMSrr76KpUuXwtjYWD07qyUYiIiINFBOTg5cO7ugpPSeulupxkhqiMzzWVr/rDFfX18cOnQIH3zwAYAHgWbevHmoqqrCoUOHMHDgQJSXl+Po0aPVnqTQp08fZGVlwcXFBTt37kSfPn1gbm6O06dPIyAgAEuWLMHmzZtx69YtTJ8+HdOnT8eWLVvUsZtag4GIiEgDFRQUoKT0HuIne8DVxkTd7Ygyc4sxdkNGvU4vPat8fX0xc+ZM3L9/H6Wlpfjjjz/Qv39/VFZWYvXq1QCA1NRUlJaWws/PDzk5OeKy+vr6sLKyAvDg0VJyuRwA8MUXX2D06NEICwsDADg7O2P16tXw8fHB2rVrYWho2Lw7qUUYiIiINJirjQl6OjT9OBqqPz8/P9y9exdpaWlQKBTo1KkTrKys4OPjg+DgYNy9exdJSUmwt7dHhw4dVAJRbdLT0/HXX39h27Zt4jRBEFBVVYXs7Gy4uro25S5pNQYiIiKiBnByckK7du1w6NAhKBQK+Pj4AADkcjkcHR3x+++/49ChQ+IYobqoqqrClClTEBoaWm2eth+Ra2oMRERERA30cLC0QqHA3Llzxek+Pj7Yt28fUlNT8c4779R5fT179sTZs2fh5OTUFO3SEzAQERGRRlJeVWr8dvz8/DBt2jRUVFSIR4iAB4Hovffew71798Sryepi/vz56N27N6ZNm4ZJkybB2NgYmZmZSExMrDYwmxoXAxEREWkUS0tLSI2k+G35b822TamRFJaW9b/E38/PD6WlpejcuTOsra3F6T4+Prhz5w46duwIOzu7Oq+vW7duSE5ORnh4OPr16wdBENCxY0eMGjWq3r1R/TAQERGRRrG3t8f5zPMt4tEdDg4OEASh2vR27dpVm+7r66syrXXr1jUu+/zzz2P//v317oWeDgMRERFpHHt7ew4ipmbFp90TERGR1mMgIiIiIq3HQERERERaj4GIiIiItB4DEREREWk9BiIiIiLSegxEREREpPUYiIiIiEjr8caMRESkcXJyclrEnapbgqSkJPj5+UGhUKB169Y11kRERGD37t3IyMgAAIwfPx6FhYXYvXt3rev19fWFh4cHoqKiGr1ndWAgIiIijZKTkwPXzp1RUlrabNs0kkqRef58vUPR1atXERERgb1796KgoAA2NjYYMWIEPvnkE1hYWDRRt41vzpw5mDFjhrrbUCsGIiIi0igFBQUoKS1FVN8X4SSTNfn2/lIqEfb7ERQUFNQrEF26dAne3t7o1KkTvv32Wzg6OuLs2bOYO3cu9u7di9TUVJibmzdh543HxMQEJiYm6m5DrTiGiIiINJKTTAY3C4smfzU0dE2bNg36+vrYv38/fHx8YG9vjyFDhuDAgQO4fv06wsPDER0dDXd3d3GZ3bt3QyKR4KuvvhKnBQQEYMGCBQAenLry8PDA1q1b4eDgAJlMhjfffBN37tx5Yi9lZWWYN28e7OzsYGBgAGdnZ2zevFmlJj09Hb169YKRkRH69OmDrKwscd7D7dbm7t27ePvtt2FiYgIbGxusWLGiPh9Vi8BAREREVE9///039u3bh5CQEEilUpV5crkcY8aMwXfffQdfX1+cPXtWHA+VnJwMS0tLJCcnAwDu37+PlJQU+Pj4iMtfvHgRu3fvxp49e7Bnzx4kJyfj888/f2I/b7/9Nnbs2IHVq1cjMzMT69atq3bEJzw8HCtWrMCJEyegq6uLCRMm1Hl/586di0OHDmHXrl3Yv38/kpKSkJ6eXuflWwKeMiMiIqqnCxcuQBAEuLq61jjf1dUVCoUCVlZWsLCwQHJyMl577TUkJSVh9uzZWLVqFQAgLS0N9+7dw4svviguW1VVhdjYWJiamgIAgoODcfDgQXz22Wc1buvPP//E999/j8TERAwcOBAA0KFDh2p1n332mRi8PvjgA7z88su4d+8eDA0Nn7ivxcXF2Lx5M7755hv4+/sDAOLi4tCuXbsnLtfS8AgRERFRIxMEAQDQqlUr9O/fH0lJSSgsLMTZs2cxdepUVFZWIjMzE0lJSejZs6fK0RwHBwcxDAGAjY0N8vPzAQDbtm0Tx/uYmJjg8OHDyMjIgI6OjspRppp069ZNZZ0AxPU+ycWLF1FeXg5vb29xmrm5OVxcXOrwSbQcDERERET15OTkBIlEgnPnztU4//z582jTpg0sLS3h6+uLpKQkHD58GN27d0fr1q3Rv39/JCcnIykpCb6+virL6unpqbyXSCSoqqoCAAwfPhwZGRniq1evXtVO2dXm0fVKJBIAENf7JA/D3bOOgYiIiKieLCws4O/vjzVr1qD0sdsD5OXlYdu2bRg1ahQkEok4juiHH34Qw4+Pjw8OHDhQbfzQPzE1NYWTk5P4kkqlcHd3R1VVlTguqbE5OTlBT08Pqamp4jSFQoE///yzSbanLhxDREREGukvpVKjtxMTE4M+ffogICAAn376qcpl923bthXH/Li5ucHCwgLbtm3Df/7zHwAPbmo4e/ZsAFAZP9QQDg4OGDduHCZMmIDVq1eje/fuuHLlCvLz8xEUFPRU6wYeXJI/ceJEzJ07FxYWFrC2tkZ4eDhatXq2jqkwEBERkUaxtLSEkVSKsN+PNNs2jaRSWFpa1msZZ2dnnDhxAhERERg1ahRu374NuVyOESNGYOHCheI9iCQSCXx8fLB7927069cPwIPxPDKZDB06dICZmdlT97927Vp8+OGHCAkJwe3bt2Fvb48PP/zwqdf70BdffIHi4mIMHz4cpqammD17NpTNFFibi0TQlpODT6moqAgymQxKpbJRvnkfOnnyJDw9PeEfvgXm9pozQO165h84EjUN8ZM9MMa7rbrbAQCcvKyE56IjSE9PR8+ePdXdDlGTevhvQ/rCF9HToelvTlhXjf1zeO/ePWRnZ8PR0VHlaic+uoPqo7bvI6Duv795hIiIiDSOvb09Awo1q2frBCARERFRA6g1EEVEREAikai85HK5OF8QBERERMDW1hZSqVQcqf+osrIyzJgxA5aWljA2Nsbw4cNx7do1lRqFQoHg4GDIZDLIZDIEBwejsLCwOXaRiIiIWgC1HyHq2rUrcnNzxdfp06fFecuXL8fKlSsRExODtLQ0yOVy+Pv7qzzTJSwsDLt27cKOHTtw5MgRFBcXIzAwEJWVlWLN6NGjkZGRgYSEBCQkJCAjIwPBwcHNup9ERESkudQ+hkhXV1flqNBDgiAgKioK4eHhGDlyJIAHtwq3trbG9u3bMWXKFCiVSmzevBlbt24Vb1ceHx8POzs7HDhwAAEBAcjMzERCQgJSU1Ph5eUFANi4cSO8vb2RlZVV6502y8rKUFZWJr4vKipq7F0nIiIiDaH2I0QXLlyAra0tHB0d8eabb+LSpUsAgOzsbOTl5WHQoEFirYGBAXx8fJCSkgLgwZN7KyoqVGpsbW3h5uYm1hw9ehQymUwMQwDQu3dvyGQysaYmS5cuFU+xyWQy2NnZNep+ExERkeZQayDy8vLCN998g3379mHjxo3Iy8tDnz59cPv2beTl5QEArK2tVZaxtrYW5+Xl5UFfXx9t2rR5Yo2VlVW1bVtZWYk1NVmwYAGUSqX4unr16lPtKxEREWkutZ4yGzJkiPi1u7s7vL290bFjR8TFxaF3794A/u95Kw8JglBt2uMer6mp/p/WY2BgAAMDgzrtBxEREbVsaj9l9ihjY2O4u7vjwoUL4riix4/i5Ofni0eN5HI5ysvLoVAonlhz8+bNatu6detWtaNPREREpJ3UPqj6UWVlZcjMzES/fv3g6OgIuVyOxMRE9OjRAwBQXl6O5ORkLFu2DADg6ekJPT09JCYmis9ryc3NxZkzZ7B8+XIAgLe3N5RKJY4fP44XXngBAHDs2DEolUr06dNHDXtJRET/hHeqbl6xsbEICwt76lvSSCQS7Nq1CyNGjGiUvpqTWgPRnDlzMGzYMNjb2yM/Px+ffvopioqKMG7cOEgkEoSFhSEyMhLOzs5wdnZGZGQkjIyMMHr0aACATCbDxIkTMXv2bFhYWMDc3Bxz5syBu7u7eNWZq6srBg8ejEmTJmH9+vUAgMmTJyMwMLDWK8yIiEh9cnJy4NrZFSWlJc22TSOpETLPZ9YrFPn6+sLDwwNRUVEq03fv3o1XX30VLenJWKNGjcLQoUPV3YZaqTUQXbt2DW+99RYKCgrw3HPPoXfv3khNTUX79u0BAPPmzUNpaSlCQkKgUCjg5eWF/fv3w9TUVFzHqlWroKuri6CgIJSWlmLAgAGIjY2Fjo6OWLNt2zaEhoaKV6MNHz4cMTExzbuzRERUJwUFBSgpLUHY6CVoZ+3Y5Nu7djMbUds/RkFBwTN9lKi8vBz6+vrVpldUVEAqlUIqlaqhK82h1kC0Y8eOJ86XSCSIiIhARERErTWGhoaIjo5GdHR0rTXm5uaIj49vaJtERKQG7awd0bGdq7rbeCoRERHYvXs3Zs+ejY8//hgKhQJDhgzBxo0bxT/ufX194e7uDh0dHcTFxUFfXx9LlizBmDFjMH36dPzwww+wsrJCTEyMeDFSZWUlJk+ejF9//RV5eXmwt7dHSEgI3n//fXHb48ePR2FhIby8vBAdHQ19fX0kJSXB0dER3333HdasWYPU1FSsXbtWPCvz6Cmzn3/+GRERETh79ixsbW0xbtw4hIeHQ1f3QXS4cOECJk6ciOPHj6NDhw748ssvm++DbQIaNaiaiIjoWXPx4kXs3r0be/bswZ49e5CcnIzPP/9cpSYuLg6WlpY4fvw4ZsyYgffeew9vvPEG+vTpg5MnTyIgIADBwcEoKXlwGrGqqgrt2rXD999/j3PnzuGTTz7Bhx9+iO+//15lvQcPHkRmZiYSExOxZ88ecfr8+fMRGhqKzMxMBAQEVOt53759GDt2LEJDQ3Hu3DmsX78esbGx+Oyzz8Ttjxw5Ejo6OkhNTcW6deswf/78xv7omhUDERERUROqqqpCbGws3Nzc0K9fPwQHB+PgwYMqNd27d8dHH30EZ2dnLFiwAFKpFJaWlpg0aRKcnZ3xySef4Pbt2zh16hQAQE9PD4sWLcLzzz8PR0dHjBkzBuPHj68WiIyNjbFp0yZ07doVbm5u4vSwsDCMHDkSjo6OsLW1rdbzZ599hg8++ADjxo1Dhw4d4O/vjyVLlohjcQ8cOIDMzExs3boVHh4e6N+/PyIjIxv7o2tWGnWVGRER0bPGwcFBZeyrjY0N8vPzVWq6desmfq2jowMLCwu4u7uL0x7eJubR5datW4dNmzbhypUrKC0tRXl5OTw8PFTW6+7uXuO4oV69ej2x5/T0dKSlpYlHhIAHp+nu3buHkpISZGY+GIDerl07cb63t/cT16npGIiIiIgawMzMDEqlstr0wsJCmJmZie/19PRU5kskElRVValMq6nm0WkPbyT8cLnvv/8eM2fOxIoVK+Dt7Q1TU1N88cUXOHbsmMp6jI2Na+y9tukPVVVVYdGiReKzRB9laGhY4xV0/3TTZE3HQERERNQAnTt3xt69e6tNT0tLa/Lbuhw+fBh9+vRBSEiIOO3ixYuNtv6ePXsiKysLTk5ONc7v0qULcnJycOPGDfGU29GjRxtt++rAQERERBrp2s1sjd5OSEgIYmJiMG3aNEyePBlSqRSJiYnYvHkztm7d2shdqnJychKfBero6IitW7ciLS0Njo6Nc5uCTz75BIGBgbCzs8Mbb7yBVq1a4dSpUzh9+jQ+/fRTDBw4EC4uLnj77bexYsUKFBUVITw8vFG2rS4MREREpFEsLS1hJDVC1PaPm22bRlIjWFpa1msZBwcHHD58GOHh4Rg0aBDu3buHTp06ITY2Fm+88UYTdfrA1KlTkZGRgVGjRkEikeCtt95CSEhIjUesGiIgIAB79uzB4sWLsXz5cujp6aFz58549913AQCtWrXCrl27MHHiRLzwwgtwcHDA6tWrMXjw4EbZvjpIhJZ0K001Kioqgkwmg1KpVDk3/LROnjwJT09P+Idvgbm95tw5+3rmHzgSNQ3xkz0wxrututsBAJy8rITnoiNIT09Hz5491d0OUZN6+G9D+sIX0dNBpu52RI39c3jv3j1kZ2fD0dERhoaG4nQ+uoPqo7bvI6Duv795hIiIiDSOvb09Awo1K96HiIiIiLQeAxERERFpPQYiIiIi0noMRERERKT1GIiIiIhI6zEQERERkdZjICIiIiKtx0BEREREWo83ZiQiIo3zrN+pOjY2FmFhYSgsLGy2bdZXY/XYEvYVYCAiIiINk5OTg86dO6O0tLTZtimVSnH+/Pl6h6KrV68iIiICe/fuRUFBAWxsbDBixAh88sknsLCwAPDgmWdhYWEICwtrgs41S037OmrUKAwdOlR9TdURAxEREWmUgoIClJaWYvrIYWhradHk27tecBsxP/6MgoKCegWiS5cuwdvbG506dcK3334LR0dHnD17FnPnzsXevXuRmpoKc3PzJuy8uoqKCujp6T2xprKyEhKJBK1aNc+oGalUCqlU2izbehocQ0RERBqpraUFOtjKm/zV0NA1bdo06OvrY//+/fDx8YG9vT2GDBmCAwcO4Pr16wgPD4evry+uXLmCmTNnQiKRQCKRqKxj3759cHV1hYmJCQYPHozc3FyV+Vu2bIGrqysMDQ3RuXNnrFmzRpx3+fJlSCQSfP/99/D19YWhoSHi4+Or9RkbG4vWrVtjz5496NKlCwwMDHDlyhWUl5dj3rx5aNu2LYyNjeHl5YWkpKRa9/fixYt45ZVXYG1tDRMTEzz//PM4cOCAOL+2fX24fQDIysqCRCLB+fPnVda9cuVKODg44OHz5s+dO4ehQ4fCxMQE1tbWCA4ObvJTqAxERERE9fT3339j3759CAkJqXb0Qy6XY8yYMfjuu++wc+dOtGvXDosXL0Zubq5K4CkpKcG//vUvbN26Fb/99htycnIwZ84ccf7GjRsRHh6Ozz77DJmZmYiMjMTHH3+MuLg4le3Nnz8foaGhyMzMREBAQI39lpSUYOnSpdi0aRPOnj0LKysrvPPOO/j999+xY8cOnDp1Cm+88QYGDx6MCxcu1LiO4uJiDB06FAcOHMAff/yBgIAADBs2DDk5OQCAH3/8sdZ9fcjFxQWenp7Ytm2byvTt27dj9OjRkEgkyM3NhY+PDzw8PHDixAkkJCTg5s2bCAoKesL/kafHU2ZEjaC5B4DWVXMPFCXSFhcuXIAgCHB1da1xvqurKxQKBSorK6GjowNTU1PI5XKVmoqKCqxbtw4dO3YEAEyfPh2LFy8W5y9ZsgQrVqzAyJEjAQCOjo44d+4c1q9fj3Hjxol1YWFhYk1tKioqsGbNGnTv3h3Ag6M93377La5duwZbW1sAwJw5c5CQkIAtW7YgMjKy2jq6d+8uLg8An376KXbt2oWffvoJ06dPh7m5ea37+qgxY8YgJiYGS5YsAQD8+eefSE9PxzfffAMAWLt2LXr27KnSw9dffw07Ozv8+eef6NSp0xP3taEYiIieUk5ODlw7d0ZJMw4ArSsjqRSZDRgoSkRP5+Gpn8dPkT3KyMhIDEMAYGNjg/z8fADArVu3cPXqVUycOBGTJk0Sa+7fvw+ZTKaynl69eolfd+3aFVeuXAEA9OvXD3v37gUA6Ovro1u3bmLdyZMnIQhCtXBRVlYmDgZ/3N27d7Fo0SLs2bMHN27cwP3791FaWioeIaqrN998E3PnzkVqaip69+6Nbdu2wcPDA126dAEApKen49ChQzAxMam27MWLFxmIiDRVQUEBSkpLEdX3RTg99g+VOv2lVCLs9yP1HihKRP/MyckJEokE586dw4gRI6rNP3/+PNq0aQNLS8ta1/H44GeJRCIGqaqqKgAPTpt5eXmp1Ono6Ki8NzY2Fr/+5ZdfUFFRAQAqp/KkUqlKOKuqqoKOjg7S09Orra+mIAIAc+fOxb59+/Cvf/0LTk5OkEqleP3111FeXl7rPtbExsYGfn5+2L59O3r37o1vv/0WU6ZMUelt2LBhWLZsWY3LNhUGIqJG4iSTwa2Wv6yI6NliYWEBf39/rFmzBjNnzlQJH3l5edi2bRvefvttSCQS6Ovro7Kysl7rt7a2Rtu2bXHp0iWMGTOmzsu1b9++TnU9evRAZWUl8vPz0a9fvzotc/jwYYwfPx6vvvoqgAdjii5fvqxSU9d9HTNmDObPn4+33noLFy9exJtvvinO69mzJ3bu3AkHBwfo6jZfTGEgIiIijXS94LZGbycmJgZ9+vRBQEAAPv30U5XL7tu2bYvPPvsMwIN78/z222948803YWBg8MSjRo+KiIhAaGgozMzMMGTIEJSVleHEiRNQKBSYNWtWg3p+qFOnThgzZgzefvttrFixAj169EBBQQF+/fVXuLu713jfICcnJ/z4448YNmwYJBIJPv74Y/FI1kN13deRI0fivffew3vvvQc/Pz+0bdtWnDdt2jRs3LgRb731FubOnQtLS0v89ddf2LFjBzZu3FjtiFZjYSAiIiKNYmlpCalUipgff262bUql0joHlYecnZ1x4sQJREREYNSoUbh9+zbkcjlGjBiBhQsXivcgWrx4MaZMmYKOHTuirKxMPC32T959910YGRnhiy++wLx582BsbAx3d/dGu8Hjli1b8Omnn2L27Nm4fv06LCws4O3tXetNFFetWoUJEyagT58+sLS0xPz581FUVKRSU9d9NTMzw7Bhw/Dvf/8bX3/9tco8W1tb/P7775g/fz4CAgJQVlaG9u3bY/DgwU167ySJUNf/M1quqKgIMpkMSqUSZmZmjbbekydPwtPTE/7hW2Bu79Jo631a1zP/wJGoaYif7IEx3m3/eYFmcPKyEp6LjiA9PR09e/ZUdzuih/8P9wx9WaNOmZ25fRuBv/xX4z4vqpuH31fpC19ETwfNGZvW2D+H9+7dQ3Z2NhwdHWFoaChOf9Yf3UGNq7bvI6Duv795hIiIiDSOvb09Awo1K96YkYiIiLQeAxERERFpPQYiIiIi0noMREREpHa8voeeRmN8/zAQERGR2jy8W3NJSYmaO6GW7OH3z+N3/64PXmVGRERqo6Ojg9atW4vP8DIyMnri87+IHiUIAkpKSpCfn4/WrVs/1U0bGYiIiEitHj4Z/WEoIqqv1q1bi99HDcVAREREaiWRSGBjYwMrKyvxwaREdaWnp9coj/NgICIiIo2go6PTZM+pIvonHFRNREREWk9jAtHSpUshkUhUHlonCAIiIiJga2sLqVQKX19fnD17VmW5srIyzJgxA5aWljA2Nsbw4cNx7do1lRqFQoHg4GDIZDLIZDIEBwejsLCwGfaKiIiIWgKNCERpaWnYsGEDunXrpjJ9+fLlWLlyJWJiYpCWlga5XA5/f3/cuXNHrAkLC8OuXbuwY8cOHDlyBMXFxQgMDERlZaVYM3r0aGRkZCAhIQEJCQnIyMhAcHBws+0fERERaTa1B6Li4mKMGTMGGzduRJs2bcTpgiAgKioK4eHhGDlyJNzc3BAXF4eSkhJs374dAKBUKrF582asWLECAwcORI8ePRAfH4/Tp0/jwIEDAIDMzEwkJCRg06ZN8Pb2hre3NzZu3Ig9e/YgKyur1r7KyspQVFSk8iIiIqJnk9oD0bRp0/Dyyy9j4MCBKtOzs7ORl5eHQYMGidMMDAzg4+ODlJQUAEB6ejoqKipUamxtbeHm5ibWHD16FDKZDF5eXmJN7969IZPJxJqaLF26VDzFJpPJYGdn1yj7S0RERJpHrYFox44dOHnyJJYuXVptXl5eHgDA2tpaZbq1tbU4Ly8vD/r6+ipHlmqqsbKyqrZ+KysrsaYmCxYsgFKpFF9Xr16t384RERFRi9GgQNShQwfcvn272vTCwkJ06NChTuu4evUq3n//fcTHx8PQ0LDWusfvWCoIwj/exfTxmprq/2k9BgYGMDMzU3kRERHRs6lBgejy5csqg5YfKisrw/Xr1+u0jvT0dOTn58PT0xO6urrQ1dVFcnIyVq9eDV1dXfHI0ONHcfLz88V5crkc5eXlUCgUT6y5efNmte3funWr2tEnIiIi0k71ujHjTz/9JH69b98+yGQy8X1lZSUOHjwIBweHOq1rwIABOH36tMq0d955B507d8b8+fPRoUMHyOVyJCYmokePHgCA8vJyJCcnY9myZQAAT09P6OnpITExEUFBQQCA3NxcnDlzBsuXLwcAeHt7Q6lU4vjx43jhhRcAAMeOHYNSqUSfPn3qs/tERET0jKpXIBoxYgSAB6egxo0bpzJPT08PDg4OWLFiRZ3WZWpqCjc3N5VpxsbGsLCwEKeHhYUhMjISzs7OcHZ2RmRkJIyMjDB69GgAgEwmw8SJEzF79mxYWFjA3Nwcc+bMgbu7uzhI29XVFYMHD8akSZOwfv16AMDkyZMRGBgIFxeX+uw+ERERPaPqFYiqqqoAAI6OjkhLS4OlpWWTNPXQvHnzUFpaipCQECgUCnh5eWH//v0wNTUVa1atWgVdXV0EBQWhtLQUAwYMQGxsrMrt37dt24bQ0FDxarThw4cjJiamSXsnIiKilqNBzzLLzs5u7D4AAElJSSrvJRIJIiIiEBERUesyhoaGiI6ORnR0dK015ubmiI+Pb6QuiYiI6FnT4Ie7Hjx4EAcPHkR+fr545Oihr7/++qkbIyIiImouDQpEixYtwuLFi9GrVy/Y2Nj842XwRERERJqsQYFo3bp1iI2N5fPAiIiI6JnQoPsQlZeX85J1IiIiemY0KBC9++674gNWiYiIiFq6Bp0yu3fvHjZs2IADBw6gW7du0NPTU5m/cuXKRmmOiIiIqDk0KBCdOnUKHh4eAIAzZ86ozOMAayIiImppGhSIDh061Nh9EBEREalNg8YQERERET1LGnSEyM/P74mnxn799dcGN0RERETU3BoUiB6OH3qooqICGRkZOHPmTLWHvhIRERFpugYFolWrVtU4PSIiAsXFxU/VEBEREVFza9QxRGPHjuVzzIiIiKjFadRAdPToURgaGjbmKomIiIiaXINOmY0cOVLlvSAIyM3NxYkTJ/Dxxx83SmNEREREzaVBgUgmk6m8b9WqFVxcXLB48WIMGjSoURojIiIiai4NCkRbtmxp7D6IiIiI1KZBgeih9PR0ZGZmQiKRoEuXLujRo0dj9UVERETUbBoUiPLz8/Hmm28iKSkJrVu3hiAIUCqV8PPzw44dO/Dcc881dp9ERERETaZBV5nNmDEDRUVFOHv2LP7++28oFAqcOXMGRUVFCA0NbeweiYiIiJpUg44QJSQk4MCBA3B1dRWndenSBV999RUHVRMREVGL06AjRFVVVdDT06s2XU9PD1VVVU/dFBEREVFzalAgeumll/D+++/jxo0b4rTr169j5syZGDBgQKM1R0RERNQcGhSIYmJicOfOHTg4OKBjx45wcnKCo6Mj7ty5g+jo6MbukYiIiKhJNWgMkZ2dHU6ePInExEScP38egiCgS5cuGDhwYGP3R0RERNTk6nWE6Ndff0WXLl1QVFQEAPD398eMGTMQGhqK559/Hl27dsXhw4ebpFEiIiKiplKvQBQVFYVJkybBzMys2jyZTIYpU6Zg5cqVjdYcERERUXOoVyD63//+h8GDB9c6f9CgQUhPT3/qpoiIiIiaU70C0c2bN2u83P4hXV1d3Lp166mbIiIiImpO9QpEbdu2xenTp2udf+rUKdjY2Dx1U0RERETNqV6BaOjQofjkk09w7969avNKS0uxcOFCBAYGNlpzRERERM2hXpfdf/TRR/jxxx/RqVMnTJ8+HS4uLpBIJMjMzMRXX32FyspKhIeHN1WvRERERE2iXoHI2toaKSkpeO+997BgwQIIggAAkEgkCAgIwJo1a2Btbd0kjRIRERE1lXrfmLF9+/b45ZdfoFAo8Ndff0EQBDg7O6NNmzZN0R8RERFRk2vQnaoBoE2bNnj++ecbsxciIiIitWjQs8yIiIiIniUMRERERKT1GIiIiIhI6zEQERERkdZjICIiIiKtp9ZAtHbtWnTr1g1mZmYwMzODt7c39u7dK84XBAERERGwtbWFVCqFr68vzp49q7KOsrIyzJgxA5aWljA2Nsbw4cNx7do1lRqFQoHg4GDIZDLIZDIEBwejsLCwOXaRiIiIWgC1BqJ27drh888/x4kTJ3DixAm89NJLeOWVV8TQs3z5cqxcuRIxMTFIS0uDXC6Hv78/7ty5I64jLCwMu3btwo4dO3DkyBEUFxcjMDAQlZWVYs3o0aORkZGBhIQEJCQkICMjA8HBwc2+v0RERKSZGnwfosYwbNgwlfefffYZ1q5di9TUVHTp0gVRUVEIDw/HyJEjAQBxcXGwtrbG9u3bMWXKFCiVSmzevBlbt27FwIEDAQDx8fGws7PDgQMHEBAQgMzMTCQkJCA1NRVeXl4AgI0bN8Lb2xtZWVlwcXGpsbeysjKUlZWJ74uKipriIyAiIiINoNZA9KjKykr8+9//xt27d+Ht7Y3s7Gzk5eVh0KBBYo2BgQF8fHyQkpKCKVOmID09HRUVFSo1tra2cHNzQ0pKCgICAnD06FHIZDIxDAFA7969IZPJkJKSUmsgWrp0KRYtWtR0O0zUTDIzM9XdggpLS0vY29uruw0iIhVqD0SnT5+Gt7c37t27BxMTE+zatQtdunRBSkoKAFR7Npq1tTWuXLkCAMjLy4O+vn61x4ZYW1sjLy9PrLGysqq2XSsrK7GmJgsWLMCsWbPE90VFRbCzs2vYThKpQVlFOQBg7Nixau5ElZHUCJnnMxmKiEijqD0Qubi4ICMjA4WFhdi5cyfGjRuH5ORkcb5EIlGpFwSh2rTHPV5TU/0/rcfAwAAGBgZ13Q0ijXP//n0AwOjB76Gna181d/PAtZvZiNr+MQoKChiIiEijqD0Q6evrw8nJCQDQq1cvpKWl4csvv8T8+fMBPDjCY2NjI9bn5+eLR43kcjnKy8uhUChUjhLl5+ejT58+Ys3NmzerbffWrVvVjj4RPYuszG3RsZ2rutsgItJoGncfIkEQUFZWBkdHR8jlciQmJorzysvLkZycLIYdT09P6OnpqdTk5ubizJkzYo23tzeUSiWOHz8u1hw7dgxKpVKsISIiIu2m1iNEH374IYYMGQI7OzvcuXMHO3bsQFJSEhISEiCRSBAWFobIyEg4OzvD2dkZkZGRMDIywujRowEAMpkMEydOxOzZs2FhYQFzc3PMmTMH7u7u4lVnrq6uGDx4MCZNmoT169cDACZPnozAwMBaB1QTERGRdlFrILp58yaCg4ORm5sLmUyGbt26ISEhAf7+/gCAefPmobS0FCEhIVAoFPDy8sL+/fthamoqrmPVqlXQ1dVFUFAQSktLMWDAAMTGxkJHR0es2bZtG0JDQ8Wr0YYPH46YmJjm3VkiIiLSWGoNRJs3b37ifIlEgoiICERERNRaY2hoiOjoaERHR9daY25ujvj4+Ia2SURERM84jRtDRERERNTcGIiIiIhI6zEQERERkdZjICIiIiKtx0BEREREWo+BiIiIiLQeAxERERFpPQYiIiIi0noMRERERKT1GIiIiIhI6zEQERERkdZjICIiIiKtx0BEREREWo+BiIiIiLQeAxERERFpPQYiIiIi0noMRERERKT1GIiIiIhI6zEQERERkdZjICIiIiKtx0BEREREWo+BiIiIiLQeAxERERFpPQYiIiIi0noMRERERKT1GIiIiIhI6zEQERERkdZjICIiIiKtx0BEREREWo+BiIiIiLQeAxERERFpPQYiIiIi0noMRERERKT1GIiIiIhI6zEQERERkdZjICIiIiKtx0BEREREWo+BiIiIiLQeAxERERFpPQYiIiIi0npqDURLly7F888/D1NTU1hZWWHEiBHIyspSqREEAREREbC1tYVUKoWvry/Onj2rUlNWVoYZM2bA0tISxsbGGD58OK5du6ZSo1AoEBwcDJlMBplMhuDgYBQWFjb1LhIREVELoNZAlJycjGnTpiE1NRWJiYm4f/8+Bg0ahLt374o1y5cvx8qVKxETE4O0tDTI5XL4+/vjzp07Yk1YWBh27dqFHTt24MiRIyguLkZgYCAqKyvFmtGjRyMjIwMJCQlISEhARkYGgoODm3V/iYiISDPpqnPjCQkJKu+3bNkCKysrpKeno3///hAEAVFRUQgPD8fIkSMBAHFxcbC2tsb27dsxZcoUKJVKbN68GVu3bsXAgQMBAPHx8bCzs8OBAwcQEBCAzMxMJCQkIDU1FV5eXgCAjRs3wtvbG1lZWXBxcWneHSciIiKNolFjiJRKJQDA3NwcAJCdnY28vDwMGjRIrDEwMICPjw9SUlIAAOnp6aioqFCpsbW1hZubm1hz9OhRyGQyMQwBQO/evSGTycSax5WVlaGoqEjlRURERM8mjQlEgiBg1qxZePHFF+Hm5gYAyMvLAwBYW1ur1FpbW4vz8vLyoK+vjzZt2jyxxsrKqto2raysxJrHLV26VBxvJJPJYGdn93Q7SERERBpLYwLR9OnTcerUKXz77bfV5kkkEpX3giBUm/a4x2tqqn/SehYsWAClUim+rl69WpfdICIiohZIIwLRjBkz8NNPP+HQoUNo166dOF0ulwNAtaM4+fn54lEjuVyO8vJyKBSKJ9bcvHmz2nZv3bpV7ejTQwYGBjAzM1N5ERER0bNJrYFIEARMnz4dP/74I3799Vc4OjqqzHd0dIRcLkdiYqI4rby8HMnJyejTpw8AwNPTE3p6eio1ubm5OHPmjFjj7e0NpVKJ48ePizXHjh2DUqkUa4iIiEh7qfUqs2nTpmH79u34z3/+A1NTU/FIkEwmg1QqhUQiQVhYGCIjI+Hs7AxnZ2dERkbCyMgIo0ePFmsnTpyI2bNnw8LCAubm5pgzZw7c3d3Fq85cXV0xePBgTJo0CevXrwcATJ48GYGBgbzCjIiIiNQbiNauXQsA8PX1VZm+ZcsWjB8/HgAwb948lJaWIiQkBAqFAl5eXti/fz9MTU3F+lWrVkFXVxdBQUEoLS3FgAEDEBsbCx0dHbFm27ZtCA0NFa9GGz58OGJiYpp2B4mIiKhFUGsgEgThH2skEgkiIiIQERFRa42hoSGio6MRHR1da425uTni4+Mb0iYRERE94zRiUDURERGROjEQERERkdZjICIiIiKtx0BEREREWo+BiIiIiLQeAxERERFpPQYiIiIi0noMRERERKT1GIiIiIhI6zEQERERkdZjICIiIiKtx0BEREREWo+BiIiIiLQeAxERERFpPQYiIiIi0noMRERERKT1GIiIiIhI6zEQERERkdZjICIiIiKtx0BEREREWo+BiIiIiLQeAxERERFpPQYiIiIi0noMRERERKT1GIiIiIhI6zEQERERkdZjICIiIiKtx0BEREREWo+BiIiIiLQeAxERERFpPQYiIiIi0noMRERERKT1GIiIiIhI6zEQERERkdZjICIiIiKtx0BEREREWo+BiIiIiLQeAxERERFpPQYiIiIi0noMRERERKT11BqIfvvtNwwbNgy2traQSCTYvXu3ynxBEBAREQFbW1tIpVL4+vri7NmzKjVlZWWYMWMGLC0tYWxsjOHDh+PatWsqNQqFAsHBwZDJZJDJZAgODkZhYWET7x0RERG1FGoNRHfv3kX37t0RExNT4/zly5dj5cqViImJQVpaGuRyOfz9/XHnzh2xJiwsDLt27cKOHTtw5MgRFBcXIzAwEJWVlWLN6NGjkZGRgYSEBCQkJCAjIwPBwcFNvn9ERETUMuiqc+NDhgzBkCFDapwnCAKioqIQHh6OkSNHAgDi4uJgbW2N7du3Y8qUKVAqldi8eTO2bt2KgQMHAgDi4+NhZ2eHAwcOICAgAJmZmUhISEBqaiq8vLwAABs3boS3tzeysrLg4uLSPDtLREREGktjxxBlZ2cjLy8PgwYNEqcZGBjAx8cHKSkpAID09HRUVFSo1Nja2sLNzU2sOXr0KGQymRiGAKB3796QyWRiTU3KyspQVFSk8iIiIqJnk8YGory8PACAtbW1ynRra2txXl5eHvT19dGmTZsn1lhZWVVbv5WVlVhTk6VLl4pjjmQyGezs7J5qf4iIiEhzaWwgekgikai8FwSh2rTHPV5TU/0/rWfBggVQKpXi6+rVq/XsnIiIiFoKjQ1EcrkcAKodxcnPzxePGsnlcpSXl0OhUDyx5ubNm9XWf+vWrWpHnx5lYGAAMzMzlRcRERE9mzQ2EDk6OkIulyMxMVGcVl5ejuTkZPTp0wcA4OnpCT09PZWa3NxcnDlzRqzx9vaGUqnE8ePHxZpjx45BqVSKNURERKTd1HqVWXFxMf766y/xfXZ2NjIyMmBubg57e3uEhYUhMjISzs7OcHZ2RmRkJIyMjDB69GgAgEwmw8SJEzF79mxYWFjA3Nwcc+bMgbu7u3jVmaurKwYPHoxJkyZh/fr1AIDJkycjMDCQV5gRERERADUHohMnTsDPz098P2vWLADAuHHjEBsbi3nz5qG0tBQhISFQKBTw8vLC/v37YWpqKi6zatUq6OrqIigoCKWlpRgwYABiY2Oho6Mj1mzbtg2hoaHi1WjDhw+v9d5HREREpH3UGoh8fX0hCEKt8yUSCSIiIhAREVFrjaGhIaKjoxEdHV1rjbm5OeLj45+mVSJqRJmZmepuoRpLS0vY29uruw0iUhO1BiIi0i7lZRUAgLFjx6q5k+qkUinOnz/PUESkpRiIiKjZ3L9/HwAQ5NcPPZw7qrmb/3O94DZifvwZhw8fhqurq7rbAaCZR9GInmUMRETU7KzatEYHW7m62xAVFhcDkGjgkSsJcpX3AMjU3QjRM4+BiIi03t17ZQAEeIyej+ccO6u7HQDArezzyNi+DIUl99XdCpFWYCAiIvr/TKzsYW6vGbfjKL1bou4WiLSKxt6YkYiIiKi58AgRtTiaNthU0/ohIqL6YyCiFqOsvAyAZl6yDQmQX1qq7i6Imo0m/iHAe0nR02Agohbj4SXbPd7ugXbPt1NzN//n5oWbOL76OIrKy9XdClGT0+Q/TKRGUpzP5L2kqGEYiKjFMZGbwNLZUt1tiEpKOPiVtIem/mGivKrEb8t/Q0FBAQMRNQgDERER1Zum/WFC9LR4lRkRERFpPQYiIiIi0noMRERERKT1GIiIiIhI6zEQERERkdZjICIiIiKtx0BEREREWo+BiIiIiLQeAxERERFpPQYiIiIi0noMRERERKT1GIiIiIhI6zEQERERkdZjICIiIiKtx0BEREREWo+BiIiIiLQeAxERERFpPQYiIiIi0noMRERERKT1GIiIiIhI6zEQERERkdbTVXcDREREz6qcnBwUFBSou41qLC0tYW9vr+42NAoDERERURPIycmBa2dXlJSWqLuVaoykRsg8n8lQ9AgGIiIioiZQUFCAktIShI1egnbWjupuR3TtZjaitn+MgoICBqJHMBARERE1oXbWjujYzlXdbdA/4KBqIiIi0noMRERERKT1GIiIiIhI63EMERERPTMyMzPV3YJIk3qhf6ZVgWjNmjX44osvkJubi65duyIqKgr9+vVTd1tERPSUysvLAQBjx45VcyeqJAAURZp3HyKqTmsC0XfffYewsDCsWbMGffv2xfr16zFkyBCcO3eOlx0SEbVw9+/fBwDM7u4Bv7Zt1dzNA6fzb2LBiRO4W3pH3a3USNOOYKn7ZpFaE4hWrlyJiRMn4t133wUAREVFYd++fVi7di2WLl2q5u6IiKgx2JmYwM3CQt1tAADuauANGQGgvKwCgOYdTZNKpTh//rzaQpFWBKLy8nKkp6fjgw8+UJk+aNAgpKSk1LhMWVkZysrKxPdKpRIAUFRU1Ki9FRcXAwD+vpKF+2Wljbrup6G8fgEAkJl7B79l3VZzNw/8L+fBX1nKHCVyT+WquZv/U3ipEADwl1KJ43l56m3mEecKCwEA1/Mv4+zFdPU28/9dzn3wfXX9VgHOXc5Rczf/5/qtB6c0lNcvQE9XouZuHtDEn0GAP4f1oYk/gwBw6eqD761+3bqio62Nmrt54HZREX5OOY7Lly+jdevWjbruh7+3BUF4cqGgBa5fvy4AEH7//XeV6Z999pnQqVOnGpdZuHChAIAvvvjiiy+++HoGXlevXn1iVtCKI0QPSSSqf/kJglBt2kMLFizArFmzxPdVVVX4+++/YWFhUesypJ2KiopgZ2eHq1evwszMTN3tEGkl/hxSbQRBwJ07d2Bra/vEOq0IRJaWltDR0UHeY4dR8/PzYW1tXeMyBgYGMDAwUJnW2Ifx6NliZmbGf4iJ1Iw/h1QTmUz2jzVacWNGfX19eHp6IjExUWV6YmIi+vTpo6auiIiISFNoxREiAJg1axaCg4PRq1cveHt7Y8OGDcjJycHUqVPV3RoRERGpmdYEolGjRuH27dtYvHgxcnNz4ebmhl9++QXt27dXd2vUwhkYGGDhwoXVTrESUfPhzyE9LYkg/NN1aERERETPNq0YQ0RERET0JAxEREREpPUYiIiIiEjrMRARERGR1mMgInoKly9fhkQiqfZKSEhQqUtOToanpycMDQ3RoUMHrFu3TmV+REQEPDw8VKYdPnwYrVu3xowZM/75GTxEWsLBwaHaz9vjz6nMycnBsGHDYGxsDEtLS4SGhqK8vFycn5SUBIlEgsL//6wxALhx4wbc3Nzw4osvqkwn7aE1l90TPYlCoYCenh5MTEwatPyBAwfQtWtX8b25ubn4dXZ2NoYOHYpJkyYhPj4ev//+O0JCQvDcc8/htddeq3F9//3vf/HGG29g7ty5WLRoUYN6Imopbty4ASsrK+jq1u1X0uLFizFp0iTx/aM/t5WVlXj55Zfx3HPP4ciRI7h9+zbGjRsHQRAQHR1d4/ouXrwIf39/dO7cGT/88AOMjIyeboeoReIRItJa9+/fx3//+18EBQXBxsYGFy9ebPC6LCwsIJfLxZe+vr44b926dbC3t0dUVBRcXV3x7rvvYsKECfjXv/5V47q2b9+OkSNH4vPPP2cYIq2wceNGtGvXDrNnz8bp06f/sd7U1FTl5+3RQLR//36cO3cO8fHx6NGjBwYOHIgVK1Zg48aN4lPPH3Xq1Cm8+OKL8PLywn/+8x+GIS3GQERa5/Tp05gzZw7atWuHt99+GxYWFjh06BC6d+8OAOjatStMTExqfT16JOih4cOHw8rKCn379sUPP/ygMu/o0aMYNGiQyrSAgACcOHECFRUVKtO/+uorvPPOO9i8eTNCQ0Mbec+JNNP8+fOxevVqZGVloWfPnujZsye+/PJL3Lp1q8b6ZcuWwcLCAh4eHvjss89UTocdPXoUbm5uKg/yDAgIQFlZGdLT01XWk5KSAh8fH4wcORLbtm2Dnp5e0+wgtQg8ZUZa4fbt29i2bRtiY2Nx9uxZDBkyBGvWrEFgYKDK0RwA+OWXX6oFlUc9+o+miYkJVq5cib59+6JVq1b46aefMGrUKMTFxWHs2LEAgLy8vGoPEba2tsb9+/dRUFAAGxsbAEBmZiamT5+OzZs3i8sSaQNDQ0MEBQUhKCgI+fn52L59O+Li4jB37lwMHToU48aNw7Bhw6Crq4v3338fPXv2RJs2bXD8+HEsWLAA2dnZ2LRpE4Caf97atGkDfX39ag/4fvXVVzFq1Ch89dVXzbavpLkYiEgrREdHY9GiRejXrx/++usv2NnZ1Vpbn8e5WFpaYubMmeL7Xr16QaFQYPny5SqhRiKRqCz3cJD0o9PbtWuH1q1bY/ny5RgyZIgYlIi0iZWVFcLCwhAWFoa9e/di/Pjx+M9//oM//vgDHh4eKj9v3bp1Q5s2bfD666+LR42A6j9vwIOfucenv/LKK9i1axcOHz6Mfv36Ne2OkcbjKTPSCpMnT8ann36KvLw8dOnSBePHj8fBgwdRVVVVrbYhp8we1bt3b1y4cEF8L5fLq/1lmp+fD11dXfEfcODBuIgDBw7A1NQUvr6+uHHjxlPuNVHLc+fOHWzZsgUvvfQShg0bBjc3N8TFxaFLly411vfu3RsA8NdffwGo+edNoVCgoqKi2pGj9evX46233sKQIUOQnJzcBHtDLQmPEJFWsLW1RXh4OMLDw5GSkoK4uDi89tprMDU1xZgxYxAcHCwGnfqcMqvJH3/8oXJ0x9vbGz///LNKzf79+9GrV69q62rTpg0OHDiAgIAA+Pr64tChQ2jbtm19d5eoRamsrMT+/fuxdetW7N69WxzfFxsbC3t7+ycu+8cffwCA+DPn7e2Nzz77DLm5ueK0/fv3w8DAAJ6enirLSiQSrF+/Hjo6Ohg6dCj++9//wtfXt/F3kFoGgUhLlZaWCt9++60wePBgQUdHRzh16lS91xEbGyts27ZNOHfunHD+/Hnhiy++EPT09ISVK1eKNZcuXRKMjIyEmTNnCufOnRM2b94s6OnpCT/88INYs3DhQqF79+7ie6VSKXh7ewtOTk7C1atXn2o/iTTd4sWLBZlMJkyaNEn4/fffa61LSUkRVq5cKfzxxx/CpUuXhO+++06wtbUVhg8fLtbcv39fcHNzEwYMGCCcPHlSOHDggNCuXTth+vTpYs2hQ4cEAIJCoRAEQRCqqqqEadOmCUZGRsLBgwebbD9JszEQEQmCcP36dUGpVNZ7udjYWMHV1VUwMjISTE1NBU9PT2Hr1q3V6pKSkoQePXoI+vr6goODg7B27VqV+Y8HIkEQhKKiIqFv375Cx44dhZycnHr3RtRSZGdnC6Wlpf9Yl56eLnh5eQkymUwwNDQUXFxchIULFwp3795Vqbty5Yrw8ssvC1KpVDA3NxemT58u3Lt3T5z/eCB6KDQ0VJBKpUJiYmKj7Be1LBJB4C1wiYiISLtxUDURERFpPQYiIiIi0noMRERERKT1GIiIiIhI6zEQERERkdZjICIiIiKtx0BEREREWo+BiIiIiLQeAxERERFpPQYiInqm5OfnY8qUKbC3t4eBgQHkcjkCAgJw9OhRdbdGRBqMT7snomfKa6+9hoqKCsTFxaFDhw64efMmDh48iL///lvdrRGRBuMRIiJ6ZhQWFuLIkSNYtmwZ/Pz80L59e7zwwgtYsGABXn75ZVy+fBkSiQQZGRkqy0gkEiQlJQEAkpKSIJFIsG/fPvTo0QNSqRQvvfQS8vPzsXfvXri6usLMzAxvvfUWSkpK1LOjRNToGIiI6JlhYmICExMT7N69G2VlZU+1roiICMTExCAlJQVXr15FUFAQoqKisH37dvz3v/9FYmIioqOjG6lzIlI3BiIiembo6uoiNjYWcXFxaN26Nfr27YsPP/wQp06dqve6Pv30U/Tt2xc9evTAxIkTkZycjLVr16JHjx7o168fXn/9dRw6dKgJ9oKI1IGBiIieKa+99hpu3LiBn376CQEBAUhKSkLPnj0RGxtbr/V069ZN/Nra2hpGRkbo0KGDyrT8/PzGapuI1IyBiIieOYaGhvD398cnn3yClJQUjB8/HgsXLkSrVg/+yRMEQaytqKiocR16enri1xKJROX9w2lVVVVN0D0RqQMDERE987p06YK7d+/iueeeAwDk5uaK8x4dYE1E2ouX3RPRM+P27dt44403MGHCBHTr1g2mpqY4ceIEli9fjldeeQVSqRS9e/fG559/DgcHBxQUFOCjjz5Sd9tEpAEYiIjomWFiYgIvLy+sWrUKFy9eREVFBezs7DBp0iR8+OGHAICvv/4aEyZMQK9eveDi4oLly5dj0KBBau6ciNRNIjx6Mp2IiIhIC3EMEREREWk9BiIiIiLSegxEREREpPUYiIiIiEjrMRARERGR1mMgIiIiIq3HQERERERaj4GIiIiItB4DEREREWk9BiIiIiLSegxEREREpPX+H+stWvlMQ9X+AAAAAElFTkSuQmCC\n",
      "text/plain": [
       "<Figure size 640x480 with 1 Axes>"
      ]
     },
     "metadata": {},
     "output_type": "display_data"
    }
   ],
   "source": [
    "first_dim = 'Sum' \n",
    "second_dim = 'Relationship'\n",
    "\n",
    "sns.histplot(binwidth = 1, x = first_dim, hue = second_dim, data = dfdropd, stat = 'count', multiple = 'dodge' )\n",
    "# can see husbands are more likely to earn over 50k, not-in-family and own child less likely - important feature"
   ]
  },
  {
   "cell_type": "code",
   "execution_count": 25,
   "id": "7cc8f83e-7392-4f19-b167-5f1dcdf171e1",
   "metadata": {},
   "outputs": [
    {
     "data": {
      "text/plain": [
       "<AxesSubplot:xlabel='Sum', ylabel='Count'>"
      ]
     },
     "execution_count": 25,
     "metadata": {},
     "output_type": "execute_result"
    },
    {
     "data": {
      "image/png": "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\n",
      "text/plain": [
       "<Figure size 640x480 with 1 Axes>"
      ]
     },
     "metadata": {},
     "output_type": "display_data"
    }
   ],
   "source": [
    "first_dim = 'Sum' \n",
    "second_dim = 'Marital-Status'\n",
    "\n",
    "sns.histplot(binwidth = 1, x = first_dim, hue = second_dim, data = dfdropd, stat = 'count', multiple = 'dodge' )\n",
    "# Married-civ-spouse most liekly to earn over 50k, never-married and divorsed less likely, rest of data is smaller \n",
    "# in comparison "
   ]
  },
  {
   "cell_type": "code",
   "execution_count": 26,
   "id": "451a3b52-d6c8-48b1-a272-b2bf08b7b087",
   "metadata": {},
   "outputs": [
    {
     "data": {
      "text/plain": [
       "<AxesSubplot:xlabel='Sum', ylabel='Count'>"
      ]
     },
     "execution_count": 26,
     "metadata": {},
     "output_type": "execute_result"
    },
    {
     "data": {
      "image/png": "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\n",
      "text/plain": [
       "<Figure size 640x480 with 1 Axes>"
      ]
     },
     "metadata": {},
     "output_type": "display_data"
    }
   ],
   "source": [
    "first_dim = 'Sum' \n",
    "second_dim = 'Workclass'\n",
    "\n",
    "sns.histplot(binwidth = 1, x = first_dim, hue = second_dim, data = dfdropd, stat = 'count', multiple = 'dodge' )\n",
    "#data skewed towards private secotr so hard to make judgement, similar results for both classes"
   ]
  },
  {
   "cell_type": "code",
   "execution_count": null,
   "id": "e67f3664-5f35-4ba3-891a-8741cce157f4",
   "metadata": {},
   "outputs": [],
   "source": [
    "first_dim = 'Sum' \n",
    "second_dim = 'Occupation'\n",
    "\n",
    "sns.histplot(binwidth = 1, x = first_dim, hue = second_dim, data = dfdropd, stat = 'count', multiple = 'dodge' )\n",
    "\n",
    "# exec- managerial and prof-speciality both most likely to earn over 50k, data well spread out - important feature. "
   ]
  },
  {
   "cell_type": "code",
   "execution_count": null,
   "id": "4248c4b5-7583-40dc-bff6-b064fcbf21cd",
   "metadata": {},
   "outputs": [],
   "source": []
  },
  {
   "cell_type": "code",
   "execution_count": null,
   "id": "beab0df7",
   "metadata": {},
   "outputs": [],
   "source": [
    "# evaluation"
   ]
  }
 ],
 "metadata": {
  "kernelspec": {
   "display_name": "Python 3 (ipykernel)",
   "language": "python",
   "name": "python3"
  },
  "language_info": {
   "codemirror_mode": {
    "name": "ipython",
    "version": 3
   },
   "file_extension": ".py",
   "mimetype": "text/x-python",
   "name": "python",
   "nbconvert_exporter": "python",
   "pygments_lexer": "ipython3",
   "version": "3.9.13"
  }
 },
 "nbformat": 4,
 "nbformat_minor": 5
}
