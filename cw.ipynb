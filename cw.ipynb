{
 "cells": [
  {
   "cell_type": "code",
   "execution_count": 60,
   "id": "f1c6b1fb",
   "metadata": {},
   "outputs": [],
   "source": [
    "#import modules\n",
    "import sklearn as sk\n",
    "import seaborn as sns\n",
    "import numpy as np\n",
    "import tensorflow as tf\n",
    "import matplotlib as plt\n",
    "import pandas as pd"
   ]
  },
  {
   "cell_type": "markdown",
   "id": "e3c15e9e",
   "metadata": {},
   "source": [
    "# REGRESSION"
   ]
  },
  {
   "cell_type": "code",
   "execution_count": 10,
   "id": "aae3d24b",
   "metadata": {},
   "outputs": [],
   "source": [
    "# import regression data set\n",
    "winedata=pd.read_csv('winequality-red.csv', index_col=False)\n"
   ]
  },
  {
   "cell_type": "code",
   "execution_count": null,
   "id": "c194559e",
   "metadata": {},
   "outputs": [],
   "source": [
    "# clean data"
   ]
  },
  {
   "cell_type": "code",
   "execution_count": null,
   "id": "c012791a",
   "metadata": {},
   "outputs": [],
   "source": [
    "# logistic regression"
   ]
  },
  {
   "cell_type": "code",
   "execution_count": null,
   "id": "262d3828",
   "metadata": {},
   "outputs": [],
   "source": [
    "# support vector machines"
   ]
  },
  {
   "cell_type": "code",
   "execution_count": null,
   "id": "0dd2085e",
   "metadata": {},
   "outputs": [],
   "source": [
    "# decision trees and multi-layer"
   ]
  },
  {
   "cell_type": "code",
   "execution_count": null,
   "id": "fef4f33f",
   "metadata": {},
   "outputs": [],
   "source": [
    "# perceptron neural network."
   ]
  },
  {
   "cell_type": "code",
   "execution_count": null,
   "id": "bc3d6295",
   "metadata": {},
   "outputs": [],
   "source": [
    "# evaluation"
   ]
  },
  {
   "cell_type": "markdown",
   "id": "5299f69c",
   "metadata": {},
   "source": [
    "# CLASSIFICATION"
   ]
  },
  {
   "cell_type": "code",
   "execution_count": 53,
   "id": "53123947",
   "metadata": {},
   "outputs": [
    {
     "data": {
      "text/plain": [
       "Age                  0\n",
       "Workclass         1836\n",
       "Fnlwgt               0\n",
       "Education            0\n",
       "Education-num        0\n",
       "Marital-Status       0\n",
       "Occupation        1843\n",
       "Relationship         0\n",
       "Race                 0\n",
       "Sex                  0\n",
       "Capital-gain         0\n",
       "Capital-loss         0\n",
       "Hours-per-week       0\n",
       "Native-country     583\n",
       "Sum                  0\n",
       "dtype: int64"
      ]
     },
     "execution_count": 53,
     "metadata": {},
     "output_type": "execute_result"
    }
   ],
   "source": [
    "# import classifcation data set\n",
    "df=pd.read_csv('adult.csv', index_col=False)\n",
    "df.isnull().sum()"
   ]
  },
  {
   "cell_type": "code",
   "execution_count": 72,
   "id": "9c113e4d",
   "metadata": {},
   "outputs": [
    {
     "data": {
      "text/plain": [
       "75"
      ]
     },
     "execution_count": 72,
     "metadata": {},
     "output_type": "execute_result"
    }
   ],
   "source": [
    "# clean data\n",
    "\n",
    "dfclean = df.dropna() # Drops rows with empty values\n",
    "dfclean.isnull().sum()\n",
    "dfclean.loc[dfclean['Age'] > 80].shape[0]\n",
    "#dfclean[dfclean.Age >80].sum\n",
    "#sns.boxplot(dfclean['Age'])\n",
    "\n",
    "#data_mean = df.iloc[:, :]\n",
    "#data_mean.plot(kind='box', subplots=True, layout=(8,4), sharex=False,\n",
    "#sharey=False, fontsize=12, figsize=(15,20))"
   ]
  },
  {
   "cell_type": "code",
   "execution_count": 95,
   "id": "7c2a6d45-696f-4952-8c59-64a1b1b54b71",
   "metadata": {},
   "outputs": [
    {
     "data": {
      "text/plain": [
       "23"
      ]
     },
     "execution_count": 95,
     "metadata": {},
     "output_type": "execute_result"
    }
   ],
   "source": [
    "dfclean.duplicated().sum()"
   ]
  },
  {
   "cell_type": "code",
   "execution_count": 96,
   "id": "750f423a-f4e0-4707-a356-d3b5f238da77",
   "metadata": {},
   "outputs": [
    {
     "data": {
      "text/plain": [
       "0"
      ]
     },
     "execution_count": 96,
     "metadata": {},
     "output_type": "execute_result"
    }
   ],
   "source": [
    "dfdropd = dfclean.drop_duplicates()\n",
    "dfdropd.duplicated().sum()"
   ]
  },
  {
   "cell_type": "code",
   "execution_count": 52,
   "id": "9bcfe0a1",
   "metadata": {},
   "outputs": [],
   "source": [
    "# logistic regression"
   ]
  },
  {
   "cell_type": "code",
   "execution_count": null,
   "id": "a76fa28b",
   "metadata": {},
   "outputs": [],
   "source": [
    "# support vector machines"
   ]
  },
  {
   "cell_type": "code",
   "execution_count": null,
   "id": "690ed46b",
   "metadata": {},
   "outputs": [],
   "source": [
    "# decision trees and multi-layer"
   ]
  },
  {
   "cell_type": "code",
   "execution_count": null,
   "id": "bbaad054",
   "metadata": {},
   "outputs": [],
   "source": [
    "# perceptron neural network."
   ]
  },
  {
   "cell_type": "code",
   "execution_count": null,
   "id": "beab0df7",
   "metadata": {},
   "outputs": [],
   "source": [
    "# evaluation"
   ]
  }
 ],
 "metadata": {
  "kernelspec": {
   "display_name": "Python 3 (ipykernel)",
   "language": "python",
   "name": "python3"
  },
  "language_info": {
   "codemirror_mode": {
    "name": "ipython",
    "version": 3
   },
   "file_extension": ".py",
   "mimetype": "text/x-python",
   "name": "python",
   "nbconvert_exporter": "python",
   "pygments_lexer": "ipython3",
   "version": "3.7.13"
  }
 },
 "nbformat": 4,
 "nbformat_minor": 5
}
