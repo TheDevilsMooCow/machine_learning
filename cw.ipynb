{
 "cells": [
  {
   "cell_type": "code",
   "execution_count": null,
   "id": "f1c6b1fb",
   "metadata": {},
   "outputs": [],
   "source": [
    "#import modules\n",
    "import sklearn as sk\n",
    "import seaborn as sns\n",
    "import numpy as np\n",
    "import tensorflow as tf\n",
    "import matplotlib.pyplot as plt\n",
    "import pandas as pd\n",
    "from sklearn.feature_selection import SelectKBest, f_classif\n",
    "from sklearn.neural_network import MLPRegressor, MLPClassifier\n",
    "from sklearn.pipeline import Pipeline\n",
    "from sklearn.preprocessing import LabelEncoder, StandardScaler\n",
    "from sklearn import preprocessing\n",
    "from sklearn.svm import SVC\n",
    "from sklearn.model_selection import train_test_split, cross_val_score\n",
    "from sklearn.linear_model import LinearRegression\n",
    "from sklearn.metrics import r2_score, accuracy_score\n",
    "from sklearn.metrics import classification_report\n",
    "from sklearn.tree import DecisionTreeClassifier\n",
    "#Ignore warning (version warning)"
   ]
  },
  {
   "cell_type": "markdown",
   "id": "e3c15e9e",
   "metadata": {},
   "source": [
    "# REGRESSION"
   ]
  },
  {
   "cell_type": "code",
   "execution_count": null,
   "id": "aae3d24b",
   "metadata": {},
   "outputs": [],
   "source": [
    "data = pd.read_csv(\"winequality-red.csv\")"
   ]
  },
  {
   "cell_type": "code",
   "execution_count": null,
   "id": "c194559e",
   "metadata": {},
   "outputs": [],
   "source": [
    "# clean data\n",
    "d = preprocessing.normalize(data)\n",
    "df = pd.DataFrame(d, columns=data.columns)\n",
    "df.head()"
   ]
  },
  {
   "cell_type": "code",
   "execution_count": null,
   "id": "c012791a",
   "metadata": {},
   "outputs": [],
   "source": [
    "# logistic regression"
   ]
  },
  {
   "cell_type": "code",
   "execution_count": null,
   "id": "56a0ef90",
   "metadata": {},
   "outputs": [],
   "source": [
    " #Seperate dependant and independant variable\n",
    "x=df.drop(['quality'],axis=1).values\n",
    "y=df['quality'].values"
   ]
  },
  {
   "cell_type": "code",
   "execution_count": null,
   "id": "08349dbd",
   "metadata": {},
   "outputs": [],
   "source": [
    "#Split dataset\n",
    "x_train,x_test,y_train,y_test=train_test_split(x,y,test_size=0.3,random_state=1)"
   ]
  },
  {
   "cell_type": "code",
   "execution_count": null,
   "id": "0b318a0c",
   "metadata": {},
   "outputs": [],
   "source": [
    "#Train model\n",
    "ml=LinearRegression()\n",
    "ml.fit(x_train,y_train)"
   ]
  },
  {
   "cell_type": "code",
   "execution_count": null,
   "id": "38ab9790",
   "metadata": {},
   "outputs": [],
   "source": [
    "LinearRegression()"
   ]
  },
  {
   "cell_type": "code",
   "execution_count": null,
   "id": "c2a053f5",
   "metadata": {},
   "outputs": [],
   "source": [
    "y_pred=ml.predict(x_test)"
   ]
  },
  {
   "cell_type": "code",
   "execution_count": null,
   "id": "ab9faedb",
   "metadata": {},
   "outputs": [],
   "source": [
    "#Evaluate\n",
    "ml.predict([[0.193478,0.018302,0.000000,0.049677,0.001987,0.287602,0.888952,0.026088,0.091771,0.014642,0.245769]])\n",
    "#Actual result 0.130728"
   ]
  },
  {
   "cell_type": "code",
   "execution_count": null,
   "id": "3d6eecef",
   "metadata": {},
   "outputs": [],
   "source": [
    "#R2 score\n",
    "r2_score(y_test,y_pred)"
   ]
  },
  {
   "cell_type": "code",
   "execution_count": null,
   "id": "3ee1ff31",
   "metadata": {},
   "outputs": [],
   "source": [
    "#MSE score\n",
    "mse = np.square(np.subtract(y_test,y_pred)).mean()\n",
    "print(mse)"
   ]
  },
  {
   "cell_type": "code",
   "execution_count": null,
   "id": "a942382c",
   "metadata": {},
   "outputs": [],
   "source": [
    "#Plot results\n",
    "plt.figure(figsize=(20, 20))\n",
    "plt.scatter(y_test, y_pred)\n",
    "plt.xlabel(\"Actual value\")\n",
    "plt.ylabel(\"Predicted\")"
   ]
  },
  {
   "cell_type": "code",
   "execution_count": null,
   "id": "262d3828",
   "metadata": {},
   "outputs": [],
   "source": [
    "# support vector machines"
   ]
  },
  {
   "cell_type": "code",
   "execution_count": null,
   "id": "0dd2085e",
   "metadata": {},
   "outputs": [],
   "source": [
    "# decision trees and multi-layer\n"
   ]
  },
  {
   "cell_type": "code",
   "execution_count": null,
   "id": "5050aaef",
   "metadata": {},
   "outputs": [],
   "source": [
    "#----------------------------------------------------------------------------------------------------------"
   ]
  },
  {
   "cell_type": "code",
   "execution_count": null,
   "id": "fef4f33f",
   "metadata": {},
   "outputs": [],
   "source": [
    "# perceptron neural network.\n"
   ]
  },
  {
   "cell_type": "code",
   "execution_count": null,
   "id": "5f6654b8",
   "metadata": {},
   "outputs": [],
   "source": [
    "mlp = MLPRegressor(max_iter=10000, activation='relu')\n",
    "mlp"
   ]
  },
  {
   "cell_type": "code",
   "execution_count": null,
   "id": "7b3df71a",
   "metadata": {},
   "outputs": [],
   "source": [
    "x_train2,x_test2,y_train2,y_test2=train_test_split(x,y,test_size=0.3,random_state=1)"
   ]
  },
  {
   "cell_type": "code",
   "execution_count": null,
   "id": "971edab5",
   "metadata": {},
   "outputs": [],
   "source": [
    "mlp.fit(x_train2,y_train2)"
   ]
  },
  {
   "cell_type": "code",
   "execution_count": null,
   "id": "51e86713",
   "metadata": {},
   "outputs": [],
   "source": [
    "y_pred2 = mlp.predict(x_test2)\n",
    "y_pred2"
   ]
  },
  {
   "cell_type": "code",
   "execution_count": null,
   "id": "7c4eebc7",
   "metadata": {},
   "outputs": [],
   "source": [
    "mse = np.square(np.subtract(y_test2,y_pred2)).mean()\n",
    "print(mse)"
   ]
  },
  {
   "cell_type": "code",
   "execution_count": null,
   "id": "1402ed04",
   "metadata": {},
   "outputs": [],
   "source": [
    "#R2 score\n",
    "r2_score(y_test2,y_pred2)"
   ]
  },
  {
   "cell_type": "code",
   "execution_count": null,
   "id": "db09e7fd",
   "metadata": {},
   "outputs": [],
   "source": [
    "plt.figure(figsize=(20, 20))\n",
    "plt.scatter(y_test2, y_pred2)\n",
    "plt.xlabel(\"Actual value\")\n",
    "plt.ylabel(\"Predicted\")"
   ]
  },
  {
   "cell_type": "code",
   "execution_count": null,
   "id": "bc3d6295",
   "metadata": {},
   "outputs": [],
   "source": [
    "# evaluation"
   ]
  },
  {
   "cell_type": "markdown",
   "id": "5299f69c",
   "metadata": {},
   "source": [
    "# CLASSIFICATION"
   ]
  },
  {
   "cell_type": "code",
   "execution_count": null,
   "id": "53123947",
   "metadata": {},
   "outputs": [],
   "source": [
    "# import classifcation data set\n",
    "df=pd.read_csv('adult.csv', index_col=False)\n",
    "df.isnull().sum()"
   ]
  },
  {
   "cell_type": "code",
   "execution_count": null,
   "id": "9c113e4d",
   "metadata": {},
   "outputs": [],
   "source": [
    "# clean data\n",
    "\n",
    "dfclean = df.dropna() # Drops rows with empty values\n",
    "dfclean.isnull().sum()\n",
    "dfclean.loc[dfclean['Age'] > 80].shape[0]\n",
    "#dfclean[dfclean.Age >80].sum\n",
    "#sns.boxplot(dfclean['Age'])\n",
    "\n",
    "#data_mean = df.iloc[:, :]\n",
    "#data_mean.plot(kind='box', subplots=True, layout=(8,4), sharex=False,\n",
    "#sharey=False, fontsize=12, figsize=(15,20))"
   ]
  },
  {
   "cell_type": "code",
   "execution_count": null,
   "id": "7c2a6d45-696f-4952-8c59-64a1b1b54b71",
   "metadata": {},
   "outputs": [],
   "source": [
    "dfclean.duplicated().sum()"
   ]
  },
  {
   "cell_type": "code",
   "execution_count": null,
   "id": "750f423a-f4e0-4707-a356-d3b5f238da77",
   "metadata": {},
   "outputs": [],
   "source": [
    "dfdropd = dfclean.drop_duplicates()\n",
    "dfdropd.duplicated().sum()"
   ]
  },
  {
   "cell_type": "code",
   "execution_count": null,
   "id": "69a1fe36-d564-4a14-9383-9072b9828d17",
   "metadata": {},
   "outputs": [],
   "source": [
    "labelencoder = LabelEncoder()\n",
    "dfcopy = dfdropd.copy()\n",
    "#df1 = labelencoder.fit_transform(dfdropd['Sex'])\n",
    "dfcopy['Race'] = labelencoder.fit_transform(dfcopy['Race'])\n",
    "dfcopy['Sex'] = labelencoder.fit_transform(dfcopy['Sex'])\n",
    "dfcopy['Occupation'] = labelencoder.fit_transform(dfcopy['Occupation'])\n",
    "dfcopy['Relationship'] = labelencoder.fit_transform(dfcopy['Relationship'])\n",
    "dfcopy['Marital-Status'] = labelencoder.fit_transform(dfcopy['Marital-Status'])\n",
    "dfcopy['Education'] = labelencoder.fit_transform(dfcopy['Education'])\n",
    "dfcopy['Workclass'] = labelencoder.fit_transform(dfcopy['Workclass'])\n",
    "dfcopy['Native-country'] = labelencoder.fit_transform(dfcopy['Native-country'])\n",
    "dfcopy['Sum'] = labelencoder.fit_transform(dfcopy['Sum'])\n",
    "dfcopy\n",
    "\n",
    "#dfcopy"
   ]
  },
  {
   "cell_type": "code",
   "execution_count": null,
   "id": "5d16bee9-db94-417b-b18f-ca3216a78eaf",
   "metadata": {},
   "outputs": [],
   "source": [
    "X = dfcopy[['Fnlwgt']]\n",
    "# Normalise the features to use zero mean normalisation\n",
    "# only for the first 10 features, but try yourself to visualise more features\n",
    "scaler = StandardScaler()\n",
    "dfcopy['Fnlwgt'] = scaler.fit_transform(X)\n",
    "data = dfcopy\n",
    "dfcopy"
   ]
  },
  {
   "cell_type": "code",
   "execution_count": null,
   "id": "9bcfe0a1",
   "metadata": {},
   "outputs": [],
   "source": [
    "# logistic regression"
   ]
  },
  {
   "cell_type": "code",
   "execution_count": null,
   "id": "a76fa28b",
   "metadata": {},
   "outputs": [],
   "source": [
    "# support vector machines"
   ]
  },
  {
   "cell_type": "code",
   "execution_count": null,
   "id": "d781050e-7474-4190-95af-421eeeaf74f8",
   "metadata": {},
   "outputs": [],
   "source": [
    "# split into X and y\n",
    "X = dfcopy.drop(columns = ['Sum'])\n",
    "y = dfcopy['Sum']\n",
    "# split X and y into training and test sets, test set 30% of data \n",
    " \n",
    "\n",
    "X_train, X_test, y_train, y_test = train_test_split(X, y, test_size=0.85,\n",
    "random_state=1, stratify=y)"
   ]
  },
  {
   "cell_type": "code",
   "execution_count": null,
   "id": "0aca0ef0-f69e-42b0-8191-a8449b474537",
   "metadata": {},
   "outputs": [],
   "source": [
    "# First try SVM with all features selected \n",
    "svclassifier = SVC(C=1.0,degree=3, gamma='auto', probability=True)\n",
    "svclassifier.fit(X_train, y_train)"
   ]
  },
  {
   "cell_type": "code",
   "execution_count": null,
   "id": "516b3a95-ab50-45ce-b949-7cfa62f755ff",
   "metadata": {},
   "outputs": [],
   "source": [
    "y_pred = svclassifier.predict(X_test)"
   ]
  },
  {
   "cell_type": "code",
   "execution_count": null,
   "id": "005cdacd-e76c-4d39-b3a1-5f2f18ef50c7",
   "metadata": {},
   "outputs": [],
   "source": [
    "print(classification_report(y_test, y_pred))"
   ]
  },
  {
   "cell_type": "code",
   "execution_count": null,
   "id": "61a1564f-9f0a-46a0-ace3-6fb6ef0013d3",
   "metadata": {},
   "outputs": [],
   "source": [
    "classifier_score = svclassifier.score(X_test, y_test)\n",
    "print(f\"Classifier Score is {classifier_score}\")"
   ]
  },
  {
   "cell_type": "code",
   "execution_count": null,
   "id": "63abf99f-c74c-49a9-b73d-c326c3a3c9f2",
   "metadata": {},
   "outputs": [],
   "source": [
    "# Try dropping features\n",
    "# Drop Capital-gain and capital-loss due to low variability \n",
    "# Drop Education due to Education-num encoding similar data \n",
    "# Drop Native-country for low variability (mostly U.S)\n",
    "# Drop Race for having lowest Chi-Squared statistic \n",
    "\n",
    "df_reduced = dfcopy.drop(columns = ['Capital-gain', 'Capital-loss', 'Education', 'Native-country', 'Race'])\n",
    "df_reduced.head()"
   ]
  },
  {
   "cell_type": "code",
   "execution_count": null,
   "id": "ad3a3d4c-437c-4f6a-a11c-3453ef12b5e8",
   "metadata": {},
   "outputs": [],
   "source": [
    "# split into X and y\n",
    "X1 = df_reduced.drop(columns = ['Sum'])\n",
    "y1 = df_reduced['Sum']\n",
    "\n",
    "X1_train, X1_test, y1_train, y1_test = train_test_split(X1, y1, test_size=0.85,\n",
    "random_state=1, stratify=y1)"
   ]
  },
  {
   "cell_type": "code",
   "execution_count": null,
   "id": "3488c29a-047e-4e93-9f46-f59ca86d4d48",
   "metadata": {},
   "outputs": [],
   "source": [
    "svclassifier = SVC(C=1.0, kernel='rbf', degree=3, gamma='auto', probability=True)\n",
    "svclassifier.fit(X1_train, y1_train)"
   ]
  },
  {
   "cell_type": "code",
   "execution_count": null,
   "id": "f3828d6f-045b-41de-94fe-7adbee240213",
   "metadata": {},
   "outputs": [],
   "source": [
    "y1_pred = svclassifier.predict(X1_test)"
   ]
  },
  {
   "cell_type": "code",
   "execution_count": null,
   "id": "c2748d58-0d1c-40b7-91bc-e60bb6293997",
   "metadata": {},
   "outputs": [],
   "source": [
    "print(classification_report(y1_test, y1_pred))"
   ]
  },
  {
   "cell_type": "code",
   "execution_count": null,
   "id": "aba21dc8-61c5-4da4-9096-4136cd54d706",
   "metadata": {},
   "outputs": [],
   "source": [
    "## precision for 0 (<=50k) has increased however the precision for 1 (50k >) has decreased\n",
    "classifier_score1 = svclassifier.score(X1_test, y1_test)\n",
    "print(f\"Classifier Score is {classifier_score1}\")"
   ]
  },
  {
   "cell_type": "code",
   "execution_count": null,
   "id": "97e5430a-284a-4058-a844-9cf2fa94414b",
   "metadata": {},
   "outputs": [],
   "source": [
    "# model with just 3 best features selected (k=3)\n",
    "clf_fs_cv = Pipeline([\n",
    " ('feature_selector', SelectKBest(f_classif, k=3)),\n",
    " ('svc', SVC(C=1.0, kernel='rbf', degree=3, gamma='auto', probability=True))\n",
    "])\n",
    "scores = cross_val_score(clf_fs_cv, X, y, cv=5) # 5 folds.\n",
    "print(scores)\n",
    "avg = (100 * np.mean(scores), 100 * np.std(scores)/np.sqrt(scores.shape[0]))\n",
    "print(\"Average score and standard deviation: (%.2f +- %.3f)%%\" %avg)"
   ]
  },
  {
   "cell_type": "code",
   "execution_count": null,
   "id": "690ed46b",
   "metadata": {},
   "outputs": [],
   "source": [
    "# decision trees and multi-layer\n",
    "X = dfcopy.drop(columns = ['Sum'])\n",
    "y = dfcopy['Sum']\n",
    "X_train, X_test, y_train, y_test = train_test_split(X, y, test_size=0.3, random_state=1)\n",
    "mlpc = MLPClassifier(max_iter=2500, alpha=0.00001, hidden_layer_sizes=12, random_state=3)\n",
    "mlpc.fit(X_train, y_train)"
   ]
  },
  {
   "cell_type": "code",
   "execution_count": null,
   "id": "4ce1d9b1",
   "metadata": {},
   "outputs": [],
   "source": [
    "predict = mlpc.predict(X_test)\n",
    "print(accuracy_score(y_test, predict))"
   ]
  },
  {
   "cell_type": "code",
   "execution_count": null,
   "id": "405552d2-c7f0-4417-8ecf-076bbaa0f63f",
   "metadata": {},
   "outputs": [],
   "source": [
    "clf = DecisionTreeClassifier(random_state=1)\n",
    "dtt = clf.fit(X_train, y_train)\n",
    "predictions = dtt.predict(X_test)\n",
    "print(accuracy_score(y_test, predictions))\n",
    "\n"
   ]
  },
  {
   "cell_type": "code",
   "execution_count": null,
   "id": "bbaad054",
   "metadata": {},
   "outputs": [],
   "source": [
    "# perceptron neural network."
   ]
  },
  {
   "cell_type": "code",
   "execution_count": null,
   "id": "11df7b9f-696a-4319-abfc-d1fafbc45517",
   "metadata": {},
   "outputs": [],
   "source": [
    "#Analysis"
   ]
  },
  {
   "cell_type": "code",
   "execution_count": null,
   "id": "c705175b-c7bb-4e19-8f12-b30c8643b155",
   "metadata": {},
   "outputs": [],
   "source": [
    "# create df of the numerical values and Sum to create multiple boxplots\n",
    "\n",
    "df_numerical = dfdropd[['Age', 'Fnlwgt', 'Education-num', 'Capital-gain', 'Capital-loss', 'Hours-per-week', 'Sum']].copy()\n",
    "\n",
    "df_numerical.head()"
   ]
  },
  {
   "cell_type": "code",
   "execution_count": null,
   "id": "9cd144fe-b07a-481a-8bb4-1fb0acf16277",
   "metadata": {},
   "outputs": [],
   "source": [
    "fig, axes = plt.subplots(nrows=2, ncols=3, figsize=(15,20))\n",
    "fig.subplots_adjust(hspace =.2, wspace=.5)\n",
    "axes = axes.ravel()\n",
    "\n",
    "for i, col in enumerate(df_numerical.columns[0:6]):\n",
    "    _= sns.boxplot(y=col, x='Sum', data=df_numerical, ax=axes[i])"
   ]
  },
  {
   "cell_type": "code",
   "execution_count": null,
   "id": "d6a4c7d4-8176-46d8-953e-f21702d61f8c",
   "metadata": {},
   "outputs": [],
   "source": [
    "# from the boxplots it looks like fnlwgt is similar for both classes, so we may potentially drop that feature.\n",
    "# also, captital-gain and capital-loss are mostly zero for both classes, so we could drop these as well due to low variability\n",
    "\n",
    "#Now try to plot the categorical features \n",
    "#look at value counts first \n",
    "\n",
    "categorical_cols = ['Workclass', 'Marital-Status', 'Occupation', 'Relationship', 'Race', 'Sex', 'Native-country']\n",
    "\n",
    "for col in categorical_cols:\n",
    "    vals = dfdropd[[col]].value_counts()\n",
    "    print(vals)\n",
    "    \n",
    "# data is skewed towards private sector, white race, males, and United States"
   ]
  },
  {
   "cell_type": "code",
   "execution_count": null,
   "id": "61a48a4f-0344-456e-86dd-8cba37a33962",
   "metadata": {},
   "outputs": [],
   "source": [
    "# will use histograms for all categorical features bar countries \n",
    "first_dim = 'Sum' \n",
    "second_dim = 'Sex'\n",
    "\n",
    "sns.histplot(binwidth = 1, x = first_dim, hue = second_dim, data = dfdropd, stat = 'count', multiple = 'dodge' )\n",
    "# males tend to earn more than 50k however the data is skewed towards males "
   ]
  },
  {
   "cell_type": "code",
   "execution_count": null,
   "id": "0dd546ed-84de-4b40-b90d-a700a6dd61a7",
   "metadata": {},
   "outputs": [],
   "source": [
    "first_dim = 'Sum' \n",
    "second_dim = 'Race'\n",
    "\n",
    "sns.histplot(binwidth = 1, x = first_dim, hue = second_dim, data = dfdropd, stat = 'count', multiple = 'dodge' )\n",
    "# again, data is heavily skewed towards White so hard to tell"
   ]
  },
  {
   "cell_type": "code",
   "execution_count": null,
   "id": "0d56df22-73f6-477a-a945-2b5e4483875a",
   "metadata": {},
   "outputs": [],
   "source": [
    "first_dim = 'Sum' \n",
    "second_dim = 'Relationship'\n",
    "\n",
    "sns.histplot(binwidth = 1, x = first_dim, hue = second_dim, data = dfdropd, stat = 'count', multiple = 'dodge' )\n",
    "# can see husbands are more likely to earn over 50k, not-in-family and own child less likely - important feature"
   ]
  },
  {
   "cell_type": "code",
   "execution_count": null,
   "id": "7cc8f83e-7392-4f19-b167-5f1dcdf171e1",
   "metadata": {},
   "outputs": [],
   "source": [
    "first_dim = 'Sum' \n",
    "second_dim = 'Marital-Status'\n",
    "\n",
    "sns.histplot(binwidth = 1, x = first_dim, hue = second_dim, data = dfdropd, stat = 'count', multiple = 'dodge' )\n",
    "# Married-civ-spouse most liekly to earn over 50k, never-married and divorsed less likely, rest of data is smaller \n",
    "# in comparison "
   ]
  },
  {
   "cell_type": "code",
   "execution_count": null,
   "id": "451a3b52-d6c8-48b1-a272-b2bf08b7b087",
   "metadata": {},
   "outputs": [],
   "source": [
    "first_dim = 'Sum' \n",
    "second_dim = 'Workclass'\n",
    "\n",
    "sns.histplot(binwidth = 1, x = first_dim, hue = second_dim, data = dfdropd, stat = 'count', multiple = 'dodge' )\n",
    "#data skewed towards private secotr so hard to make judgement, similar results for both classes"
   ]
  },
  {
   "cell_type": "code",
   "execution_count": null,
   "id": "e67f3664-5f35-4ba3-891a-8741cce157f4",
   "metadata": {},
   "outputs": [],
   "source": [
    "first_dim = 'Sum' \n",
    "second_dim = 'Occupation'\n",
    "\n",
    "sns.histplot(binwidth = 1, x = first_dim, hue = second_dim, data = dfdropd, stat = 'count', multiple = 'dodge' )\n",
    "\n",
    "# exec- managerial and prof-speciality both most likely to earn over 50k, data well spread out - important feature. "
   ]
  },
  {
   "cell_type": "code",
   "execution_count": null,
   "id": "beab0df7",
   "metadata": {},
   "outputs": [],
   "source": [
    "# evaluation"
   ]
  }
 ],
 "metadata": {
  "kernelspec": {
   "display_name": "Python 3 (ipykernel)",
   "language": "python",
   "name": "python3"
  },
  "language_info": {
   "codemirror_mode": {
    "name": "ipython",
    "version": 3
   },
   "file_extension": ".py",
   "mimetype": "text/x-python",
   "name": "python",
   "nbconvert_exporter": "python",
   "pygments_lexer": "ipython3",
   "version": "3.7.13"
  }
 },
 "nbformat": 4,
 "nbformat_minor": 5
}
